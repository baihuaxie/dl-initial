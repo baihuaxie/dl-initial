{
 "metadata": {
  "language_info": {
   "codemirror_mode": {
    "name": "ipython",
    "version": 3
   },
   "file_extension": ".py",
   "mimetype": "text/x-python",
   "name": "python",
   "nbconvert_exporter": "python",
   "pygments_lexer": "ipython3",
   "version": "3.7.6-final"
  },
  "orig_nbformat": 2,
  "kernelspec": {
   "name": "Python 3.7.6 64-bit ('base': conda)",
   "display_name": "Python 3.7.6 64-bit ('base': conda)",
   "metadata": {
    "interpreter": {
     "hash": "c04e14e757fcd5c931b20c230f107ce3be1b6ffeb36695f3d01a868d65a6b9cc"
    }
   }
  }
 },
 "nbformat": 4,
 "nbformat_minor": 2,
 "cells": [
  {
   "source": [
    "### The concept of inheritance\n",
    "*  terminology:\n",
    "    * classes that inherit from another are called derived classe, subclasses or subtypes\n",
    "    * classes from which other classes are derived are called base classes or superclasses\n",
    "    * inherit, derive, extend are usually used interchangably in this context\n",
    "* class inheritance models a 'is a' relationship\n",
    "    * so in principle, if class A inherits class B, we can say sth like 'an object of class A is an object of class B'\n",
    "* the Liskov substitution principle:\n",
    "    * in a computer program, if S is a subtype of T, then objects of type T may be replaced by objects of type S without altering any of the desired properties of the program\n",
    "    * class hiearchy must always follow the Liskov principle\n",
    "* interface and implementation:\n",
    "    * the base class describes a common interface\n",
    "    * the derived classes share the common interface and specialize by providing a particular implementation\n",
    "    * objects of the base class can then be replaced by objects of any of the derived classes"
   ],
   "cell_type": "markdown",
   "metadata": {}
  },
  {
   "cell_type": "code",
   "execution_count": null,
   "metadata": {},
   "outputs": [],
   "source": [
    "\"\"\" the PayrollSystem class \"\"\"\n",
    "\n",
    "# in hr.py\n",
    "\n",
    "class PayrollSystem:\n",
    "    \"\"\"\n",
    "    PayroolSystem class\n",
    "\n",
    "    Requires interface:\n",
    "        id: (int)\n",
    "        name: (str)\n",
    "        calculate_payroll(): (float)\n",
    "    \"\"\"\n",
    "    def calculate_payroll_top(self, employees):\n",
    "        \"\"\"\n",
    "        Calculate payrolls for employees\n",
    "\n",
    "        Args:\n",
    "            employees: (list) a list of employee objects\n",
    "        \"\"\"\n",
    "        print('Calculating payroll')\n",
    "        print('===================')\n",
    "        for employee in employees:\n",
    "            print('Payroll for {} - {}'.format(employee.id, employee.name))\n",
    "            print('- Check amount: {}'.format(employee.calculate_payroll()))\n",
    "            print('')"
   ]
  },
  {
   "cell_type": "code",
   "execution_count": null,
   "metadata": {},
   "outputs": [],
   "source": [
    "\"\"\" the base class Employee \"\"\"\n",
    "\n",
    "# in employee.py\n",
    "\n",
    "# note that this class definition does not implement a base .calculate_payroll() method\n",
    "# so if I instantiate an Employee (a base class) object and call it by a PayrollSystem object, will issue en error\n",
    "\n",
    "class Employee:\n",
    "    \"\"\"\n",
    "    Base class for employees\n",
    "    \"\"\"\n",
    "    def __init__(self, id=None, name=None):\n",
    "        \"\"\"\n",
    "        Constructor\n",
    "\n",
    "        Args:\n",
    "            id: (str) a string that describes the employee's id\n",
    "            name: (str) a string for the employee's name\n",
    "        \"\"\"\n",
    "        self.id = id\n",
    "        self.name = name"
   ]
  },
  {
   "cell_type": "code",
   "execution_count": null,
   "metadata": {},
   "outputs": [],
   "source": [
    "\"\"\" base class Employee as abstract class \"\"\"\n",
    "\n",
    "# in employee.py\n",
    "\n",
    "# abstract base classes are for classes that exists to be inherited only and never instantiated\n",
    "# common practice to use leading underscores in abstract class names as a reminder\n",
    "# standard python lib abc provides utility to prevent instantiation; abstract classes should derive from ABC class\n",
    "\n",
    "from abc import ABC, abstractmethod\n",
    "\n",
    "class _Employee(ABC):\n",
    "    \"\"\"\n",
    "    Abstract base class Employee\n",
    "    \"\"\"\n",
    "    def __init__(self, id=None, name=None):\n",
    "        \"\"\"\n",
    "        Constructor\n",
    "        \"\"\"\n",
    "        self.id = id\n",
    "        self.name = name\n",
    "\n",
    "    @abstractmethod\n",
    "    # decorate with the abstractmethod decorator as a nice reminder to collaborators that any derived classes of _Employee must\n",
    "    # provide implementations to override the .calculate_payroll() method -> serves to satisfy the interface\n",
    "    def calculate_payroll():\n",
    "        # as an abstract method doesn't need to provide any implementation, just pass\n",
    "        pass"
   ]
  },
  {
   "cell_type": "code",
   "execution_count": null,
   "metadata": {},
   "outputs": [],
   "source": [
    "\"\"\" employee type: salary \"\"\"\n",
    "\n",
    "# in employee.py\n",
    "\n",
    "class SalaryEmployee(Employee):\n",
    "    \"\"\"\n",
    "    Class for employees with a weekly salary\n",
    "    \"\"\"\n",
    "    def __init__(self, id=None, name=None, weekly_salary=0.0):\n",
    "        \"\"\"\n",
    "        Constructor:\n",
    "\n",
    "        Args:\n",
    "            id: (str) a string that describes the employee's id\n",
    "            name: (str) a string for the employee's name\n",
    "            weekly_salary: (float) weekly salary            \n",
    "        \"\"\"\n",
    "        super().__init__(id, name)\n",
    "        self.weekly_salary = weekly_salary\n",
    "\n",
    "    def calculate_payroll(self):\n",
    "        \"\"\"\n",
    "        Returns weekly payroll\n",
    "        \"\"\"\n",
    "        return self.weekly_salary"
   ]
  },
  {
   "cell_type": "code",
   "execution_count": null,
   "metadata": {},
   "outputs": [],
   "source": [
    "\"\"\" employee type: hourly \"\"\"\n",
    "\n",
    "# in employee.py\n",
    "\n",
    "class HourlyEmployee(Employee):\n",
    "    \"\"\"\n",
    "    Class for hourly employees\n",
    "    \"\"\"\n",
    "    def __init__(self, id=None, name=None, hours_worked=0.0, hour_rate=0.0):\n",
    "        \"\"\"\n",
    "        Constructor\n",
    "\n",
    "        Args:\n",
    "            id: (str) a string that describes the employee's id\n",
    "            name: (str) a string for the employee's name\n",
    "            hours_worked: (float)\n",
    "            hour_rate: (float)\n",
    "        \"\"\"\n",
    "        super().__init__(id, name)\n",
    "        self.hours_worked = hours_worked\n",
    "        self.hour_rate = hour_rate\n",
    "\n",
    "    def calculate_payroll(self):\n",
    "        \"\"\" calculates payroll \"\"\"\n",
    "        return self.hours_worked * self.hour_rate"
   ]
  },
  {
   "cell_type": "code",
   "execution_count": null,
   "metadata": {},
   "outputs": [],
   "source": [
    "\"\"\" employee type: commission \"\"\"\n",
    "\n",
    "# in employee.py\n",
    "\n",
    "class CommissionEmployee(SalaryEmployee):\n",
    "    \"\"\"\n",
    "    Class for commission employees\n",
    "    \"\"\"\n",
    "    def __init__(self, id=None, name=None, weekly_salary=0.0, commission=0.0):\n",
    "        \"\"\"\n",
    "        Constructor\n",
    "        \"\"\"\n",
    "        super().__init__(id, name, weekly_salary)\n",
    "        self.commission = commission\n",
    "\n",
    "    def calculate_payroll(self):\n",
    "        \"\"\" calculates payroll \"\"\"\n",
    "        # alternatively, can do fixed = super().weekly_salary\n",
    "        # but in general is not good to access base class's property (instead of method) directly\n",
    "        # the problem is maintainence: if the base class's implementation for returning this value changes, would\n",
    "        # also need to change the implementations in the derived classes accordingly\n",
    "        fixed = super().calculate_payroll()\n",
    "        return fixed + self.commission"
   ]
  },
  {
   "source": [
    "### The class diagram\n",
    "* a good practice is to draw the class inheritance (and composition) diagram using the UML language when designing projects\n",
    "* here is the example for the payroll system so far:\n",
    "\n",
    "![payroll system class inheritance diagram](../97_assets/images/python-04-classes-uml-payroll-system.png)"
   ],
   "cell_type": "markdown",
   "metadata": {}
  },
  {
   "source": [
    "### duck typing:\n",
    "* a python concept\n",
    "* casual interpretation: if it behaves like a duck, it is a duck\n",
    "* it is a situation where an object of class S can be used to replace an object of class T, without class S having to inherit from class T\n",
    "    * the main purpose of duck typing is to eliminate the necessity of defining clear interfaces in the base class T\n",
    "* explanation:\n",
    "    * in python I don't need to define an interface in the base class\n",
    "    * instead, I could define a class that has the same interface (the required properties and methods) as the base class without having to inherit it\n",
    "* notes:\n",
    "    * people usually use inheritance to do two things:\n",
    "        * a) reuse the implementation codes in the base class (most of the time)\n",
    "        * b) share a common interface with the base class so that the derived class's object could be used in place of the base class in the main program\n",
    "    * duck typing essentially handles case b)\n",
    "        * if I need to use a common interface, can just define a class without inheriting from a base class but has the required interface implemented\n",
    "        * this makes the coding and maintainence more flexible, I think\n",
    "    * so in python usually use inheritance with the sole purpose of reusing actual implementation codes, not interfaces"
   ],
   "cell_type": "markdown",
   "metadata": {}
  },
  {
   "cell_type": "code",
   "execution_count": null,
   "metadata": {},
   "outputs": [],
   "source": [
    "\"\"\" duck typing example: disgruntled employee \"\"\"\n",
    "\n",
    "class DisgruntledEmployee:\n",
    "    # this class has the required interface as any Employee or its derived classes\n",
    "    def __init__(self, id=None, name=None):\n",
    "        self.id = id\n",
    "        self.name = name\n",
    "\n",
    "    def calculate_payroll(self):\n",
    "        return 1000000"
   ]
  },
  {
   "cell_type": "code",
   "execution_count": null,
   "metadata": {},
   "outputs": [],
   "source": [
    "\"\"\" main program \"\"\"\n",
    "\n",
    "# in program.py\n",
    "\n",
    "salary_employee = SalaryEmployee(1, 'Tony Stark', 1500)\n",
    "hourly_employee = HourlyEmployee(2, 'Steve Rojers', 40, 15)\n",
    "commission_employee = CommissionEmployee(3, 'Thanos', 1000, 250)\n",
    "disgruntled_employee = DisgruntledEmployee(100000, 'Thor')\n",
    "\n",
    "# instantiate a PayrollSystem class object\n",
    "payroll_system = PayrollSystem()\n",
    "# call PayrollSystem object\n",
    "payroll_system.calculate_payroll_top(\n",
    "    [\n",
    "        salary_employee,\n",
    "        hourly_employee,\n",
    "        commission_employee,\n",
    "        disgruntled_employee\n",
    "    ]\n",
    ")"
   ]
  },
  {
   "cell_type": "code",
   "execution_count": null,
   "metadata": {},
   "outputs": [],
   "source": []
  },
  {
   "source": [
    "### super()\n",
    "* in python 3 usually do super().\\__init\\__(self, *args)\n",
    "    * note that super().\\__init\\__() also works if:\n",
    "        * a) the base class's init() method does not take arguments\n",
    "        * b) the base class is derived from obj class (or a further base class that derives from obj class)\n",
    "        * see [this post](https://stackoverflow.com/questions/7629556/python-super-and-init-vs-init-self)for details\n",
    "* in python 2 it is required to provide arguments for super(), so usually do super(classname, self).\\__init\\__(self, *args)"
   ],
   "cell_type": "markdown",
   "metadata": {}
  },
  {
   "source": [
    "### Composition\n",
    "* terminology:\n",
    "    * a class that contains object(s) of another class is called a composite\n",
    "    * the object contained in a composite class is called a component\n",
    "* composition models a 'has a' relationship between classes\n",
    "* composite and component classes are loosely coupled:\n",
    "    * changes to the composite class never affects the component class\n",
    "    * changes to the component class rarely affect the composite class (why?)\n",
    "* usually composition doesn't require the composite class to have any knowledge of the component class in its definition\n",
    "    * it's sort of like a placeholder concept in the composite class, all I need is to define a variable to hold the component object (default value could be None)\n",
    "    * can assign to the variable (now a property of the composite class object) a component class object in main program"
   ],
   "cell_type": "markdown",
   "metadata": {}
  },
  {
   "cell_type": "code",
   "execution_count": null,
   "metadata": {},
   "outputs": [],
   "source": [
    "    "
   ]
  }
 ]
}