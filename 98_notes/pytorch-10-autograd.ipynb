{
 "metadata": {
  "language_info": {
   "codemirror_mode": {
    "name": "ipython",
    "version": 3
   },
   "file_extension": ".py",
   "mimetype": "text/x-python",
   "name": "python",
   "nbconvert_exporter": "python",
   "pygments_lexer": "ipython3",
   "version": "3.7.6-final"
  },
  "orig_nbformat": 2,
  "kernelspec": {
   "name": "python3",
   "display_name": "Python 3"
  }
 },
 "nbformat": 4,
 "nbformat_minor": 2,
 "cells": [
  {
   "source": [
    "### leaf nodes:\n",
    "* a PyTorch leaf node is a tensor which is not created by any operation tracked by the autograd engine\n",
    "* leaf nodes:\n",
    "    * store gradients\n",
    "    * are usually the inputs or weights to the forward graph\n",
    "    * are not created by operations that can be traced back to any tensor that has requires_grad=True\n",
    "* the other type of nodes in a PyTorch compute graph is the intermediate nodes:\n",
    "    * have a grad_fn field that points to a node in the backward graph\n",
    "    * do not store gradients by default, unless register a hook called retain_grad()\n"
   ],
   "cell_type": "markdown",
   "metadata": {}
  },
  {
   "cell_type": "code",
   "execution_count": null,
   "metadata": {},
   "outputs": [],
   "source": [
    "\"\"\" leaf nodes & intermediate nodes \"\"\"\n",
    "\n",
    "import torch\n",
    "\n",
    "# leaf node A\n",
    "a = torch.tensor(1.0, requires_grad=True)\n",
    "# leaf node B\n",
    "b = torch.tensor(2.0, requires_grad=True)\n",
    "# intermediate node C\n",
    "c = a*b\n",
    "print(a)\n",
    "print(b)\n",
    "print(c)"
   ]
  },
  {
   "cell_type": "code",
   "execution_count": null,
   "metadata": {},
   "outputs": [],
   "source": []
  }
 ]
}