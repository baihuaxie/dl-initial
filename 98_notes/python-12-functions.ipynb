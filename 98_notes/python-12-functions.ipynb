{
 "metadata": {
  "language_info": {
   "codemirror_mode": {
    "name": "ipython",
    "version": 3
   },
   "file_extension": ".py",
   "mimetype": "text/x-python",
   "name": "python",
   "nbconvert_exporter": "python",
   "pygments_lexer": "ipython3",
   "version": "3.7.6-final"
  },
  "orig_nbformat": 2,
  "kernelspec": {
   "name": "python376jvsc74a57bd0c04e14e757fcd5c931b20c230f107ce3be1b6ffeb36695f3d01a868d65a6b9cc",
   "display_name": "Python 3.7.6 64-bit (conda)"
  }
 },
 "nbformat": 4,
 "nbformat_minor": 2,
 "cells": [
  {
   "cell_type": "code",
   "execution_count": null,
   "metadata": {},
   "outputs": [],
   "source": [
    "\"\"\" use partial() \"\"\"\n",
    "\n",
    "from functools import partial\n",
    "\n",
    "### useful when I want to pass a partial of arguments to a function, with the rest of the arguments fixed (but no need using keyword arguments)\n",
    "### see this link: https://stackoverflow.com/questions/15331726/how-does-functools-partial-do-what-it-does\n",
    "\n",
    "### a function that takes 3 positional arguments\n",
    "def func(a, b, c):\n",
    "    return (a + b) % c\n",
    "\n",
    "modular_2 = partial(func, 2)\n",
    "modular_3 = partial(func, 3)\n",
    "\n",
    "### by calling the callable returned by partial(), the positional argument c is fixed\n",
    "print(modular_2(2, 3))\n",
    "print(modular_2(4, 6))\n",
    "print(modular_3(2, 3))\n",
    "print(modular_3(10, 3))"
   ]
  },
  {
   "cell_type": "code",
   "execution_count": 2,
   "metadata": {},
   "outputs": [
    {
     "output_type": "error",
     "ename": "TypeError",
     "evalue": "func() takes 1 positional argument but 2 were given",
     "traceback": [
      "\u001b[1;31m---------------------------------------------------------------------------\u001b[0m",
      "\u001b[1;31mTypeError\u001b[0m                                 Traceback (most recent call last)",
      "\u001b[1;32m<ipython-input-2-b0fda843ec31>\u001b[0m in \u001b[0;36m<module>\u001b[1;34m\u001b[0m\n\u001b[0;32m      5\u001b[0m \u001b[1;33m\u001b[0m\u001b[0m\n\u001b[0;32m      6\u001b[0m \u001b[0mfunc\u001b[0m\u001b[1;33m(\u001b[0m\u001b[1;36m1\u001b[0m\u001b[1;33m,\u001b[0m \u001b[0mb\u001b[0m\u001b[1;33m=\u001b[0m\u001b[1;36m2\u001b[0m\u001b[1;33m)\u001b[0m\u001b[1;33m\u001b[0m\u001b[1;33m\u001b[0m\u001b[0m\n\u001b[1;32m----> 7\u001b[1;33m \u001b[0mfunc\u001b[0m\u001b[1;33m(\u001b[0m\u001b[1;36m1\u001b[0m\u001b[1;33m,\u001b[0m \u001b[1;36m2\u001b[0m\u001b[1;33m)\u001b[0m\u001b[1;33m\u001b[0m\u001b[1;33m\u001b[0m\u001b[0m\n\u001b[0m",
      "\u001b[1;31mTypeError\u001b[0m: func() takes 1 positional argument but 2 were given"
     ]
    }
   ],
   "source": [
    "\"\"\" use * in parameter list to specify all subsequent parameters are keyword-only \"\"\"\n",
    "\n",
    "### see this link: https://stackoverflow.com/questions/51362773/what-does-mean-as-a-parameter-in-python\n",
    "\n",
    "def func(a, *, b, c=1):\n",
    "    return a*b+c\n",
    "\n",
    "func(1, b=2)    ### correct\n",
    "func(1, 2)      ### error"
   ]
  },
  {
   "cell_type": "code",
   "execution_count": null,
   "metadata": {},
   "outputs": [],
   "source": []
  }
 ]
}