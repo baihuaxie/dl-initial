{
 "cells": [
  {
   "cell_type": "code",
   "execution_count": null,
   "metadata": {},
   "outputs": [],
   "source": [
    "\"\"\" use partial() \"\"\"\n",
    "\n",
    "from functools import partial\n",
    "\n",
    "### useful when I want to pass a partial of arguments to a function, with the rest of the arguments fixed (but no need using keyword arguments)\n",
    "### see this link: https://stackoverflow.com/questions/15331726/how-does-functools-partial-do-what-it-does\n",
    "\n",
    "### a function that takes 3 positional arguments\n",
    "def func(a, b, c):\n",
    "    return (a + b) % c\n",
    "\n",
    "modular_2 = partial(func, 2)\n",
    "modular_3 = partial(func, 3)\n",
    "\n",
    "### by calling the callable returned by partial(), the positional argument c is fixed\n",
    "print(modular_2(2, 3))\n",
    "print(modular_2(4, 6))\n",
    "print(modular_3(2, 3))\n",
    "print(modular_3(10, 3))"
   ]
  },
  {
   "cell_type": "code",
   "execution_count": null,
   "metadata": {},
   "outputs": [],
   "source": [
    "\"\"\" use * in parameter list to specify all subsequent parameters are keyword-only \"\"\"\n",
    "\n",
    "### see this link: https://stackoverflow.com/questions/51362773/what-does-mean-as-a-parameter-in-python\n",
    "\n",
    "def func(a, *, b, c=1):\n",
    "    return a*b+c\n",
    "\n",
    "func(1, b=2)    ### correct\n",
    "func(1, 2)      ### error"
   ]
  },
  {
   "cell_type": "code",
   "execution_count": null,
   "metadata": {},
   "outputs": [],
   "source": [
    "\"\"\" I can pass a key-word argument as a positional argument to function. \"\"\"\n",
    "\n",
    "# the name of the positional argument `gender` must match the name `gender` in the keyword argument list in function call.\n",
    "# the order of the arguments doesn't matter.\n",
    "def func(a, b, c, gender, **kwargs):\n",
    "    print(a)\n",
    "    print(b)\n",
    "    print(c)\n",
    "    print(gender)\n",
    "    for kw, v in kwargs.items():\n",
    "        print(v)\n",
    "\n",
    "func(1, 2, 3, name=\"john\", gender=\"male\")"
   ]
  },
  {
   "cell_type": "code",
   "execution_count": null,
   "metadata": {},
   "outputs": [],
   "source": [
    "\"\"\" add functions to a list \"\"\"\n",
    "# see https://stackoverflow.com/questions/26881396/how-to-add-a-function-call-to-a-list\n",
    "# use functools.partial"
   ]
  }
 ],
 "metadata": {
  "interpreter": {
   "hash": "c04e14e757fcd5c931b20c230f107ce3be1b6ffeb36695f3d01a868d65a6b9cc"
  },
  "kernelspec": {
   "display_name": "Python 3.7.6 64-bit ('base': conda)",
   "name": "python3"
  },
  "language_info": {
   "codemirror_mode": {
    "name": "ipython",
    "version": 3
   },
   "file_extension": ".py",
   "mimetype": "text/x-python",
   "name": "python",
   "nbconvert_exporter": "python",
   "pygments_lexer": "ipython3",
   "version": "3.7.6"
  },
  "orig_nbformat": 2
 },
 "nbformat": 4,
 "nbformat_minor": 2
}
