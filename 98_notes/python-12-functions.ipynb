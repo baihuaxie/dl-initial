{
 "metadata": {
  "language_info": {
   "codemirror_mode": {
    "name": "ipython",
    "version": 3
   },
   "file_extension": ".py",
   "mimetype": "text/x-python",
   "name": "python",
   "nbconvert_exporter": "python",
   "pygments_lexer": "ipython3",
   "version": "3.7.6"
  },
  "orig_nbformat": 2,
  "kernelspec": {
   "name": "python3",
   "display_name": "Python 3.7.6 64-bit ('base': conda)"
  },
  "interpreter": {
   "hash": "c04e14e757fcd5c931b20c230f107ce3be1b6ffeb36695f3d01a868d65a6b9cc"
  }
 },
 "nbformat": 4,
 "nbformat_minor": 2,
 "cells": [
  {
   "cell_type": "code",
   "execution_count": null,
   "source": [
    "\"\"\" use partial() \"\"\"\r\n",
    "\r\n",
    "from functools import partial\r\n",
    "\r\n",
    "### useful when I want to pass a partial of arguments to a function, with the rest of the arguments fixed (but no need using keyword arguments)\r\n",
    "### see this link: https://stackoverflow.com/questions/15331726/how-does-functools-partial-do-what-it-does\r\n",
    "\r\n",
    "### a function that takes 3 positional arguments\r\n",
    "def func(a, b, c):\r\n",
    "    return (a + b) % c\r\n",
    "\r\n",
    "modular_2 = partial(func, 2)\r\n",
    "modular_3 = partial(func, 3)\r\n",
    "\r\n",
    "### by calling the callable returned by partial(), the positional argument c is fixed\r\n",
    "print(modular_2(2, 3))\r\n",
    "print(modular_2(4, 6))\r\n",
    "print(modular_3(2, 3))\r\n",
    "print(modular_3(10, 3))"
   ],
   "outputs": [],
   "metadata": {}
  },
  {
   "cell_type": "code",
   "execution_count": null,
   "source": [
    "\"\"\" use * in parameter list to specify all subsequent parameters are keyword-only \"\"\"\r\n",
    "\r\n",
    "### see this link: https://stackoverflow.com/questions/51362773/what-does-mean-as-a-parameter-in-python\r\n",
    "\r\n",
    "def func(a, *, b, c=1):\r\n",
    "    return a*b+c\r\n",
    "\r\n",
    "func(1, b=2)    ### correct\r\n",
    "func(1, 2)      ### error"
   ],
   "outputs": [],
   "metadata": {}
  },
  {
   "cell_type": "code",
   "execution_count": 9,
   "source": [
    "\"\"\" I can pass a key-word argument as a positional argument to function. \"\"\"\r\n",
    "\r\n",
    "# the name of the positional argument `gender` must match the name `gender` in the keyword argument list in function call.\r\n",
    "# the order of the arguments doesn't matter.\r\n",
    "def func(a, b, c, gender, **kwargs):\r\n",
    "    print(a)\r\n",
    "    print(b)\r\n",
    "    print(c)\r\n",
    "    print(gender)\r\n",
    "    for kw, v in kwargs.items():\r\n",
    "        print(v)\r\n",
    "\r\n",
    "func(1, 2, 3, name=\"john\", gender=\"male\")"
   ],
   "outputs": [
    {
     "output_type": "stream",
     "name": "stdout",
     "text": [
      "1\n",
      "2\n",
      "3\n",
      "male\n",
      "john\n"
     ]
    }
   ],
   "metadata": {}
  },
  {
   "cell_type": "code",
   "execution_count": null,
   "source": [],
   "outputs": [],
   "metadata": {}
  }
 ]
}