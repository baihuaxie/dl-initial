{
 "cells": [
  {
   "cell_type": "code",
   "execution_count": null,
   "metadata": {},
   "outputs": [],
   "source": [
    "\"\"\" iterate through two lists in parallel using zip \"\"\"\n",
    "# see https://stackoverflow.com/questions/1663807/how-to-iterate-through-two-lists-in-parallel\n",
    "foo = [\"a\", \"b\", \"c\"]\n",
    "bar = [1,2,3]\n",
    "for f, b in zip(foo, bar):\n",
    "    print(f, b)\n",
    "\n",
    "# further: iterate through two dicts in parallel\n",
    "# see https://stackoverflow.com/questions/20736709/how-to-iterate-over-two-dictionaries-at-once-and-get-a-result-using-values-and-k/20736773\n",
    "d = {'a':5, 'b':6, 'c': 3}\n",
    "d2 = {'a':6, 'b':7, 'c': 3}\n",
    "for (k,v), (k2,v2) in zip(d.items(), d2.items()):\n",
    "    print(k, v)\n",
    "    print(k2, v2)"
   ]
  },
  {
   "cell_type": "code",
   "execution_count": null,
   "metadata": {},
   "outputs": [],
   "source": [
    "\"\"\" convert dict of lists to list of dicts, and vice versa. \"\"\"\n",
    "\n",
    "# see this answer: https://stackoverflow.com/questions/5558418/list-of-dicts-to-from-dict-of-lists\n",
    "\n",
    "# dl to ld\n",
    "dl = {\"a\": [3,4,5], \"b\": [9,16,25]}\n",
    "print(dl)\n",
    "v = [dict(zip(dl, t)) for t in zip(*dl.values())]\n",
    "print(v)\n",
    "\n",
    "# 1. *dl.values() return the lists from dict's values;\n",
    "# if didn't use *, then it returns a python object called dict_values; the * operator just gets the actual lists.\n",
    "print(*dl.values())\n",
    "# 2. by zipping all lists from dict's values and iterate using the for-loop, each iteration I get a set of values where each value is from each of the list\n",
    "# i.e. each element in t is a value corresponding to a separate key in the original dictionary\n",
    "t = next(iter(zip(*dl.values())))\n",
    "print(t)\n",
    "# 3. the dict dl itself is an iterable, so is t\n",
    "# use zip() on a dict object would only zip its keys, not values; so each key in the dict is paired with a corresponding value from t;\n",
    "x = next(iter(zip(dl, t)))\n",
    "print(x)\n",
    "# 4. use dict() on this zip would convert it into a dictionary again, but this dictionary would contain only one value for each key, instead of a list of values;\n",
    "# then turn this into a list of dicts using list comprehension"
   ]
  },
  {
   "cell_type": "code",
   "execution_count": null,
   "metadata": {},
   "outputs": [],
   "source": [
    "import numpy as np\n",
    "\n",
    "x = np.random.randint(0, 20, (5, 10))\n",
    "print(x)"
   ]
  },
  {
   "cell_type": "code",
   "execution_count": null,
   "metadata": {},
   "outputs": [],
   "source": []
  }
 ],
 "metadata": {
  "interpreter": {
   "hash": "c04e14e757fcd5c931b20c230f107ce3be1b6ffeb36695f3d01a868d65a6b9cc"
  },
  "kernelspec": {
   "display_name": "Python 3.7.6 64-bit ('base': conda)",
   "language": "python",
   "name": "python3"
  },
  "language_info": {
   "codemirror_mode": {
    "name": "ipython",
    "version": 3
   },
   "file_extension": ".py",
   "mimetype": "text/x-python",
   "name": "python",
   "nbconvert_exporter": "python",
   "pygments_lexer": "ipython3",
   "version": "3.7.6"
  },
  "orig_nbformat": 4
 },
 "nbformat": 4,
 "nbformat_minor": 2
}
