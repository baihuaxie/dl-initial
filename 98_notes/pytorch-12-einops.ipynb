{
 "metadata": {
  "language_info": {
   "codemirror_mode": {
    "name": "ipython",
    "version": 3
   },
   "file_extension": ".py",
   "mimetype": "text/x-python",
   "name": "python",
   "nbconvert_exporter": "python",
   "pygments_lexer": "ipython3",
   "version": "3.7.6-final"
  },
  "orig_nbformat": 2,
  "kernelspec": {
   "name": "python376jvsc74a57bd0c04e14e757fcd5c931b20c230f107ce3be1b6ffeb36695f3d01a868d65a6b9cc",
   "display_name": "Python 3.7.6 64-bit (conda)"
  }
 },
 "nbformat": 4,
 "nbformat_minor": 2,
 "cells": [
  {
   "cell_type": "code",
   "execution_count": null,
   "metadata": {},
   "outputs": [],
   "source": [
    "\"\"\" repeat \"\"\"\n",
    "\n",
    "import einops\n",
    "import torch\n",
    "\n",
    "x = torch.rand((2,2))\n",
    "print(x)\n",
    "print(x.shape)\n",
    "y = einops.repeat(x, 'm n -> k m n', k=5)\n",
    "print(y)\n",
    "print(y.shape)"
   ]
  },
  {
   "cell_type": "code",
   "execution_count": null,
   "metadata": {},
   "outputs": [],
   "source": [
    "import torch\n",
    "\n",
    "a = torch.tensor([[1, 2]])\n",
    "b = torch.tensor([[3, 4]])\n",
    "print(a.shape)\n",
    "print(b.shape)\n",
    "torch.einsum('ik,jk->ij', a, b)"
   ]
  },
  {
   "cell_type": "code",
   "execution_count": null,
   "metadata": {},
   "outputs": [],
   "source": [
    "import torch\n",
    "import einops\n",
    "\n",
    "x = torch.tensor([1,2,3,4])\n",
    "print(x.shape)\n",
    "print(x)\n",
    "a = torch.unsqueeze(x, -1)\n",
    "print(a.shape)\n",
    "b = einops.repeat(x, 'l -> l h', h=2)\n",
    "print(b.shape)\n",
    "print(b)\n",
    "c = einops.repeat(x, 'l -> l h', h=1)\n",
    "print(c.shape)\n",
    "print(c)"
   ]
  },
  {
   "cell_type": "code",
   "execution_count": null,
   "metadata": {},
   "outputs": [],
   "source": []
  }
 ]
}