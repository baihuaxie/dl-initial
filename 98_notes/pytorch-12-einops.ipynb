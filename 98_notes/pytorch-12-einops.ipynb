{
 "cells": [
  {
   "cell_type": "code",
   "execution_count": null,
   "metadata": {},
   "outputs": [],
   "source": [
    "\"\"\" repeat \"\"\"\n",
    "\n",
    "import einops\n",
    "import torch\n",
    "\n",
    "x = torch.rand((2,2))\n",
    "print(x)\n",
    "print(x.shape)\n",
    "y = einops.repeat(x, 'm n -> k m n', k=5)\n",
    "print(y)\n",
    "print(y.shape)"
   ]
  },
  {
   "cell_type": "code",
   "execution_count": null,
   "metadata": {},
   "outputs": [],
   "source": [
    "import torch\n",
    "\n",
    "a = torch.tensor([[1, 2]])\n",
    "b = torch.tensor([[3, 4]])\n",
    "print(a.shape)\n",
    "print(b.shape)\n",
    "torch.einsum('ik,jk->ij', a, b)"
   ]
  },
  {
   "cell_type": "code",
   "execution_count": null,
   "metadata": {},
   "outputs": [],
   "source": [
    "import torch\n",
    "import einops\n",
    "\n",
    "x = torch.tensor([1,2,3,4])\n",
    "print(x.shape)\n",
    "print(x)\n",
    "a = torch.unsqueeze(x, -1)\n",
    "print(a.shape)\n",
    "b = einops.repeat(x, 'l -> l h', h=2)\n",
    "print(b.shape)\n",
    "print(b)\n",
    "c = einops.repeat(x, 'l -> l h', h=1)\n",
    "print(c.shape)\n",
    "print(c)"
   ]
  },
  {
   "cell_type": "code",
   "execution_count": null,
   "metadata": {},
   "outputs": [],
   "source": [
    "\"\"\" use rearrange to expand a dimension into multiple dimensions \"\"\"\n",
    "\n",
    "import einops\n",
    "import torch\n",
    "\n",
    "x = torch.randint(0,9,(2,4,6))\n",
    "print(x)\n",
    "print(x.shape)\n",
    "y = einops.rearrange(x, 'b n (h d) -> b h n d', h=3)\n",
    "print(y)\n",
    "print(y.shape)"
   ]
  },
  {
   "cell_type": "code",
   "execution_count": null,
   "metadata": {},
   "outputs": [],
   "source": [
    "\"\"\" add dummy dimensions i.e. similar to tensor[:, None, :] \"\"\"\n",
    "import torch\n",
    "from einops import repeat\n",
    "\n",
    "x = torch.randint(0, 9, (1,))\n",
    "print(x)\n",
    "x = repeat(x, 'h -> a b h c', a=1,b=1,c=2)\n",
    "print(x.shape)"
   ]
  },
  {
   "cell_type": "code",
   "execution_count": null,
   "metadata": {},
   "outputs": [],
   "source": []
  }
 ],
 "metadata": {
  "interpreter": {
   "hash": "c04e14e757fcd5c931b20c230f107ce3be1b6ffeb36695f3d01a868d65a6b9cc"
  },
  "kernelspec": {
   "display_name": "Python 3.7.6 64-bit ('base': conda)",
   "name": "python3"
  },
  "language_info": {
   "codemirror_mode": {
    "name": "ipython",
    "version": 3
   },
   "file_extension": ".py",
   "mimetype": "text/x-python",
   "name": "python",
   "nbconvert_exporter": "python",
   "pygments_lexer": "ipython3",
   "version": "3.7.6"
  },
  "orig_nbformat": 2
 },
 "nbformat": 4,
 "nbformat_minor": 2
}
