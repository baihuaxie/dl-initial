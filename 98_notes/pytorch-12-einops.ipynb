{
 "metadata": {
  "language_info": {
   "codemirror_mode": {
    "name": "ipython",
    "version": 3
   },
   "file_extension": ".py",
   "mimetype": "text/x-python",
   "name": "python",
   "nbconvert_exporter": "python",
   "pygments_lexer": "ipython3",
   "version": "3.7.6"
  },
  "orig_nbformat": 2,
  "kernelspec": {
   "name": "python3",
   "display_name": "Python 3.7.6 64-bit ('base': conda)"
  },
  "interpreter": {
   "hash": "c04e14e757fcd5c931b20c230f107ce3be1b6ffeb36695f3d01a868d65a6b9cc"
  }
 },
 "nbformat": 4,
 "nbformat_minor": 2,
 "cells": [
  {
   "cell_type": "code",
   "execution_count": null,
   "source": [
    "\"\"\" repeat \"\"\"\r\n",
    "\r\n",
    "import einops\r\n",
    "import torch\r\n",
    "\r\n",
    "x = torch.rand((2,2))\r\n",
    "print(x)\r\n",
    "print(x.shape)\r\n",
    "y = einops.repeat(x, 'm n -> k m n', k=5)\r\n",
    "print(y)\r\n",
    "print(y.shape)"
   ],
   "outputs": [],
   "metadata": {}
  },
  {
   "cell_type": "code",
   "execution_count": null,
   "source": [
    "import torch\r\n",
    "\r\n",
    "a = torch.tensor([[1, 2]])\r\n",
    "b = torch.tensor([[3, 4]])\r\n",
    "print(a.shape)\r\n",
    "print(b.shape)\r\n",
    "torch.einsum('ik,jk->ij', a, b)"
   ],
   "outputs": [],
   "metadata": {}
  },
  {
   "cell_type": "code",
   "execution_count": null,
   "source": [
    "import torch\r\n",
    "import einops\r\n",
    "\r\n",
    "x = torch.tensor([1,2,3,4])\r\n",
    "print(x.shape)\r\n",
    "print(x)\r\n",
    "a = torch.unsqueeze(x, -1)\r\n",
    "print(a.shape)\r\n",
    "b = einops.repeat(x, 'l -> l h', h=2)\r\n",
    "print(b.shape)\r\n",
    "print(b)\r\n",
    "c = einops.repeat(x, 'l -> l h', h=1)\r\n",
    "print(c.shape)\r\n",
    "print(c)"
   ],
   "outputs": [],
   "metadata": {}
  },
  {
   "cell_type": "code",
   "execution_count": null,
   "source": [
    "\"\"\" use rearrange to expand a dimension into multiple dimensions \"\"\"\r\n",
    "\r\n",
    "import einops\r\n",
    "import torch\r\n",
    "\r\n",
    "x = torch.randint(0,9,(2,4,6))\r\n",
    "print(x)\r\n",
    "print(x.shape)\r\n",
    "y = einops.rearrange(x, 'b n (h d) -> b h n d', h=3)\r\n",
    "print(y)\r\n",
    "print(y.shape)"
   ],
   "outputs": [],
   "metadata": {}
  },
  {
   "cell_type": "code",
   "execution_count": null,
   "source": [
    "import torch\r\n",
    "from einops import repeat\r\n",
    "\r\n",
    "x = torch.randint(0, 9, (1,))\r\n",
    "print(x)\r\n",
    "x = repeat(x, 'h -> a b h c', a=1,b=1,c=2)\r\n",
    "print(x.shape)"
   ],
   "outputs": [],
   "metadata": {}
  },
  {
   "cell_type": "code",
   "execution_count": null,
   "source": [],
   "outputs": [],
   "metadata": {}
  }
 ]
}