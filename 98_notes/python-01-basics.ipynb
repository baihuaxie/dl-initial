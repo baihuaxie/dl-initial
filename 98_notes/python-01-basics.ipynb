{
 "cells": [
  {
   "cell_type": "code",
   "execution_count": null,
   "metadata": {},
   "outputs": [],
   "source": [
    "\"\"\" create 2d list \"\"\"\n",
    "\n",
    "s = 'abcdef'\n",
    "p = 'xyz'\n",
    "\n",
    "# this creates a len(p) x len(s) 2d matrix (col x row)\n",
    "V = [[s[i]+p[j] for j in range(len(p))] for i in range(len(s))]\n",
    "# when indexing, the index for the outter list comprehension (in this case, for len(s)) comes before the index for the inner list comprehension (in this case, for len(p))\n",
    "i = 3\n",
    "j = 2\n",
    "V[i][j]\n",
    "\n",
    "# if creating by this way, there would be in fact only one list; changing [i][j] would affect all rows\n",
    "# becasue python uses shallow list instantiaion\n",
    "V2 = [[0] * len(p)] * len(s)"
   ]
  },
  {
   "source": [
    "### use 'or' operator in variable assignments\n",
    "* equivalent to conditional assignments"
   ],
   "cell_type": "markdown",
   "metadata": {}
  },
  {
   "source": [
    "\"\"\" use or operator in assignments \"\"\"\n",
    "\n",
    "# if a is not 0 or None, then x = a\n",
    "a = 10\n",
    "b = 12\n",
    "x = a or b\n",
    "print('x: {}'.format(x))\n",
    "\n",
    "# otherwise y = d\n",
    "c = 0\n",
    "d = 12\n",
    "y = c or d\n",
    "print('y: {}'.format(y))"
   ],
   "cell_type": "code",
   "metadata": {
    "tags": []
   },
   "execution_count": null,
   "outputs": []
  },
  {
   "cell_type": "code",
   "execution_count": null,
   "metadata": {},
   "outputs": [],
   "source": [
    "\"\"\" \n",
    "np.nan_to_num \n",
    "- replaces NaN, posinf, neginf with definitive numbers\n",
    "- by default NaN=0.0\n",
    "\"\"\"\n",
    "\n",
    "import numpy as np\n",
    "\n",
    "np.nan_to_num(np.nan)"
   ]
  },
  {
   "cell_type": "code",
   "execution_count": null,
   "metadata": {
    "tags": []
   },
   "outputs": [],
   "source": [
    "\"\"\"\n",
    "np.clip(a, a_min, a_max)\n",
    "- clip the values of an array into between the interval [a_min, a_max]\n",
    "\"\"\"\n",
    "\n",
    "import numpy as np\n",
    "\n",
    "a = np.arange(10)\n",
    "print(a)\n",
    "b = np.clip(a, 2, 7)\n",
    "print(b)"
   ]
  },
  {
   "source": [
    "### modules\n",
    "* need to add a __init__.py file (could be empty) under a folder to make it an importable Python module"
   ],
   "cell_type": "markdown",
   "metadata": {}
  },
  {
   "source": [
    "### *args, **kwargs\n",
    "* these are common idioms in Python to allow arbitrary number of arguments and keyword-argument pairs to be passed to a function\n",
    "* refer to [this post](https://stackoverflow.com/questions/36901/what-does-double-star-asterisk-and-star-asterisk-do-for-parameters) for details\n",
    "\n",
    "common use cases:\n",
    "* 1) allow a function to accept any number of arguments\n",
    "    * can be used with other fixed arguments together\n",
    "* 2) unpack the list of arguments"
   ],
   "cell_type": "markdown",
   "metadata": {}
  },
  {
   "source": [
    "### dict.get(key) instead of dict\\[key\\]\n",
    "* former method is preferred as it would return a default value for the key if the key is not present; second method would just raise a ValueError\n",
    "* check [this answer](https://stackoverflow.com/questions/11041405/why-dict-getkey-instead-of-dictkey) for details"
   ],
   "cell_type": "markdown",
   "metadata": {}
  },
  {
   "cell_type": "code",
   "execution_count": null,
   "metadata": {},
   "outputs": [],
   "source": [
    "\"\"\" use np.isscalar to check if a variable is a scalar value \"\"\"\n",
    "import numpy as np\n",
    "\n",
    "x = 3\n",
    "print(np.isscalar(x))\n",
    "y = np.ndarray((2,3))\n",
    "print(np.isscalar(y))"
   ]
  },
  {
   "cell_type": "code",
   "execution_count": null,
   "metadata": {},
   "outputs": [],
   "source": [
    "\"\"\" list comprehension of multiple objects + zip \"\"\"\n",
    "\n",
    "def func(a):\n",
    "    return a, a**2\n",
    "\n",
    "x = [func(i) for i in range(5)]\n",
    "print(x)    # returns a list of 5 tuples, each tuple is (i, i**2)\n",
    "print(*x)   # *lst returns each element separately\n",
    "\n",
    "# use zip(*list) to unpack list comprehension\n",
    "# zip(iter1, iter2, ...) takes multiple iterables, get one element from each iterable, put into a new iterable; repeat until last element then return\n",
    "# e.g, if each iter has 5 elements, a total of 10 iterables; zip() would return 5 iterables each with 10 elements\n",
    "i, i_sq = zip(*[func(i) for i in range(5)])\n",
    "print(i)\n",
    "print(i_sq)"
   ]
  },
  {
   "cell_type": "code",
   "execution_count": null,
   "metadata": {},
   "outputs": [],
   "source": [
    "\"\"\" list split \"\"\"\n",
    "lst = [1, 2, 3, 4, 5, 6]\n",
    "n = 1\n",
    "[lst[i:i+n] for i in range(0, len(lst), n)]"
   ]
  },
  {
   "cell_type": "code",
   "execution_count": null,
   "metadata": {},
   "outputs": [],
   "source": [
    "\"\"\" use getattr(class, str) to call a class method by string name \"\"\"\n",
    "\n",
    "class myClass:\n",
    "    def add(x, y):\n",
    "        return x+y\n",
    "    \n",
    "    def subtract(x, y):\n",
    "        return x-y\n",
    "\n",
    "print(getattr(myClass, 'add')(2, 3))\n",
    "print(getattr(myClass, 'subtract')(5, 3))"
   ]
  },
  {
   "cell_type": "code",
   "execution_count": null,
   "metadata": {},
   "outputs": [],
   "source": [
    "\"\"\"  turning a dict into kwargs and pass to a function call \"\"\"\n",
    "\n",
    "dct = dict(a=1, b=2)\n",
    "\n",
    "def func(a=0, b=0):\n",
    "    return a + b\n",
    "\n",
    "func(**dct)\n",
    "\n",
    "# note that can not directly print **dct, will produce error"
   ]
  },
  {
   "cell_type": "code",
   "execution_count": null,
   "metadata": {},
   "outputs": [],
   "source": [
    "\"\"\" quick way to round up a number (similar to math.ceil) \"\"\"\n",
    "x = 10\n",
    "y = 3\n",
    "x // y + (x % y > 0)"
   ]
  },
  {
   "cell_type": "code",
   "execution_count": null,
   "metadata": {},
   "outputs": [],
   "source": [
    "\"\"\" access dict keys hierarchically \"\"\"\n",
    "dct = {'a': {'kwargs':{}}}\n",
    "dct['a']['kwargs'].update({'b':0})\n",
    "dct"
   ]
  },
  {
   "cell_type": "code",
   "execution_count": null,
   "metadata": {},
   "outputs": [],
   "source": [
    "\"\"\" dict.update() is inplace operation & update dict_a might affect dict_b as well \"\"\"\n",
    "\n",
    "dct_a = {}\n",
    "dct_b = {'a': {}}\n",
    "print(\"dct_a {}\".format(dct_a))\n",
    "print(\"dct_b {}\".format(dct_b))\n",
    "\n",
    "# update dct_a using items in dct_b will create a link between these two objects\n",
    "# inplace modification of dct_a will also modify dct_b\n",
    "dct_a.update(dct_b)\n",
    "print(\"dct_a {}\".format(dct_a))\n",
    "print(\"dct_b {}\".format(dct_b))\n",
    "\n",
    "# this update on dct_a will also modify dct_b\n",
    "dct_a['a'].update({'b':2})\n",
    "print(\"dct_a {}\".format(dct_a))\n",
    "print(\"dct_b {}\".format(dct_b))"
   ]
  },
  {
   "cell_type": "code",
   "execution_count": null,
   "metadata": {},
   "outputs": [],
   "source": [
    "\"\"\" \n",
    "list.extend(): add elements from an iterable to the list\n",
    "\"\"\"\n",
    "\n",
    "a = [1, 2, 3]\n",
    "b = [1, 2, 3]\n",
    "c = [1, 2, 3]\n",
    "# extend\n",
    "a.extend([4, 5])\n",
    "print(a)\n",
    "# append\n",
    "b.append([4, 5])\n",
    "print(b)\n",
    "# += has same effect as .extend()\n",
    "c += [4, 5]\n",
    "print(c)"
   ]
  },
  {
   "cell_type": "code",
   "execution_count": null,
   "metadata": {},
   "outputs": [],
   "source": []
  }
 ],
 "metadata": {
  "language_info": {
   "codemirror_mode": {
    "name": "ipython",
    "version": 3
   },
   "file_extension": ".py",
   "mimetype": "text/x-python",
   "name": "python",
   "nbconvert_exporter": "python",
   "pygments_lexer": "ipython3",
   "version": "3.7.6-final"
  },
  "orig_nbformat": 2,
  "kernelspec": {
   "name": "python3",
   "display_name": "Python 3",
   "language": "python"
  }
 },
 "nbformat": 4,
 "nbformat_minor": 2
}