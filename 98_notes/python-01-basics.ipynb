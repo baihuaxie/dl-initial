{
 "cells": [
  {
   "cell_type": "code",
   "execution_count": null,
   "source": [
    "\"\"\" create 2d list \"\"\"\r\n",
    "\r\n",
    "s = 'abcdef'\r\n",
    "p = 'xyz'\r\n",
    "\r\n",
    "# this creates a len(p) x len(s) 2d matrix (col x row)\r\n",
    "V = [[s[i]+p[j] for j in range(len(p))] for i in range(len(s))]\r\n",
    "# when indexing, the index for the outter list comprehension (in this case, for len(s)) comes before the index for the inner list comprehension (in this case, for len(p))\r\n",
    "i = 3\r\n",
    "j = 2\r\n",
    "V[i][j]\r\n",
    "\r\n",
    "# if creating by this way, there would be in fact only one list; changing [i][j] would affect all rows\r\n",
    "# becasue python uses shallow list instantiaion\r\n",
    "V2 = [[0] * len(p)] * len(s)"
   ],
   "outputs": [],
   "metadata": {}
  },
  {
   "cell_type": "markdown",
   "source": [
    "### use 'or' operator in variable assignments\n",
    "* equivalent to conditional assignments"
   ],
   "metadata": {}
  },
  {
   "cell_type": "code",
   "execution_count": null,
   "source": [
    "\"\"\" use or operator in assignments \"\"\"\r\n",
    "\r\n",
    "# if a is not 0 or None, then x = a\r\n",
    "a = 10\r\n",
    "b = 12\r\n",
    "x = a or b\r\n",
    "print('x: {}'.format(x))\r\n",
    "\r\n",
    "# otherwise y = d\r\n",
    "c = 0\r\n",
    "d = 12\r\n",
    "y = c or d\r\n",
    "print('y: {}'.format(y))"
   ],
   "outputs": [],
   "metadata": {
    "tags": []
   }
  },
  {
   "cell_type": "code",
   "execution_count": null,
   "source": [
    "\"\"\" \r\n",
    "np.nan_to_num \r\n",
    "- replaces NaN, posinf, neginf with definitive numbers\r\n",
    "- by default NaN=0.0\r\n",
    "\"\"\"\r\n",
    "\r\n",
    "import numpy as np\r\n",
    "\r\n",
    "np.nan_to_num(np.nan)"
   ],
   "outputs": [],
   "metadata": {}
  },
  {
   "cell_type": "code",
   "execution_count": null,
   "source": [
    "\"\"\"\r\n",
    "np.clip(a, a_min, a_max)\r\n",
    "- clip the values of an array into between the interval [a_min, a_max]\r\n",
    "\"\"\"\r\n",
    "\r\n",
    "import numpy as np\r\n",
    "\r\n",
    "a = np.arange(10)\r\n",
    "print(a)\r\n",
    "b = np.clip(a, 2, 7)\r\n",
    "print(b)"
   ],
   "outputs": [],
   "metadata": {
    "tags": []
   }
  },
  {
   "cell_type": "markdown",
   "source": [
    "### modules\n",
    "* need to add a __init__.py file (could be empty) under a folder to make it an importable Python module"
   ],
   "metadata": {}
  },
  {
   "cell_type": "markdown",
   "source": [
    "### *args, **kwargs\n",
    "* these are common idioms in Python to allow arbitrary number of arguments and keyword-argument pairs to be passed to a function\n",
    "* refer to [this post](https://stackoverflow.com/questions/36901/what-does-double-star-asterisk-and-star-asterisk-do-for-parameters) for details\n",
    "\n",
    "common use cases:\n",
    "* 1) allow a function to accept any number of arguments\n",
    "    * can be used with other fixed arguments together\n",
    "* 2) unpack the list of arguments"
   ],
   "metadata": {}
  },
  {
   "cell_type": "markdown",
   "source": [
    "### dict.get(key) instead of dict\\[key\\]\n",
    "* former method is preferred as it would return a default value for the key if the key is not present; second method would just raise a ValueError\n",
    "* check [this answer](https://stackoverflow.com/questions/11041405/why-dict-getkey-instead-of-dictkey) for details"
   ],
   "metadata": {}
  },
  {
   "cell_type": "code",
   "execution_count": null,
   "source": [
    "\"\"\" use np.isscalar to check if a variable is a scalar value \"\"\"\r\n",
    "import numpy as np\r\n",
    "\r\n",
    "x = 3\r\n",
    "print(np.isscalar(x))\r\n",
    "y = np.ndarray((2,3))\r\n",
    "print(np.isscalar(y))"
   ],
   "outputs": [],
   "metadata": {}
  },
  {
   "cell_type": "code",
   "execution_count": null,
   "source": [
    "\"\"\" list comprehension of multiple objects + zip \"\"\"\r\n",
    "\r\n",
    "def func(a):\r\n",
    "    return a, a**2\r\n",
    "\r\n",
    "x = [func(i) for i in range(5)]\r\n",
    "print(x)    # returns a list of 5 tuples, each tuple is (i, i**2)\r\n",
    "print(*x)   # *lst returns each element separately\r\n",
    "\r\n",
    "# use zip(*list) to unpack list comprehension\r\n",
    "# zip(iter1, iter2, ...) takes multiple iterables, get one element from each iterable, put into a new iterable; repeat until last element then return\r\n",
    "# e.g, if each iter has 5 elements, a total of 10 iterables; zip() would return 5 iterables each with 10 elements\r\n",
    "i, i_sq = zip(*[func(i) for i in range(5)])\r\n",
    "print(i)\r\n",
    "print(i_sq)"
   ],
   "outputs": [],
   "metadata": {}
  },
  {
   "cell_type": "code",
   "execution_count": null,
   "source": [
    "\"\"\" list split \"\"\"\r\n",
    "lst = [1, 2, 3, 4, 5, 6]\r\n",
    "n = 1\r\n",
    "[lst[i:i+n] for i in range(0, len(lst), n)]"
   ],
   "outputs": [],
   "metadata": {}
  },
  {
   "cell_type": "code",
   "execution_count": null,
   "source": [
    "\"\"\" use getattr(class, str) to call a class method by string name \"\"\"\r\n",
    "\r\n",
    "class myClass:\r\n",
    "    def add(x, y):\r\n",
    "        return x+y\r\n",
    "    \r\n",
    "    def subtract(x, y):\r\n",
    "        return x-y\r\n",
    "\r\n",
    "print(getattr(myClass, 'add')(2, 3))\r\n",
    "print(getattr(myClass, 'subtract')(5, 3))"
   ],
   "outputs": [],
   "metadata": {}
  },
  {
   "cell_type": "code",
   "execution_count": null,
   "source": [
    "\"\"\"  turning a dict into kwargs and pass to a function call \"\"\"\r\n",
    "\r\n",
    "dct = dict(a=1, b=2)\r\n",
    "\r\n",
    "def func(a=0, b=0):\r\n",
    "    return a + b\r\n",
    "\r\n",
    "func(**dct)\r\n",
    "\r\n",
    "# note that can not directly print **dct, will produce error"
   ],
   "outputs": [],
   "metadata": {}
  },
  {
   "cell_type": "code",
   "execution_count": null,
   "source": [
    "\"\"\" quick way to round up a number (similar to math.ceil) \"\"\"\r\n",
    "x = 10\r\n",
    "y = 3\r\n",
    "x // y + (x % y > 0)"
   ],
   "outputs": [],
   "metadata": {}
  },
  {
   "cell_type": "code",
   "execution_count": null,
   "source": [
    "\"\"\" access dict keys hierarchically \"\"\"\r\n",
    "dct = {'a': {'kwargs':{}}}\r\n",
    "dct['a']['kwargs'].update({'b':0})\r\n",
    "dct"
   ],
   "outputs": [],
   "metadata": {}
  },
  {
   "cell_type": "code",
   "execution_count": null,
   "source": [
    "\"\"\" dict.update() is inplace operation & update dict_a might affect dict_b as well \"\"\"\r\n",
    "\r\n",
    "dct_a = {}\r\n",
    "dct_b = {'a': {}}\r\n",
    "print(\"dct_a {}\".format(dct_a))\r\n",
    "print(\"dct_b {}\".format(dct_b))\r\n",
    "\r\n",
    "# update dct_a using items in dct_b will create a link between these two objects\r\n",
    "# inplace modification of dct_a will also modify dct_b\r\n",
    "dct_a.update(dct_b)\r\n",
    "print(\"dct_a {}\".format(dct_a))\r\n",
    "print(\"dct_b {}\".format(dct_b))\r\n",
    "\r\n",
    "# this update on dct_a will also modify dct_b\r\n",
    "dct_a['a'].update({'b':2})\r\n",
    "print(\"dct_a {}\".format(dct_a))\r\n",
    "print(\"dct_b {}\".format(dct_b))"
   ],
   "outputs": [],
   "metadata": {}
  },
  {
   "cell_type": "code",
   "execution_count": null,
   "source": [
    "\"\"\" \r\n",
    "list.extend(): add elements from an iterable to the list\r\n",
    "\"\"\"\r\n",
    "\r\n",
    "a = [1, 2, 3]\r\n",
    "b = [1, 2, 3]\r\n",
    "c = [1, 2, 3]\r\n",
    "# extend\r\n",
    "a.extend([4, 5])\r\n",
    "print(a)\r\n",
    "# append\r\n",
    "b.append([4, 5])\r\n",
    "print(b)\r\n",
    "# += has same effect as .extend()\r\n",
    "c += [4, 5]\r\n",
    "print(c)"
   ],
   "outputs": [],
   "metadata": {}
  },
  {
   "cell_type": "code",
   "execution_count": null,
   "source": [
    "\"\"\" @ operator for matrix multiplication \"\"\"\r\n",
    "\r\n",
    "a = [[1,2],[3,4]]\r\n",
    "b = [5,6]\r\n",
    "print(a @ b)"
   ],
   "outputs": [],
   "metadata": {}
  },
  {
   "cell_type": "markdown",
   "source": [
    "#### map()\n",
    "\n",
    "* https://realpython.com/python-map-function/\n",
    "* maps an iterable to another iterable; apply a transformation function to each of its items; e.g., sort of like lambda x : transform(x);\n",
    "* e.g. map(function, iterable[1, 2, 3, ...])\n",
    "* use caes:\n",
    "    * 1) checks if all elements in an iteratale satisfies certain conditions; can be used like all(map(condition_fn, iterable)), where condition_fn() returns a bool;\n"
   ],
   "metadata": {}
  },
  {
   "cell_type": "code",
   "execution_count": null,
   "source": [
    "\"\"\" a tuple object mulitplied by a scalar = repeat the tuple \"\"\"\r\n",
    "\r\n",
    "x = (3, )\r\n",
    "print(x)\r\n",
    "print(x*4)\r\n",
    "\r\n",
    "y = (3, 4)\r\n",
    "print(y)\r\n",
    "print(y*4)"
   ],
   "outputs": [],
   "metadata": {}
  },
  {
   "cell_type": "code",
   "execution_count": null,
   "source": [
    "\"\"\" slice + concat a tuple \"\"\"\r\n",
    "\r\n",
    "x = (1, 2, 3)\r\n",
    "print(x)\r\n",
    "x[:-1]+(4,)"
   ],
   "outputs": [],
   "metadata": {}
  },
  {
   "cell_type": "code",
   "execution_count": null,
   "source": [
    "\"\"\" type hinting \"\"\"\r\n",
    "\r\n",
    "from typing import Tuple, Optional, Dict, Callable, List\r\n",
    "\r\n",
    "a: Tuple = (1,)\r\n",
    "b: int = 0\r\n",
    "c: Optional[Dict]\r\n",
    "\r\n",
    "# Callable[[arg1, arg2, ...], ReturnType]\r\n",
    "d: Optional[Callable[[List], int]] = None"
   ],
   "outputs": [],
   "metadata": {}
  },
  {
   "cell_type": "code",
   "execution_count": null,
   "source": [
    "lst = [1,2,3,4]\r\n",
    "lst.insert(1, 100)\r\n",
    "lst"
   ],
   "outputs": [],
   "metadata": {}
  },
  {
   "cell_type": "markdown",
   "source": [
    "### efficiently compare two unordered lists in python\r\n",
    "* see [this post](https://stackoverflow.com/questions/7828867/how-to-efficiently-compare-two-unordered-lists-not-sets-in-python)"
   ],
   "metadata": {}
  },
  {
   "cell_type": "code",
   "execution_count": null,
   "source": [
    "\"\"\" Format an integer into multi-digit string. \"\"\"\r\n",
    "\r\n",
    "f\"{499:03}\""
   ],
   "outputs": [],
   "metadata": {}
  },
  {
   "cell_type": "code",
   "execution_count": null,
   "source": [
    "\"\"\" get class, function names as a string. \"\"\"\r\n",
    "\r\n",
    "def my_func(a, b):\r\n",
    "    return a + b\r\n",
    "\r\n",
    "class myClass:\r\n",
    "    print(\"hello\")\r\n",
    "\r\n",
    "c = myClass()\r\n",
    "\r\n",
    "# calling on the class definition itself won't work;\r\n",
    "print(myClass.__class__.__name__)\r\n",
    "# need to call on a class instance object;\r\n",
    "print(c.__class__.__name__)\r\n",
    "# for function calling on the function definition is ok;\r\n",
    "print(my_func.__name__)"
   ],
   "outputs": [],
   "metadata": {}
  },
  {
   "cell_type": "code",
   "execution_count": null,
   "source": [
    "\"\"\" save tensor to a .csv file \"\"\"\r\n",
    "\r\n",
    "# see https://discuss.pytorch.org/t/how-could-i-save-tensor-result-to-a-csv-file/90109 for an example."
   ],
   "outputs": [],
   "metadata": {}
  }
 ],
 "metadata": {
  "interpreter": {
   "hash": "c04e14e757fcd5c931b20c230f107ce3be1b6ffeb36695f3d01a868d65a6b9cc"
  },
  "kernelspec": {
   "name": "python3",
   "display_name": "Python 3.7.6 64-bit ('base': conda)"
  },
  "language_info": {
   "codemirror_mode": {
    "name": "ipython",
    "version": 3
   },
   "file_extension": ".py",
   "mimetype": "text/x-python",
   "name": "python",
   "nbconvert_exporter": "python",
   "pygments_lexer": "ipython3",
   "version": "3.7.6"
  },
  "orig_nbformat": 2
 },
 "nbformat": 4,
 "nbformat_minor": 2
}