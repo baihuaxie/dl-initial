{
 "cells": [
  {
   "cell_type": "code",
   "execution_count": null,
   "metadata": {},
   "outputs": [],
   "source": [
    "\"\"\" create 2d list \"\"\"\n",
    "\n",
    "s = 'abcdef'\n",
    "p = 'xyz'\n",
    "\n",
    "# this creates a len(p) x len(s) 2d matrix (col x row)\n",
    "V = [[s[i]+p[j] for j in range(len(p))] for i in range(len(s))]\n",
    "# when indexing, the index for the outter list comprehension (in this case, for len(s)) comes before the index for the inner list comprehension (in this case, for len(p))\n",
    "i = 3\n",
    "j = 2\n",
    "V[i][j]\n",
    "\n",
    "# if creating by this way, there would be in fact only one list; changing [i][j] would affect all rows\n",
    "# becasue python uses shallow list instantiaion\n",
    "V2 = [[0] * len(p)] * len(s)"
   ]
  },
  {
   "cell_type": "markdown",
   "metadata": {},
   "source": [
    "### use 'or' operator in variable assignments\n",
    "* equivalent to conditional assignments"
   ]
  },
  {
   "cell_type": "code",
   "execution_count": null,
   "metadata": {
    "tags": []
   },
   "outputs": [],
   "source": [
    "\"\"\" use or operator in assignments \"\"\"\n",
    "\n",
    "# if a is not 0 or None, then x = a\n",
    "a = 10\n",
    "b = 12\n",
    "x = a or b\n",
    "print('x: {}'.format(x))\n",
    "\n",
    "# otherwise y = d\n",
    "c = 0\n",
    "d = 12\n",
    "y = c or d\n",
    "print('y: {}'.format(y))"
   ]
  },
  {
   "cell_type": "code",
   "execution_count": null,
   "metadata": {},
   "outputs": [],
   "source": [
    "\"\"\" \n",
    "np.nan_to_num \n",
    "- replaces NaN, posinf, neginf with definitive numbers\n",
    "- by default NaN=0.0\n",
    "\"\"\"\n",
    "\n",
    "import numpy as np\n",
    "\n",
    "np.nan_to_num(np.nan)"
   ]
  },
  {
   "cell_type": "code",
   "execution_count": null,
   "metadata": {
    "tags": []
   },
   "outputs": [],
   "source": [
    "\"\"\"\n",
    "np.clip(a, a_min, a_max)\n",
    "- clip the values of an array into between the interval [a_min, a_max]\n",
    "\"\"\"\n",
    "\n",
    "import numpy as np\n",
    "\n",
    "a = np.arange(10)\n",
    "print(a)\n",
    "b = np.clip(a, 2, 7)\n",
    "print(b)"
   ]
  },
  {
   "cell_type": "markdown",
   "metadata": {},
   "source": [
    "### modules\n",
    "* need to add a __init__.py file (could be empty) under a folder to make it an importable Python module"
   ]
  },
  {
   "cell_type": "markdown",
   "metadata": {},
   "source": [
    "### *args, **kwargs\n",
    "* these are common idioms in Python to allow arbitrary number of arguments and keyword-argument pairs to be passed to a function\n",
    "* refer to [this post](https://stackoverflow.com/questions/36901/what-does-double-star-asterisk-and-star-asterisk-do-for-parameters) for details\n",
    "\n",
    "common use cases:\n",
    "* 1) allow a function to accept any number of arguments\n",
    "    * can be used with other fixed arguments together\n",
    "* 2) unpack the list of arguments"
   ]
  },
  {
   "cell_type": "markdown",
   "metadata": {},
   "source": [
    "### dict.get(key) instead of dict\\[key\\]\n",
    "* former method is preferred as it would return a default value for the key if the key is not present; second method would just raise a ValueError\n",
    "* check [this answer](https://stackoverflow.com/questions/11041405/why-dict-getkey-instead-of-dictkey) for details"
   ]
  },
  {
   "cell_type": "code",
   "execution_count": null,
   "metadata": {},
   "outputs": [],
   "source": [
    "\"\"\" use np.isscalar to check if a variable is a scalar value \"\"\"\n",
    "import numpy as np\n",
    "\n",
    "x = 3\n",
    "print(np.isscalar(x))\n",
    "y = np.ndarray((2,3))\n",
    "print(np.isscalar(y))"
   ]
  },
  {
   "cell_type": "code",
   "execution_count": null,
   "metadata": {},
   "outputs": [],
   "source": [
    "\"\"\" list comprehension of multiple objects + zip \"\"\"\n",
    "\n",
    "def func(a):\n",
    "    return a, a**2\n",
    "\n",
    "x = [func(i) for i in range(5)]\n",
    "print(x)    # returns a list of 5 tuples, each tuple is (i, i**2)\n",
    "print(*x)   # *lst returns each element separately\n",
    "\n",
    "# use zip(*list) to unpack list comprehension\n",
    "# zip(iter1, iter2, ...) takes multiple iterables, get one element from each iterable, put into a new iterable; repeat until last element then return\n",
    "# e.g, if each iter has 5 elements, a total of 10 iterables; zip() would return 5 iterables each with 10 elements\n",
    "i, i_sq = zip(*[func(i) for i in range(5)])\n",
    "print(i)\n",
    "print(i_sq)"
   ]
  },
  {
   "cell_type": "code",
   "execution_count": null,
   "metadata": {},
   "outputs": [],
   "source": [
    "\"\"\" list split \"\"\"\n",
    "lst = [1, 2, 3, 4, 5, 6]\n",
    "n = 1\n",
    "[lst[i:i+n] for i in range(0, len(lst), n)]"
   ]
  },
  {
   "cell_type": "code",
   "execution_count": null,
   "metadata": {},
   "outputs": [],
   "source": [
    "\"\"\" use getattr(class, str) to call a class method by string name \"\"\"\n",
    "\n",
    "class myClass:\n",
    "    def add(x, y):\n",
    "        return x+y\n",
    "    \n",
    "    def subtract(x, y):\n",
    "        return x-y\n",
    "\n",
    "print(getattr(myClass, 'add')(2, 3))\n",
    "print(getattr(myClass, 'subtract')(5, 3))"
   ]
  },
  {
   "cell_type": "code",
   "execution_count": null,
   "metadata": {},
   "outputs": [],
   "source": [
    "\"\"\"  turning a dict into kwargs and pass to a function call \"\"\"\n",
    "\n",
    "dct = dict(a=1, b=2)\n",
    "\n",
    "def func(a=0, b=0):\n",
    "    return a + b\n",
    "\n",
    "func(**dct)\n",
    "\n",
    "# note that can not directly print **dct, will produce error"
   ]
  },
  {
   "cell_type": "code",
   "execution_count": null,
   "metadata": {},
   "outputs": [],
   "source": [
    "\"\"\" quick way to round up a number (similar to math.ceil) \"\"\"\n",
    "x = 10\n",
    "y = 3\n",
    "x // y + (x % y > 0)"
   ]
  },
  {
   "cell_type": "code",
   "execution_count": null,
   "metadata": {},
   "outputs": [],
   "source": [
    "\"\"\" access dict keys hierarchically \"\"\"\n",
    "dct = {'a': {'kwargs':{}}}\n",
    "dct['a']['kwargs'].update({'b':0})\n",
    "dct"
   ]
  },
  {
   "cell_type": "code",
   "execution_count": null,
   "metadata": {},
   "outputs": [],
   "source": [
    "\"\"\" dict.update() is inplace operation & update dict_a might affect dict_b as well \"\"\"\n",
    "\n",
    "dct_a = {}\n",
    "dct_b = {'a': {}}\n",
    "print(\"dct_a {}\".format(dct_a))\n",
    "print(\"dct_b {}\".format(dct_b))\n",
    "\n",
    "# update dct_a using items in dct_b will create a link between these two objects\n",
    "# inplace modification of dct_a will also modify dct_b\n",
    "dct_a.update(dct_b)\n",
    "print(\"dct_a {}\".format(dct_a))\n",
    "print(\"dct_b {}\".format(dct_b))\n",
    "\n",
    "# this update on dct_a will also modify dct_b\n",
    "dct_a['a'].update({'b':2})\n",
    "print(\"dct_a {}\".format(dct_a))\n",
    "print(\"dct_b {}\".format(dct_b))"
   ]
  },
  {
   "cell_type": "code",
   "execution_count": null,
   "metadata": {},
   "outputs": [],
   "source": [
    "\"\"\" \n",
    "list.extend(): add elements from an iterable to the list\n",
    "\"\"\"\n",
    "\n",
    "a = [1, 2, 3]\n",
    "b = [1, 2, 3]\n",
    "c = [1, 2, 3]\n",
    "# extend\n",
    "a.extend([4, 5])\n",
    "print(a)\n",
    "# append\n",
    "b.append([4, 5])\n",
    "print(b)\n",
    "# += has same effect as .extend()\n",
    "c += [4, 5]\n",
    "print(c)"
   ]
  },
  {
   "cell_type": "code",
   "execution_count": null,
   "metadata": {},
   "outputs": [],
   "source": [
    "\"\"\" @ operator for matrix multiplication \"\"\"\n",
    "\n",
    "a = [[1,2],[3,4]]\n",
    "b = [5,6]\n",
    "print(a @ b)"
   ]
  },
  {
   "cell_type": "markdown",
   "metadata": {},
   "source": [
    "#### map()\n",
    "\n",
    "* https://realpython.com/python-map-function/\n",
    "* maps an iterable to another iterable; apply a transformation function to each of its items; e.g., sort of like lambda x : transform(x);\n",
    "* e.g. map(function, iterable[1, 2, 3, ...])\n",
    "* use caes:\n",
    "    * 1) checks if all elements in an iteratale satisfies certain conditions; can be used like all(map(condition_fn, iterable)), where condition_fn() returns a bool;\n"
   ]
  },
  {
   "cell_type": "code",
   "execution_count": null,
   "metadata": {},
   "outputs": [],
   "source": [
    "\"\"\" a tuple object mulitplied by a scalar = repeat the tuple \"\"\"\n",
    "\n",
    "x = (3, )\n",
    "print(x)\n",
    "print(x*4)\n",
    "\n",
    "y = (3, 4)\n",
    "print(y)\n",
    "print(y*4)"
   ]
  },
  {
   "cell_type": "code",
   "execution_count": null,
   "metadata": {},
   "outputs": [],
   "source": [
    "\"\"\" slice + concat a tuple \"\"\"\n",
    "\n",
    "x = (1, 2, 3)\n",
    "print(x)\n",
    "x[:-1]+(4,)"
   ]
  },
  {
   "cell_type": "code",
   "execution_count": null,
   "metadata": {},
   "outputs": [],
   "source": [
    "\"\"\" type hinting \"\"\"\n",
    "\n",
    "from typing import Tuple, Optional, Dict, Callable, List\n",
    "\n",
    "a: Tuple = (1,)\n",
    "b: int = 0\n",
    "c: Optional[Dict]\n",
    "\n",
    "# Callable[[arg1, arg2, ...], ReturnType]\n",
    "d: Optional[Callable[[List], int]] = None"
   ]
  },
  {
   "cell_type": "code",
   "execution_count": null,
   "metadata": {},
   "outputs": [],
   "source": [
    "lst = [1,2,3,4]\n",
    "lst.insert(1, 100)\n",
    "lst"
   ]
  },
  {
   "cell_type": "markdown",
   "metadata": {},
   "source": [
    "### efficiently compare two unordered lists in python\n",
    "* see [this post](https://stackoverflow.com/questions/7828867/how-to-efficiently-compare-two-unordered-lists-not-sets-in-python)"
   ]
  },
  {
   "cell_type": "code",
   "execution_count": null,
   "metadata": {},
   "outputs": [],
   "source": [
    "\"\"\" Format an integer into multi-digit string. \"\"\"\n",
    "\n",
    "f\"{499:03}\""
   ]
  },
  {
   "cell_type": "code",
   "execution_count": null,
   "metadata": {},
   "outputs": [],
   "source": [
    "\"\"\" get class, function names as a string. \"\"\"\n",
    "\n",
    "def my_func(a, b):\n",
    "    return a + b\n",
    "\n",
    "class myClass:\n",
    "    print(\"hello\")\n",
    "\n",
    "c = myClass()\n",
    "\n",
    "# calling on the class definition itself won't work;\n",
    "print(myClass.__class__.__name__)\n",
    "# need to call on a class instance object;\n",
    "print(c.__class__.__name__)\n",
    "# for function calling on the function definition is ok;\n",
    "print(my_func.__name__)"
   ]
  },
  {
   "cell_type": "code",
   "execution_count": null,
   "metadata": {},
   "outputs": [],
   "source": [
    "\"\"\" save tensor to a .csv file \"\"\"\n",
    "\n",
    "# see https://discuss.pytorch.org/t/how-could-i-save-tensor-result-to-a-csv-file/90109 for an example."
   ]
  },
  {
   "cell_type": "code",
   "execution_count": null,
   "metadata": {},
   "outputs": [],
   "source": [
    "\"\"\" use lst.clear() to actually clear lists. \"\"\"\n",
    "# see https://stackoverflow.com/questions/850795/different-ways-of-clearing-lists"
   ]
  },
  {
   "cell_type": "code",
   "execution_count": null,
   "metadata": {},
   "outputs": [],
   "source": [
    "\"\"\" use random.choice() to randomly select elements from an iterable \"\"\"\n",
    "# see https://stackoverflow.com/questions/306400/how-can-i-randomly-select-an-item-from-a-list"
   ]
  },
  {
   "cell_type": "code",
   "execution_count": null,
   "metadata": {},
   "outputs": [],
   "source": [
    "\"\"\" swapping two objects \"\"\"\n",
    "\n",
    "a = 1\n",
    "b = 2\n",
    "a, b = b, a\n",
    "print(a, b)"
   ]
  },
  {
   "cell_type": "code",
   "execution_count": null,
   "metadata": {},
   "outputs": [],
   "source": [
    "\"\"\" get index to an element in list \"\"\"\n",
    "# see https://stackoverflow.com/questions/176918/finding-the-index-of-an-item-in-a-list\n",
    "\n",
    "x = [1,2,3,4]\n",
    "print(x.index(2))"
   ]
  },
  {
   "cell_type": "markdown",
   "metadata": {},
   "source": [
    "#### relative imports\n",
    "\n",
    "* say I have the following directory structure:\n",
    "    * /my_dir:\n",
    "        - __init__.py\n",
    "        - mod.py\n",
    "        - utils.py\n",
    "        - test_mod.py\n",
    "* in mod.py I use relative imports like this: `import .utils`;\n",
    "* in test_mod.py I also use relative imports like this: `import .mod`;\n",
    "* if I then run from CLI: pytest test_mod.py, everything would work fine (as long as I have set up the python path environment properly in VS Code)\n",
    "* however, assume that I have `if __name__ == \"__main__\"` & want to run from CLI: python mod.py directly, then there will be an error for relative import .util\n",
    "    * this has happened so many times!\n",
    "\n",
    "* see [this answer](https://stackoverflow.com/questions/14132789/relative-imports-for-the-billionth-time) for the ultimate explanation:\n",
    "    * basically, the relative import syntax `import .utils` only works if the current file `mod.py` is imported to python as a module, instead of a file;\n",
    "    * so if I import mod.py from some other file, e.g., using pytest, then everything would work fine;\n",
    "    * however, if I directly execute this file, its name would not be `mod`, instead it would just be `__main__`, which is also what the if-statement is about;\n",
    "        * in this case, python won't recognize `mod` as a package, and consequently it doesn't know what `.` means in the relative import syntax;\n",
    "    * in short: the `.` syntax is not for __directory__, but for __packages__; for it to work the current file must be imported into python as a package itself;\n",
    "\n",
    "* there is no straight-forward fixes for this; the best solution is to use absolute import paths whenever possible;\n",
    "* if I really must use relative import (such as in dev/tests) and I really want to execute this file directly, I can use a hack like the following:\n",
    "    ```\n",
    "    if __package__ is None or __package__ == \"\":\n",
    "        from lra_listops_preprocessor import get_datasets\n",
    "    else:\n",
    "        from .lra_listops_preprocessor import get_datasets\n",
    "    ```\n",
    "\n",
    "* note: also it is ok to have numbers, _ and - in python package names;"
   ]
  },
  {
   "cell_type": "code",
   "execution_count": null,
   "metadata": {},
   "outputs": [],
   "source": []
  }
 ],
 "metadata": {
  "interpreter": {
   "hash": "c04e14e757fcd5c931b20c230f107ce3be1b6ffeb36695f3d01a868d65a6b9cc"
  },
  "kernelspec": {
   "display_name": "Python 3.7.6 64-bit ('base': conda)",
   "name": "python3"
  },
  "language_info": {
   "codemirror_mode": {
    "name": "ipython",
    "version": 3
   },
   "file_extension": ".py",
   "mimetype": "text/x-python",
   "name": "python",
   "nbconvert_exporter": "python",
   "pygments_lexer": "ipython3",
   "version": "3.7.6"
  },
  "orig_nbformat": 2
 },
 "nbformat": 4,
 "nbformat_minor": 2
}
