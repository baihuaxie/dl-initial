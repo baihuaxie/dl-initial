{
 "cells": [
  {
   "cell_type": "code",
   "execution_count": null,
   "metadata": {},
   "outputs": [],
   "source": [
    "\"\"\" create 2d list \"\"\"\n",
    "\n",
    "s = 'abcdef'\n",
    "p = 'xyz'\n",
    "\n",
    "# this creates a len(p) x len(s) 2d matrix (col x row)\n",
    "V = [[s[i]+p[j] for j in range(len(p))] for i in range(len(s))]\n",
    "# when indexing, the index for the outter list comprehension (in this case, for len(s)) comes before the index for the inner list comprehension (in this case, for len(p))\n",
    "i = 3\n",
    "j = 2\n",
    "V[i][j]\n",
    "\n",
    "# if creating by this way, there would be in fact only one list; changing [i][j] would affect all rows\n",
    "# becasue python uses shallow list instantiaion\n",
    "V2 = [[0] * len(p)] * len(s)"
   ]
  },
  {
   "source": [
    "### use 'or' operator in variable assignments\n",
    "* equivalent to conditional assignments"
   ],
   "cell_type": "markdown",
   "metadata": {}
  },
  {
   "source": [
    "\"\"\" use or operator in assignments \"\"\"\n",
    "\n",
    "# if a is not 0 or None, then x = a\n",
    "a = 10\n",
    "b = 12\n",
    "x = a or b\n",
    "print('x: {}'.format(x))\n",
    "\n",
    "# otherwise y = d\n",
    "c = 0\n",
    "d = 12\n",
    "y = c or d\n",
    "print('y: {}'.format(y))"
   ],
   "cell_type": "code",
   "metadata": {
    "tags": []
   },
   "execution_count": null,
   "outputs": []
  },
  {
   "cell_type": "code",
   "execution_count": null,
   "metadata": {},
   "outputs": [],
   "source": [
    "\"\"\" \n",
    "np.nan_to_num \n",
    "- replaces NaN, posinf, neginf with definitive numbers\n",
    "- by default NaN=0.0\n",
    "\"\"\"\n",
    "\n",
    "import numpy as np\n",
    "\n",
    "np.nan_to_num(np.nan)"
   ]
  },
  {
   "cell_type": "code",
   "execution_count": 14,
   "metadata": {
    "tags": []
   },
   "outputs": [
    {
     "output_type": "stream",
     "name": "stdout",
     "text": "[0 1 2 3 4 5 6 7 8 9]\n[2 2 2 3 4 5 6 7 7 7]\n"
    },
    {
     "output_type": "execute_result",
     "data": {
      "text/plain": "array([0.])"
     },
     "metadata": {},
     "execution_count": 14
    }
   ],
   "source": [
    "\"\"\"\n",
    "np.clip(a, a_min, a_max)\n",
    "- clip the values of an array into between the interval [a_min, a_max]\n",
    "\"\"\"\n",
    "\n",
    "import numpy as np\n",
    "\n",
    "a = np.arange(10)\n",
    "print(a)\n",
    "b = np.clip(a, 2, 7)\n",
    "print(b)"
   ]
  },
  {
   "source": [
    "### modules\n",
    "* need to add a __init__.py file (could be empty) under a folder to make it an importable Python module"
   ],
   "cell_type": "markdown",
   "metadata": {}
  },
  {
   "source": [
    "### *args, **kwargs\n",
    "* these are common idioms in Python to allow arbitrary number of arguments and keyword-argument pairs to be passed to a function\n",
    "* refer to [this post](https://stackoverflow.com/questions/36901/what-does-double-star-asterisk-and-star-asterisk-do-for-parameters) for details\n",
    "\n",
    "common use cases:\n",
    "* 1) allow a function to accept any number of arguments\n",
    "    * can be used with other fixed arguments together\n",
    "* 2) unpack the list of arguments"
   ],
   "cell_type": "markdown",
   "metadata": {}
  },
  {
   "source": [
    "### dict.get(key) instead of dict[key]\n",
    "* former method is preferred as it would return a default value for the key if the key is not present; second method would just raise a ValueError\n",
    "* check [this answer](https://stackoverflow.com/questions/11041405/why-dict-getkey-instead-of-dictkey) for details"
   ],
   "cell_type": "markdown",
   "metadata": {}
  },
  {
   "source": [],
   "cell_type": "markdown",
   "metadata": {}
  }
 ],
 "metadata": {
  "language_info": {
   "codemirror_mode": {
    "name": "ipython",
    "version": 3
   },
   "file_extension": ".py",
   "mimetype": "text/x-python",
   "name": "python",
   "nbconvert_exporter": "python",
   "pygments_lexer": "ipython3",
   "version": "3.7.6-final"
  },
  "orig_nbformat": 2,
  "kernelspec": {
   "name": "python3",
   "display_name": "Python 3"
  }
 },
 "nbformat": 4,
 "nbformat_minor": 2
}