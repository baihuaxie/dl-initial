{
 "metadata": {
  "language_info": {
   "codemirror_mode": {
    "name": "ipython",
    "version": 3
   },
   "file_extension": ".py",
   "mimetype": "text/x-python",
   "name": "python",
   "nbconvert_exporter": "python",
   "pygments_lexer": "ipython3",
   "version": 3
  },
  "orig_nbformat": 2
 },
 "nbformat": 4,
 "nbformat_minor": 2,
 "cells": [
  {
   "source": [
    "#### Error-01: Assertion `t >= 0 && t < n_classes` failed.\n",
    "* first occurrence: during CIFAR-100 training\n",
    "* reported at loss.backwards() step\n",
    "* issue: the error was because I use CIFAR-100 dataset, but my network is still for CIFAR-10, so last fc layer has only 10 outputs; correct this to 100 outputs would solve this issue"
   ],
   "cell_type": "markdown",
   "metadata": {}
  }
 ]
}