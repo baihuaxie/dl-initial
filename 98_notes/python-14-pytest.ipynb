{
 "cells": [
  {
   "cell_type": "code",
   "execution_count": null,
   "metadata": {},
   "outputs": [],
   "source": [
    "\"\"\" assert equal with a tolerance level \"\"\"\n",
    "# use numpy.testing.assert_almost_equal()\n"
   ]
  }
 ],
 "metadata": {
  "language_info": {
   "name": "python"
  },
  "orig_nbformat": 4
 },
 "nbformat": 4,
 "nbformat_minor": 2
}
