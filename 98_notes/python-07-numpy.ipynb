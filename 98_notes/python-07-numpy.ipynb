{
 "metadata": {
  "language_info": {
   "codemirror_mode": {
    "name": "ipython",
    "version": 3
   },
   "file_extension": ".py",
   "mimetype": "text/x-python",
   "name": "python",
   "nbconvert_exporter": "python",
   "pygments_lexer": "ipython3",
   "version": "3.7.6-final"
  },
  "orig_nbformat": 2,
  "kernelspec": {
   "name": "Python 3.7.6 64-bit ('base': conda)",
   "display_name": "Python 3.7.6 64-bit ('base': conda)",
   "metadata": {
    "interpreter": {
     "hash": "c04e14e757fcd5c931b20c230f107ce3be1b6ffeb36695f3d01a868d65a6b9cc"
    }
   }
  }
 },
 "nbformat": 4,
 "nbformat_minor": 2,
 "cells": [
  {
   "cell_type": "code",
   "execution_count": null,
   "metadata": {},
   "outputs": [],
   "source": [
    "\"\"\" create random samples from normal distribution \"\"\"\n",
    "\n",
    "import numpy as np\n",
    "\n",
    "print(np.random.randn())                # return a single sample drawn randomly from N(0, 1)\n",
    "print(np.random.randn(2, 4))            # return a 2x4 ndarray of samples drawn randomly from N(0, 1)\n",
    "print(3 + 1.5 * np.random.randn(2, 4))  # return a 2x4 ndarray of samples drawn randomly from N(3, 2.25)\n",
    "\n",
    "# mu + sigma * np.random.randn(d0, d1, ...) for samples in ndarray of d0xd1x... drawn randomly from N(mu, sigma^2)"
   ]
  },
  {
   "cell_type": "code",
   "execution_count": null,
   "metadata": {},
   "outputs": [],
   "source": []
  }
 ]
}