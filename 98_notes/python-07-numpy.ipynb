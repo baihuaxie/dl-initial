{
 "cells": [
  {
   "cell_type": "code",
   "execution_count": null,
   "metadata": {},
   "outputs": [],
   "source": [
    "\"\"\" create random samples from normal distribution \"\"\"\n",
    "\n",
    "import numpy as np\n",
    "\n",
    "print(np.random.randn())                # return a single sample drawn randomly from N(0, 1)\n",
    "print(np.random.randn(2, 4))            # return a 2x4 ndarray of samples drawn randomly from N(0, 1)\n",
    "print(3 + 1.5 * np.random.randn(2, 4))  # return a 2x4 ndarray of samples drawn randomly from N(3, 2.25)\n",
    "\n",
    "# mu + sigma * np.random.randn(d0, d1, ...) for samples in ndarray of d0xd1x... drawn randomly from N(mu, sigma^2)"
   ]
  },
  {
   "cell_type": "code",
   "execution_count": null,
   "metadata": {},
   "outputs": [],
   "source": [
    "\"\"\" np.transpose \"\"\"\n",
    "\n",
    "import numpy as np\n",
    "import matplotlib.pyplot as plt\n",
    "\n",
    "x = np.random.randint(0, 9, (2, 32, 32))\n",
    "y = np.transpose(x, (1, 2, 0))\n",
    "print(x)\n",
    "print(y)"
   ]
  },
  {
   "cell_type": "code",
   "execution_count": null,
   "metadata": {},
   "outputs": [],
   "source": [
    "\"\"\" x.squeeze(): remove axis of length=1 (if any) from ndarray x \"\"\"\n",
    "\n",
    "import numpy as np\n",
    "\n",
    "x = np.random.randint(0, 9, (1, 2, 3))\n",
    "print(x.shape)\n",
    "x1 = x.squeeze()\n",
    "print(x1.shape)"
   ]
  },
  {
   "cell_type": "code",
   "execution_count": null,
   "metadata": {},
   "outputs": [],
   "source": [
    "\"\"\" x.size: total number of elements in x \"\"\"\n",
    "\n",
    "import numpy as np\n",
    "\n",
    "x = np.random.randint(0, 9, (2, 2, 3))\n",
    "print(x.size)"
   ]
  },
  {
   "cell_type": "code",
   "execution_count": null,
   "metadata": {},
   "outputs": [],
   "source": [
    "\"\"\" ndarray double colon x::y : get every y-th element starting from position x \"\"\"\n",
    "\n",
    "import numpy as np\n",
    "\n",
    "x = np.random.randint(0, 9, (6, 2, 2))\n",
    "print(x)\n",
    "x1 = x[0::2]\n",
    "print(x1)\n",
    "x2 = x[1::2]\n",
    "print(x2)"
   ]
  },
  {
   "cell_type": "code",
   "execution_count": null,
   "metadata": {},
   "outputs": [],
   "source": [
    "\"\"\" ndarray.reshape() \"\"\"\n",
    "import numpy as np\n",
    "\n",
    "# see doc: https://numpy.org/doc/stable/reference/generated/numpy.reshape.html\n",
    "\n",
    "x = np.random.randint(0, 9, (2, 3, 4))\n",
    "x1 = x.reshape(24)      # 1. dim can be an integer, results in 1-d array of the same length, but must be compatible w/t original shape\n",
    "# x1 = x.reshape(20)    # error: shape not compatible\n",
    "print(x1.shape)\n",
    "x2 = x.reshape(-1)      # 2. if use a single integer for shape, then can just use -1, in this case the resulting length is inferred from original shape\n",
    "print(x2.shape)\n",
    "x3 = x.reshape(4, 6)    # 3. use a specific & compatible shape\n",
    "print(x3.shape)"
   ]
  },
  {
   "cell_type": "code",
   "execution_count": null,
   "metadata": {},
   "outputs": [],
   "source": [
    "\"\"\" np.arange(start=0, stop, step=1): returns evenly spaced within given interval \"\"\"\n",
    "import numpy as np\n",
    "\n",
    "# see the doc: https://numpy.org/doc/stable/reference/generated/numpy.arange.html\n",
    "\n",
    "x1 = np.arange(10)      # [0, 10), step=1\n",
    "print(x1)\n",
    "x2 = np.arange(1, 10)   # [1, 10), step=1\n",
    "print(x2)\n",
    "x3 = np.arange(0, 10, 3)   # [0, 10), step=3\n",
    "print(x3)\n"
   ]
  },
  {
   "cell_type": "code",
   "execution_count": null,
   "metadata": {},
   "outputs": [],
   "source": [
    "\"\"\" np.random.choice() \"\"\"\n",
    "import numpy as np\n",
    "\n",
    "# see doc: https://numpy.org/doc/stable/reference/random/generated/numpy.random.choice.html\n",
    "# by default the sampling probabilities are assumed to be uniform for all elements in array\n",
    "\n",
    "array = np.random.randint(0, 9, (2, 4, 6))\n",
    "print(array)\n",
    "# ridxes = np.random.choice(array, size = 10, replace = False)                  # error: array must be 1-d\n",
    "x1 = np.random.choice(array.reshape(-1), size = 10, replace = False)            # sample 10 elements uniformly\n",
    "print(x1)\n",
    "x2 = np.random.choice(array.reshape(-1), size = (2, 3), replace = False)        # sample 2*3=6 elements uniformly but organize result as a 2x3 ndarray\n",
    "print(x2)\n",
    "\n",
    "array1 = 100\n",
    "x3 = np.random.choice(array1, size=10, replace=False)                           # if array is just a single int a, sample it as if it were np.arange(a)\n",
    "print(x3)"
   ]
  },
  {
   "cell_type": "code",
   "execution_count": null,
   "metadata": {},
   "outputs": [],
   "source": [
    "\"\"\" numpy int32 is not json serializable \"\"\"\n",
    "# see https://stackoverflow.com/questions/49795525/typeerror-object-of-type-int32-is-not-json-serializable\n",
    "# convert by int(i)"
   ]
  }
 ],
 "metadata": {
  "kernelspec": {
   "display_name": "Python 3.7.6 64-bit (conda)",
   "metadata": {
    "interpreter": {
     "hash": "c04e14e757fcd5c931b20c230f107ce3be1b6ffeb36695f3d01a868d65a6b9cc"
    }
   },
   "name": "python3"
  },
  "language_info": {
   "codemirror_mode": {
    "name": "ipython",
    "version": 3
   },
   "file_extension": ".py",
   "mimetype": "text/x-python",
   "name": "python",
   "nbconvert_exporter": "python",
   "pygments_lexer": "ipython3",
   "version": "3.7.6"
  },
  "orig_nbformat": 2
 },
 "nbformat": 4,
 "nbformat_minor": 2
}
