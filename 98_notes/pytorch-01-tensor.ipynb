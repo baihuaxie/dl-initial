{
 "cells": [
  {
   "cell_type": "markdown",
   "metadata": {},
   "source": [
    "### Notes on torch.tensor operations"
   ]
  },
  {
   "cell_type": "code",
   "execution_count": null,
   "metadata": {},
   "outputs": [],
   "source": [
    "import torch\n",
    "import numpy as np "
   ]
  },
  {
   "cell_type": "code",
   "execution_count": null,
   "metadata": {},
   "outputs": [],
   "source": [
    "\"\"\" Find the maximum values and corresponding indices along axis=dim in a tensor \"\"\"\n",
    "\n",
    "x = torch.empty(5,3)\n",
    "values, indices = torch.max(x,dim=1)"
   ]
  },
  {
   "cell_type": "code",
   "execution_count": null,
   "metadata": {},
   "outputs": [],
   "source": [
    "\"\"\" Converting between tensors and ndarrays \"\"\"\n",
    "\n",
    "# convert a tensor to a ndarray\n",
    "x = torch.randn(5,3)\n",
    "y = x.numpy()\n",
    "\n",
    "# conver a ndarray to a tensor\n",
    "z = torch.from_numpy(y)"
   ]
  },
  {
   "cell_type": "markdown",
   "metadata": {},
   "source": [
    "_note_:\n",
    "* if x.requires_grad=True, can not call numpy()"
   ]
  },
  {
   "cell_type": "code",
   "execution_count": null,
   "metadata": {},
   "outputs": [],
   "source": [
    "\"\"\" use torch.tensor.item() to return single-element tensor as a python number \"\"\"\n",
    "\n",
    "x = torch.tensor([1.0])\n",
    "x.item()"
   ]
  },
  {
   "cell_type": "code",
   "execution_count": null,
   "metadata": {},
   "outputs": [],
   "source": [
    "\"\"\" return size of a tensor \"\"\"\n",
    "\n",
    "x = torch.randn(5,3)\n",
    "x.size()\n",
    "# type(x.size())"
   ]
  },
  {
   "cell_type": "code",
   "execution_count": null,
   "metadata": {
    "tags": []
   },
   "outputs": [],
   "source": [
    "\"\"\" sum along a tensor dimension \"\"\"\n",
    "\n",
    "x = torch.randn(5,3,4)\n",
    "print(x)\n",
    "torch.sum(x,dim=1,keepdim=False)"
   ]
  },
  {
   "cell_type": "code",
   "execution_count": null,
   "metadata": {
    "tags": []
   },
   "outputs": [],
   "source": [
    "\"\"\" detach() \"\"\"\n",
    "\n",
    "x = torch.randn(5, 3, requires_grad=True)\n",
    "print(x)\n",
    "y = torch.sum(x * 2)\n",
    "print(x.requires_grad, y.requires_grad)\n",
    "\n",
    "# create z by detach() x from compute graph\n",
    "z = y.detach()\n",
    "print(y.requires_grad)          # x is un-modified\n",
    "print(z.requires_grad)          # z.requires_grad set to False\n",
    "\n",
    "# call backward() method on y, with requires_grad=True\n",
    "y.backward()\n",
    "print(x.grad)\n",
    "\n",
    "# z and y shares same storage, any change to z will update y\n",
    "print(y)\n",
    "print(z)\n",
    "z += 1\n",
    "print(z)\n",
    "print(y)                        # y is also updated to +1\n"
   ]
  },
  {
   "cell_type": "code",
   "execution_count": null,
   "metadata": {
    "tags": []
   },
   "outputs": [],
   "source": [
    "\"\"\" apply element-wise transformations to tensor \"\"\"\n",
    "\n",
    "x = torch.randn(5, 3)\n",
    "print(x)\n",
    "\n",
    "# take exp\n",
    "x = torch.exp(x)\n",
    "print(x)"
   ]
  },
  {
   "cell_type": "markdown",
   "metadata": {},
   "source": [
    "_note_:\n",
    "* Pytorch does not currently support custom element-wise lambda functions for tensor\n",
    "  * a solution maybe to convert to np.ndarrays first, or use a stack of built-in element-wise functions"
   ]
  },
  {
   "cell_type": "code",
   "execution_count": null,
   "metadata": {},
   "outputs": [],
   "source": [
    "\"\"\" conditional slicing \"\"\"\n",
    "\n",
    "x = torch.rand(32,10)                               # x: a 32x10 tensor (e.g., xent outputs where batch=32, num of classes = 10)\n",
    "labels = torch.randint(0,10,(32,))                  # labels: a 32x1 tensor of integers (e.g., each element is a correct label index)\n",
    "print(x)\n",
    "print(labels)\n",
    "\n",
    "# torch.max(tensor, dim) will return a tuple of two tensors (val_max, arg_max)\n",
    "max_val, indices = torch.max(x, dim=1)\n",
    "# tensor[condition] (for 1d tensor; for higher d, use slicing syntax like [:, condition]) slices the tensor if the condition is evaluated to be True element-wise\n",
    "torch.sum(max_val[indices == labels]).item()"
   ]
  },
  {
   "cell_type": "code",
   "execution_count": null,
   "metadata": {},
   "outputs": [],
   "source": [
    "\"\"\" masked slicing conditioned on another tensor \"\"\"\n",
    "\n",
    "x = torch.rand(32,10)                               # x: a 32x10 tensor (e.g., xent outputs where batch=32, num of classes = 10)\n",
    "labels = torch.randint(0,10,(32,))                  # labels: a 32x1 tensor of integers (e.g., each element is a correct label index)\n",
    "\n",
    "# construct a 32x10 mask tensor obj, mask[i][j] = True if labels[i] == j -> use values in labels as indices\n",
    "# note that gather(), select() methods all broadcast indices along axis other than dim specified, so won't work here\n",
    "mask = torch.BoolTensor([[True if i == labels[j] else False for i in range(x.size()[1]) ] for j in range(x.size()[0])])\n",
    "torch.masked_select(x, mask)"
   ]
  },
  {
   "cell_type": "markdown",
   "metadata": {},
   "source": [
    "_note_:\n",
    "* mask must be torch.BoolTensor type"
   ]
  },
  {
   "cell_type": "code",
   "execution_count": null,
   "metadata": {},
   "outputs": [],
   "source": []
  }
 ],
 "metadata": {
  "language_info": {
   "codemirror_mode": {
    "name": "ipython",
    "version": 3
   },
   "file_extension": ".py",
   "mimetype": "text/x-python",
   "name": "python",
   "nbconvert_exporter": "python",
   "pygments_lexer": "ipython3",
   "version": "3.6.8-final"
  },
  "orig_nbformat": 2,
  "kernelspec": {
   "name": "python3",
   "display_name": "Python 3"
  }
 },
 "nbformat": 4,
 "nbformat_minor": 2
}