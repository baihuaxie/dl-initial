{
 "cells": [
  {
   "cell_type": "code",
   "execution_count": null,
   "metadata": {},
   "outputs": [],
   "source": [
    "\"\"\" F.normalize() \"\"\"\n",
    "\n",
    "import torch\n",
    "import torch.nn.functional as F\n",
    "\n",
    "x = torch.randn((2, 3, 4))\n",
    "print(x)\n",
    "x1 = F.normalize(x, p=2, dim=-1)\n",
    "print(x1)"
   ]
  },
  {
   "cell_type": "markdown",
   "metadata": {},
   "source": [
    "#### F.normalize(input, p=2, dim=1)\n",
    "* performs L-p normalize along `dim` on the input tensor;\n",
    "* see [docs](https://pytorch.org/docs/stable/generated/torch.nn.functional.normalize.html);\n",
    "* by default, perform L-2 normalization (i.e. Eucleadian) on the first dimension;"
   ]
  },
  {
   "cell_type": "code",
   "execution_count": null,
   "metadata": {},
   "outputs": [],
   "source": [
    "\"\"\" batched torch.matmul \"\"\"\n",
    "\n",
    "# see the doc: https://pytorch.org/docs/stable/generated/torch.matmul.html\n",
    "\n",
    "import torch\n",
    "\n",
    "# 1. for batched matmul torch.matmul(x, y):\n",
    "# - must have x.size(-1) == y.size(-2) -> this is also the dimension to reduce\n",
    "# - all other dimensions must exactly math -> considered to be batch dimensions\n",
    "x1 = torch.randn(10, 3, 4)\n",
    "y1 = torch.randn(10, 4, 5)\n",
    "print(torch.matmul(x1, y1).shape)       # x1.size(2) must match y1.size(1)\n",
    "# print(torch.matmul(y1, x1).shape)     # error, b/c 5 != 3\n",
    "x2 = torch.randn(10, 3, 4, 6)\n",
    "y2 = torch.randn(10, 3, 6, 5)\n",
    "y21 = torch.randn(10, 7, 6, 5)\n",
    "print(torch.matmul(x2, y2).shape)\n",
    "# print(torch.matmul(x2, y21).shape)      # error, b/c x2.size(1) (3) != y21.size(1) (7)"
   ]
  },
  {
   "cell_type": "code",
   "execution_count": null,
   "metadata": {},
   "outputs": [],
   "source": []
  }
 ],
 "metadata": {
  "interpreter": {
   "hash": "c04e14e757fcd5c931b20c230f107ce3be1b6ffeb36695f3d01a868d65a6b9cc"
  },
  "kernelspec": {
   "display_name": "Python 3.7.6 64-bit ('base': conda)",
   "language": "python",
   "name": "python3"
  },
  "language_info": {
   "codemirror_mode": {
    "name": "ipython",
    "version": 3
   },
   "file_extension": ".py",
   "mimetype": "text/x-python",
   "name": "python",
   "nbconvert_exporter": "python",
   "pygments_lexer": "ipython3",
   "version": "3.7.6"
  },
  "orig_nbformat": 4
 },
 "nbformat": 4,
 "nbformat_minor": 2
}
