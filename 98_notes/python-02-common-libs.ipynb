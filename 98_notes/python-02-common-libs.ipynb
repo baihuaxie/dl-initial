{
 "cells": [
  {
   "cell_type": "markdown",
   "metadata": {},
   "source": [
    "### argparse\n",
    "* the basic lib for parsing command line arguments"
   ]
  },
  {
   "cell_type": "code",
   "execution_count": null,
   "metadata": {},
   "outputs": [],
   "source": [
    "\"\"\" argparse \"\"\"\n",
    "\n",
    "# import\n",
    "import argparse\n",
    "\n",
    "# default object is ArgumentParser\n",
    "parser = argparse.ArgumentParser(formatter_class=argparse.ArgumentDefaultsHelpFormatter)\n",
    "\n",
    "# add a command line argument\n",
    "parser.add_argument(\"--name\", help=\"name of argument\", type=str, default=None)\n",
    "\n",
    "# parse known arguments\n",
    "# parse_known_args returns a tuple of two lists, one contains all arguments known to the parser (ArgumentParser object), the other contains the unknown arguments\n",
    "# this is a standard way to handle the case where the command line may input unknown arguments without causing errors\n",
    "args=sys.argv\n",
    "known_args, unknown_args = parser.parse_known_args(args)\n",
    "\n",
    "## then use parser.argument_name to refer to the individual arguments\n",
    "known_args.name"
   ]
  },
  {
   "cell_type": "markdown",
   "metadata": {},
   "source": [
    "### collections.defaultdict\n",
    "* works like normal dict, but with a default factory method that returns a value whenever a non-existent key is accessed\n",
    "* i.e., with defaultdict never would report KeyError\n",
    "* best used if need a dictionary & each key's value should start with a default one\n",
    "* do defaultdict(func/obj), where the argument is either\n",
    "    * a function name (not function call like func())\n",
    "    * an object type like set, int, list\n",
    "    * defaultdict would set this func/obj as its factory method\n",
    "        * each time I want to access a key that is non-existent in the dictionary, defaultdict would use this factory method to create a value for that key\n",
    "        * e.g., if I did defaultdict(int), then the default value would be int(), which is zero; set would give set() which is an empty set\n",
    "        * can also do any customized functions as default factory method"
   ]
  },
  {
   "cell_type": "code",
   "execution_count": null,
   "metadata": {
    "tags": []
   },
   "outputs": [],
   "source": [
    "\"\"\" collections.defaultdict \"\"\"\n",
    "from collections import defaultdict\n",
    "\n",
    "my_dict = defaultdict(set) # default value is set() or empty set\n",
    "my_dict['USA']='Washington'\n",
    "# access a non-existent key 'China'\n",
    "my_dict['China']\n",
    "print(my_dict)"
   ]
  },
  {
   "cell_type": "markdown",
   "metadata": {},
   "source": [
    "### importlib.import_module\n",
    "* check [this link](https://stackoverflow.com/questions/10675054/how-to-import-a-module-in-python-with-importlib-import-module) for details\n",
    "* syntax: import_module('path/to/module')\n",
    "    * need a .py file in the path\n",
    "\n",
    "Q1: what is the type of return for import_module()?\n",
    "Q2: how to import modules in relative silbling directories?"
   ]
  },
  {
   "cell_type": "code",
   "execution_count": null,
   "metadata": {
    "tags": []
   },
   "outputs": [],
   "source": [
    "\"\"\" import_module \"\"\"\n",
    "from importlib import import_module\n",
    "\n",
    "print(import_module('model.resnet'))"
   ]
  },
  {
   "cell_type": "markdown",
   "metadata": {},
   "source": [
    "### getattr()\n",
    "* refer to [this link](https://stackoverflow.com/questions/4075190/what-is-getattr-exactly-and-how-do-i-use-it)\n",
    "* getattr(object, x)() == object.x\n",
    "\n",
    "use-cases for getattr()\n",
    "* a) want to do dynamic method call, i.e., don't know x in advance\n",
    "* b) there is no x method for object, but I want to assign a value to it"
   ]
  },
  {
   "cell_type": "code",
   "execution_count": null,
   "metadata": {
    "tags": []
   },
   "outputs": [],
   "source": [
    "\"\"\" use getattr and import_module to dynamically import classes, functions by string names \"\"\"\n",
    "from importlib import import_module\n",
    "# suppose under directory './model', there are multiple net.py files like net1.py, net2.py, its name in the variable 'net'\n",
    "# in each net.py there is a class or function we like to call by its name in the variable 'model'\n",
    "# note: eval() can do the same thing, but in general eval() is not considered a good practice in python\n",
    "net = 'resnet'\n",
    "model = 'resnet18'\n",
    "myModel = getattr(import_module('.'+net, 'model'), model)()\n",
    "print(myModel)"
   ]
  },
  {
   "cell_type": "markdown",
   "metadata": {},
   "source": [
    "### sys.platform\n",
    "* returns system platform as a string, e.g., 'win32'"
   ]
  },
  {
   "cell_type": "code",
   "execution_count": null,
   "metadata": {},
   "outputs": [],
   "source": [
    "\"\"\" sys.platform \"\"\"\n",
    "import sys\n",
    "\n",
    "print(sys.platform)"
   ]
  },
  {
   "cell_type": "markdown",
   "metadata": {},
   "source": [
    "### multiprocessing.cpu_count()\n",
    "* returns number of cpu cores in the system"
   ]
  },
  {
   "cell_type": "code",
   "execution_count": null,
   "metadata": {
    "tags": []
   },
   "outputs": [],
   "source": [
    "\"\"\" multiprocessing.cpu_count() \"\"\"\n",
    "import multiprocessing\n",
    "\n",
    "print(multiprocessing.cpu_count())"
   ]
  },
  {
   "cell_type": "markdown",
   "metadata": {},
   "source": [
    "### time\n",
    "* time.perf_counter(): can be used to measure a time interval. see [this post](https://www.geeksforgeeks.org/time-perf_counter-function-in-python/#:~:text=perf_counter()%20function%20always%20returns,sleep%20and%20is%20system%2Dwide.) for examples."
   ]
  },
  {
   "cell_type": "code",
   "execution_count": null,
   "metadata": {},
   "outputs": [],
   "source": [
    "import time\n",
    "\n",
    "time.perf_counter()"
   ]
  },
  {
   "cell_type": "markdown",
   "metadata": {},
   "source": [
    "### pickle: serialize and de-serialize a Python object\n",
    "* useful for loading / saving files"
   ]
  },
  {
   "cell_type": "markdown",
   "metadata": {},
   "source": [
    "### inspect: get information about python live objects\n",
    "\n",
    "* note: `inspect.currentframe()`\n",
    "  * Return the frame object for the caller’s stack frame;"
   ]
  },
  {
   "cell_type": "markdown",
   "metadata": {},
   "source": [
    "### psutil: python systems and processes utilities\n",
    "\n",
    "* note: used to get lots of hardware and system information;"
   ]
  },
  {
   "cell_type": "markdown",
   "metadata": {},
   "source": [
    "### gc: python garbage collector\n",
    "\n",
    "* e.g.: `gc.collect()`;"
   ]
  },
  {
   "cell_type": "markdown",
   "metadata": {},
   "source": [
    "### glob: Unix-style pathname pattern expansion\n",
    "* use case: get all files under a directory: `glob.glob(\"/directory/*\")`"
   ]
  },
  {
   "cell_type": "code",
   "execution_count": null,
   "metadata": {},
   "outputs": [],
   "source": [
    "\"\"\" os.path.dirname \"\"\"\n",
    "\n",
    "import os\n",
    "\n",
    "curr_path = os.path.realpath(\"python-10-01.png\")\n",
    "print(curr_path)\n",
    "curr_dir = os.path.dirname(curr_path)\n",
    "print(curr_dir)"
   ]
  },
  {
   "cell_type": "code",
   "execution_count": null,
   "metadata": {},
   "outputs": [],
   "source": [
    "\"\"\" iterate over files in a directory \"\"\"\n",
    "# see https://stackoverflow.com/questions/10377998/how-can-i-iterate-over-files-in-a-given-directory\n",
    "\n",
    "import os\n",
    "\n",
    "for filename in os.listdir(\"/path/to/dir/\"):\n",
    "    print(filename)"
   ]
  },
  {
   "cell_type": "code",
   "execution_count": null,
   "metadata": {},
   "outputs": [],
   "source": [
    "\"\"\" generate a unique id from a string. \"\"\"\n",
    "# see https://stackoverflow.com/questions/46753183/how-to-generate-a-unique-id-for-same-input-id-using-python\n",
    "import hashlib\n",
    "id = 12\n",
    "hashlib.sha256(str(id).encode()).hexdigest()"
   ]
  },
  {
   "cell_type": "code",
   "execution_count": null,
   "metadata": {},
   "outputs": [],
   "source": [
    "\"\"\" heapq always compare based on the first element \"\"\"\n",
    "# see https://stackoverflow.com/questions/52327736/heapify-list-based-on-2nd-element-of-pair-in-python"
   ]
  }
 ],
 "metadata": {
  "interpreter": {
   "hash": "c04e14e757fcd5c931b20c230f107ce3be1b6ffeb36695f3d01a868d65a6b9cc"
  },
  "kernelspec": {
   "display_name": "Python 3.7.6 64-bit ('base': conda)",
   "language": "python",
   "name": "python3"
  },
  "language_info": {
   "codemirror_mode": {
    "name": "ipython",
    "version": 3
   },
   "file_extension": ".py",
   "mimetype": "text/x-python",
   "name": "python",
   "nbconvert_exporter": "python",
   "pygments_lexer": "ipython3",
   "version": "3.7.6"
  },
  "orig_nbformat": 2
 },
 "nbformat": 4,
 "nbformat_minor": 2
}
