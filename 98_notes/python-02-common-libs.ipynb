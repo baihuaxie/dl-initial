{
 "metadata": {
  "language_info": {
   "codemirror_mode": {
    "name": "ipython",
    "version": 3
   },
   "file_extension": ".py",
   "mimetype": "text/x-python",
   "name": "python",
   "nbconvert_exporter": "python",
   "pygments_lexer": "ipython3",
   "version": "3.7.6-final"
  },
  "orig_nbformat": 2,
  "kernelspec": {
   "name": "python_defaultSpec_1601782773843",
   "display_name": "Python 3.7.6 64-bit ('base': conda)"
  }
 },
 "nbformat": 4,
 "nbformat_minor": 2,
 "cells": [
  {
   "cell_type": "markdown",
   "source": [
    "### argparse\n",
    "* the basic lib for parsing command line arguments"
   ],
   "metadata": {}
  },
  {
   "cell_type": "code",
   "execution_count": null,
   "source": [
    "\"\"\" argparse \"\"\"\n",
    "\n",
    "# import\n",
    "import argparse\n",
    "\n",
    "# default object is ArgumentParser\n",
    "parser = argparse.ArgumentParser(formatter_class=argparse.ArgumentDefaultsHelpFormatter)\n",
    "\n",
    "# add a command line argument\n",
    "parser.add_argument(\"--name\", help=\"name of argument\", type=str, default=None)\n",
    "\n",
    "# parse known arguments\n",
    "# parse_known_args returns a tuple of two lists, one contains all arguments known to the parser (ArgumentParser object), the other contains the unknown arguments\n",
    "# this is a standard way to handle the case where the command line may input unknown arguments without causing errors\n",
    "args=sys.argv\n",
    "known_args, unknown_args = parser.parse_known_args(args)\n",
    "\n",
    "## then use parser.argument_name to refer to the individual arguments\n",
    "known_args.name"
   ],
   "outputs": [],
   "metadata": {}
  },
  {
   "cell_type": "markdown",
   "source": [
    "### collections.defaultdict\n",
    "* works like normal dict, but with a default factory method that returns a value whenever a non-existent key is accessed\n",
    "* i.e., with defaultdict never would report KeyError\n",
    "* best used if need a dictionary & each key's value should start with a default one\n",
    "* do defaultdict(func/obj), where the argument is either\n",
    "    * a function name (not function call like func())\n",
    "    * an object type like set, int, list\n",
    "    * defaultdict would set this func/obj as its factory method\n",
    "        * each time I want to access a key that is non-existent in the dictionary, defaultdict would use this factory method to create a value for that key\n",
    "        * e.g., if I did defaultdict(int), then the default value would be int(), which is zero; set would give set() which is an empty set\n",
    "        * can also do any customized functions as default factory method"
   ],
   "metadata": {}
  },
  {
   "cell_type": "code",
   "execution_count": null,
   "source": [
    "\"\"\" collections.defaultdict \"\"\"\r\n",
    "from collections import defaultdict\r\n",
    "\r\n",
    "my_dict = defaultdict(set) # default value is set() or empty set\r\n",
    "my_dict['USA']='Washington'\r\n",
    "# access a non-existent key 'China'\r\n",
    "my_dict['China']\r\n",
    "print(my_dict)"
   ],
   "outputs": [],
   "metadata": {
    "tags": []
   }
  },
  {
   "cell_type": "markdown",
   "source": [
    "### importlib.import_module\n",
    "* check [this link](https://stackoverflow.com/questions/10675054/how-to-import-a-module-in-python-with-importlib-import-module) for details\n",
    "* syntax: import_module('path/to/module')\n",
    "    * need a .py file in the path\n",
    "\n",
    "Q1: what is the type of return for import_module()?\n",
    "Q2: how to import modules in relative silbling directories?"
   ],
   "metadata": {}
  },
  {
   "cell_type": "code",
   "execution_count": null,
   "source": [
    "\"\"\" import_module \"\"\"\r\n",
    "from importlib import import_module\r\n",
    "\r\n",
    "print(import_module('model.resnet'))"
   ],
   "outputs": [],
   "metadata": {
    "tags": []
   }
  },
  {
   "cell_type": "markdown",
   "source": [
    "### getattr()\n",
    "* refer to [this link](https://stackoverflow.com/questions/4075190/what-is-getattr-exactly-and-how-do-i-use-it)\n",
    "* getattr(object, x)() == object.x\n",
    "\n",
    "use-cases for getattr()\n",
    "* a) want to do dynamic method call, i.e., don't know x in advance\n",
    "* b) there is no x method for object, but I want to assign a value to it"
   ],
   "metadata": {}
  },
  {
   "cell_type": "code",
   "execution_count": null,
   "source": [
    "\"\"\" use getattr and import_module to dynamically import classes, functions by string names \"\"\"\r\n",
    "from importlib import import_module\r\n",
    "# suppose under directory './model', there are multiple net.py files like net1.py, net2.py, its name in the variable 'net'\r\n",
    "# in each net.py there is a class or function we like to call by its name in the variable 'model'\r\n",
    "# note: eval() can do the same thing, but in general eval() is not considered a good practice in python\r\n",
    "net = 'resnet'\r\n",
    "model = 'resnet18'\r\n",
    "myModel = getattr(import_module('.'+net, 'model'), model)()\r\n",
    "print(myModel)"
   ],
   "outputs": [],
   "metadata": {
    "tags": []
   }
  },
  {
   "cell_type": "markdown",
   "source": [
    "### sys.platform\n",
    "* returns system platform as a string, e.g., 'win32'"
   ],
   "metadata": {}
  },
  {
   "cell_type": "code",
   "execution_count": null,
   "source": [
    "\"\"\" sys.platform \"\"\"\r\n",
    "import sys\r\n",
    "\r\n",
    "print(sys.platform)"
   ],
   "outputs": [],
   "metadata": {}
  },
  {
   "cell_type": "markdown",
   "source": [
    "### multiprocessing.cpu_count()\n",
    "* returns number of cpu cores in the system"
   ],
   "metadata": {}
  },
  {
   "cell_type": "code",
   "execution_count": null,
   "source": [
    "\"\"\" multiprocessing.cpu_count() \"\"\"\r\n",
    "import multiprocessing\r\n",
    "\r\n",
    "print(multiprocessing.cpu_count())"
   ],
   "outputs": [],
   "metadata": {
    "tags": []
   }
  },
  {
   "cell_type": "markdown",
   "source": [
    "### time\n",
    "* time.perf_counter(): can be used to measure a time interval. see [this post](https://www.geeksforgeeks.org/time-perf_counter-function-in-python/#:~:text=perf_counter()%20function%20always%20returns,sleep%20and%20is%20system%2Dwide.) for examples."
   ],
   "metadata": {}
  },
  {
   "cell_type": "code",
   "execution_count": null,
   "source": [
    "import time\r\n",
    "\r\n",
    "time.perf_counter()"
   ],
   "outputs": [],
   "metadata": {}
  },
  {
   "cell_type": "markdown",
   "source": [
    "### pickle: serialize and de-serialize a Python object\r\n",
    "* useful for loading / saving files"
   ],
   "metadata": {}
  },
  {
   "cell_type": "markdown",
   "source": [
    "### inspect: get information about python live objects\r\n",
    "\r\n",
    "* note: `inspect.currentframe()`\r\n",
    "  * Return the frame object for the caller’s stack frame;"
   ],
   "metadata": {}
  },
  {
   "cell_type": "markdown",
   "source": [
    "### psutil: python systems and processes utilities\r\n",
    "\r\n",
    "* note: used to get lots of hardware and system information;"
   ],
   "metadata": {}
  },
  {
   "cell_type": "markdown",
   "source": [
    "### gc: python garbage collector\r\n",
    "\r\n",
    "* e.g.: `gc.collect()`;"
   ],
   "metadata": {}
  },
  {
   "cell_type": "markdown",
   "source": [
    "### glob: Unix-style pathname pattern expansion\r\n",
    "* use case: get all files under a directory: `glob.glob(\"/directory/*\")`"
   ],
   "metadata": {}
  },
  {
   "cell_type": "markdown",
   "source": [],
   "metadata": {}
  }
 ]
}