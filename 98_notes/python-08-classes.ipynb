{
 "metadata": {
  "language_info": {
   "codemirror_mode": {
    "name": "ipython",
    "version": 3
   },
   "file_extension": ".py",
   "mimetype": "text/x-python",
   "name": "python",
   "nbconvert_exporter": "python",
   "pygments_lexer": "ipython3",
   "version": 3
  },
  "orig_nbformat": 2
 },
 "nbformat": 4,
 "nbformat_minor": 2,
 "cells": [
  {
   "source": [
    "### \\__getitem\\__() class method\n",
    "* used for indexing a class object by syntax like a[idx]\n",
    "* see [this post](https://stackoverflow.com/questions/43627405/understanding-getitem-method) for details"
   ],
   "cell_type": "markdown",
   "metadata": {}
  },
  {
   "source": [
    "### self.\\__class\\__()\n",
    "* like to force type conversion to the _type_ of the class\n",
    "* purpose of using it with \\__getitem\\__()?"
   ],
   "cell_type": "markdown",
   "metadata": {}
  },
  {
   "source": [
    "#### cls vs. self\n",
    "* cls ~ static member functions;\n",
    "* self ~ non-static member functions;\n",
    "* in general, if something (function, method, or variable) is \"static\", it means it stays the same across multiple scopes;\n",
    "    * e.g., if a variable is defined static inside a function body, then its value stays the same across multiple invocations of the function;\n",
    "    * e.g., if a method is declared static in a class, then it can only be accessed by the class itself, not any class instances;\n",
    "        * say we have a class named myClass(); there is only one class definition, but it can be instantiated multiple times;\n",
    "            * class_a = myClass(), class_b = myClass(), ...\n",
    "            * if myClass() has a static member function 'headmaster()', then I can only access this like myClass.headmaster();\n",
    "            * if myClass() has a non-static member function 'class_id()', then I can access it like class_a.class_id(), class_b.class_id(), ...;\n",
    "    * static member functions can only access statis class data members; non-static member function can access any class data member;\n",
    "* in python:\n",
    "    * self is implicitly passed as the first argument to a non-static class method => this is the usual class method that I have used, no decorators;\n",
    "    * cls is implicityly passed as the first argument to a static class method => these methods must be decorated by @classmethod;\n",
    "    * neiterh self nor cls is passed at all to a class method decorated by @staticmethod => they are like plain functions that don't really belong to the class, but sometimes we put these functions inside a class, because there are some logical relationships;\n",
    "\n",
    "* see [this answer](https://stackoverflow.com/questions/136097/difference-between-staticmethod-and-classmethod) for the difference b/t @staticmethod and @classmethod;\n",
    "* see [this post](https://www.bogotobogo.com/cplusplus/statics.php#:~:text=from%20other%20modules.-,static%20members%20exist%20as%20members%20of%20the%20class%20rather%20than,each%20object%20of%20the%20class.&text=the%20entire%20class.-,Non%2Dstatic%20member%20functions%20can%20access%20all%20data%20members%20of,on%20the%20static%20data%20members.) for what does static mean;\n",
    "* see [this answer](https://stackoverflow.com/questions/4613000/difference-between-cls-and-self-in-python-classes) for difference b/t cls and self in python;"
   ],
   "cell_type": "markdown",
   "metadata": {}
  }
 ]
}