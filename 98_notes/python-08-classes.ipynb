{
 "metadata": {
  "language_info": {
   "codemirror_mode": {
    "name": "ipython",
    "version": 3
   },
   "file_extension": ".py",
   "mimetype": "text/x-python",
   "name": "python",
   "nbconvert_exporter": "python",
   "pygments_lexer": "ipython3",
   "version": 3
  },
  "orig_nbformat": 2
 },
 "nbformat": 4,
 "nbformat_minor": 2,
 "cells": [
  {
   "source": [
    "### \\__getitem\\__() class method\n",
    "* used for indexing a class object by syntax like a[idx]\n",
    "* see [this post](https://stackoverflow.com/questions/43627405/understanding-getitem-method) for details"
   ],
   "cell_type": "markdown",
   "metadata": {}
  },
  {
   "source": [
    "### self.\\__class\\__()\n",
    "* like to force type conversion to the _type_ of the class\n",
    "* purpose of using it with \\__getitem\\__()?"
   ],
   "cell_type": "markdown",
   "metadata": {}
  }
 ]
}