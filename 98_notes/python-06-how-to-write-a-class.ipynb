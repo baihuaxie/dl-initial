{
 "metadata": {
  "language_info": {
   "codemirror_mode": {
    "name": "ipython",
    "version": 3
   },
   "file_extension": ".py",
   "mimetype": "text/x-python",
   "name": "python",
   "nbconvert_exporter": "python",
   "pygments_lexer": "ipython3",
   "version": 3
  },
  "orig_nbformat": 2
 },
 "nbformat": 4,
 "nbformat_minor": 2,
 "cells": [
  {
   "source": [
    "### __repr__ and __str__\n",
    "* both are intrinsic (want of a better word?) Python class methods that prints out contents about the class\n",
    "* refer to [this great answer](https://stackoverflow.com/questions/1436703/difference-between-str-and-repr) about their difference and usage\n",
    "* in a nutshell:\n",
    "    * __repr__ prints out the contents of a class object for it to be unambiguous -> the reader is likely a fellow programmer (or myself) doing debugging on the class\n",
    "        * so:\n",
    "            * a) every (important?) class should overload a __repr__ method;\n",
    "            * b) __repr__ method should print in such a way that answers this question: what do I need to know about this class if something went wrong involving an object of it?\n",
    "    * __str__ prints out the contents of a class object for it to be readable -> the reader is likely a user\n",
    "        * so only classes that handles strings, texts, dates, etc., i.e., that needed to print something out, would need to overload a __str__ method\n",
    "        "
   ],
   "cell_type": "markdown",
   "metadata": {}
  },
  {
   "cell_type": "code",
   "execution_count": null,
   "metadata": {},
   "outputs": [],
   "source": []
  },
  {
   "cell_type": "code",
   "execution_count": null,
   "metadata": {},
   "outputs": [],
   "source": []
  },
  {
   "cell_type": "code",
   "execution_count": null,
   "metadata": {},
   "outputs": [],
   "source": []
  }
 ]
}