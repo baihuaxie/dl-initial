{
 "metadata": {
  "language_info": {
   "codemirror_mode": {
    "name": "ipython",
    "version": 3
   },
   "file_extension": ".py",
   "mimetype": "text/x-python",
   "name": "python",
   "nbconvert_exporter": "python",
   "pygments_lexer": "ipython3",
   "version": "3.7.6-final"
  },
  "orig_nbformat": 2,
  "kernelspec": {
   "name": "python376jvsc74a57bd0c04e14e757fcd5c931b20c230f107ce3be1b6ffeb36695f3d01a868d65a6b9cc",
   "display_name": "Python 3.7.6 64-bit (conda)"
  }
 },
 "nbformat": 4,
 "nbformat_minor": 2,
 "cells": [
  {
   "source": [
    "#### save a list of dictionaries into a .csv file using python's csv lib\n",
    "* refer to [this answer](https://stackoverflow.com/questions/3086973/how-do-i-convert-this-list-of-dictionaries-to-a-csv-file) for datails"
   ],
   "cell_type": "markdown",
   "metadata": {}
  },
  {
   "cell_type": "code",
   "execution_count": null,
   "metadata": {},
   "outputs": [],
   "source": [
    "\"\"\" save a list of dicts into .csv file \"\"\"\n",
    "\n",
    "import csv\n",
    "\n",
    "lst = [{'accuracy': 0.65625, 'loss': 0.9852703809738159}, {'accuracy': 0.75, 'loss': 0.7926470041275024}, {'accuracy': 0.78125, 'loss': 0.6472556591033936}, {'accuracy': 0.71875, 'loss': 0.8842955827713013}, {'accuracy': 0.78125, 'loss': 0.8109518885612488}, {'accuracy': 0.625, 'loss': 1.1132577657699585}, {'accuracy': 0.71875, 'loss': 0.6284990906715393}, {'accuracy': 0.84375, 'loss': 0.6642897129058838}, {'accuracy': 0.75, 'loss': 0.8352426886558533}, {'accuracy': 0.625, 'loss': 1.0439457893371582}, {'accuracy': 0.71875, 'loss': 0.7318465709686279}, {'accuracy': 0.75, 'loss': 0.9115254878997803}, {'accuracy': 0.6875, 'loss': 0.6738001108169556}, {'accuracy': 0.78125, 'loss': 0.5255595445632935}, {'accuracy': 0.75, 'loss': 0.7317112684249878}, {'accuracy': 0.71875, 'loss': 0.8124203681945801}]\n",
    "\n",
    "# get headers from keys\n",
    "headers = set().union(*(d.keys() for d in lst))\n",
    "\n",
    "# add newline='' to remove added empty new lines after each row\n",
    "with open('test.csv', 'a', newline='') as f:\n",
    "    dict_writer = csv.DictWriter(f, headers)\n",
    "    dict_writer.writeheader()\n",
    "    dict_writer.writerows(lst)"
   ]
  },
  {
   "cell_type": "code",
   "execution_count": null,
   "metadata": {},
   "outputs": [],
   "source": [
    "\"\"\" save a list into .txt file and have each entry occupy a row \"\"\"\n",
    "\n",
    "lst = ['a','b','c']\n",
    "\n",
    "file1 = open(\"./myfile.txt\", \"w\")\n",
    "file1.write(\"\\n\".join(lst))\n",
    "file1.close()"
   ]
  },
  {
   "cell_type": "code",
   "execution_count": null,
   "metadata": {},
   "outputs": [],
   "source": [
    "\"\"\" read .csv file into pandas DataFrame \"\"\"\n",
    "import pandas as pd\n",
    "\n",
    "csv_file = './python-09-batch-summary.csv'\n",
    "df = pd.read_csv(csv_file, sep=',', header=0)\n",
    "# get dataframe column headers as a list (exclude index column)\n",
    "headers = list(df)\n",
    "print(headers)"
   ]
  },
  {
   "cell_type": "code",
   "execution_count": null,
   "metadata": {},
   "outputs": [],
   "source": [
    "\"\"\" get a data column by column header along with index columns \"\"\"\n",
    "import pandas as pd\n",
    "\n",
    "csv_file = './python-09-batch-summary.csv'\n",
    "df = pd.read_csv(csv_file, sep=',', header=0, index_col='iteration')\n",
    "# returns a pd.Series object, if only 1 data column is selected\n",
    "data = df['accuracy']"
   ]
  },
  {
   "cell_type": "code",
   "execution_count": null,
   "metadata": {},
   "outputs": [],
   "source": [
    "\"\"\" sns line plots \"\"\"\n",
    "import seaborn as sns\n",
    "import pandas as pd\n",
    "\n",
    "csv_file = './python-09-batch-summary.csv'\n",
    "df = pd.read_csv(csv_file, sep=',', header=0, index_col='iteration')\n",
    "# returns a pd.Series object, if only 1 data column is selected\n",
    "data = df['accuracy']\n",
    "# build a lineplot\n",
    "fig = sns.relplot(data=data, kind='line')"
   ]
  },
  {
   "cell_type": "code",
   "execution_count": null,
   "metadata": {},
   "outputs": [],
   "source": [
    "\"\"\" sns.set_theme() \"\"\"\n",
    "import pandas as pd\n",
    "import seaborn as sns\n",
    "\n",
    "csv_file = './python-09-batch-summary.csv'\n",
    "df = pd.read_csv(csv_file, sep=',', header=0, index_col='iteration')\n",
    "# returns a pd.Series object, if only 1 data column is selected\n",
    "data = df['accuracy']\n",
    "\n",
    "# configure the rc parameters\n",
    "axes_style = {\n",
    "    'axes.facecolor': 'white',\n",
    "    'axes.edgecolor': '.8',\n",
    "    'axes.grid': True,\n",
    "    'axes.axisbelow': True,\n",
    "    'axes.labelcolor': '.15',\n",
    "    'figure.facecolor': 'white',\n",
    "    'grid.color': '.8',\n",
    "    'grid.linestyle': '-',\n",
    "    'text.color': '.15',\n",
    "    'xtick.color': '.15',\n",
    "    'ytick.color': '.15',\n",
    "    # set ticks direction to be inward into the figure\n",
    "    'xtick.direction': 'in',\n",
    "    'ytick.direction': 'in',\n",
    "    'lines.solid_capstyle': 'round',\n",
    "    'patch.edgecolor': 'w',\n",
    "    'image.cmap': 'rocket',\n",
    "    'font.family': ['sans-serif'],\n",
    "    'font.sans-serif': ['Arial', 'DejaVu Sans', 'Liberation Sans', 'Bitstream Vera Sans', 'sans-serif'],\n",
    "    'patch.force_edgecolor': True,\n",
    "    'xtick.bottom': True,\n",
    "    'xtick.top': False,\n",
    "    'ytick.left': True,\n",
    "    'ytick.right': False,\n",
    "    'axes.spines.left': True,\n",
    "    'axes.spines.bottom': True,\n",
    "    'axes.spines.right': True,\n",
    "    'axes.spines.top': True\n",
    "}\n",
    "\n",
    "plotting_context = {\n",
    "    'font.size': 20,\n",
    "    'axes.labelsize': 20,\n",
    "    'axes.titlesize': 20,\n",
    "    'xtick.labelsize': 15,\n",
    "    'ytick.labelsize': 15,\n",
    "    'legend.fontsize': 10,\n",
    "    'axes.linewidth': 3.0,\n",
    "    'grid.linewidth': 1.0,\n",
    "    'lines.linewidth': 2.0,\n",
    "    'lines.markersize': 5.0,\n",
    "    'patch.linewidth': 0.8,\n",
    "    'xtick.major.width': 1.0,\n",
    "    'ytick.major.width': 1.0,\n",
    "    'xtick.minor.width': 0.8,\n",
    "    'ytick.minor.width': 0.8,\n",
    "    'xtick.major.size': 5.0,\n",
    "    'ytick.major.size': 5.0,\n",
    "    'xtick.minor.size': 3.0,\n",
    "    'ytick.minor.size': 3.0\n",
    "}\n",
    "# set figure theme\n",
    "sns.set(context=plotting_context, style=axes_style)\n",
    "# build a lineplot\n",
    "fig = sns.relplot(data=data, kind='line', height=5, aspect=1.2)\n",
    "# configure y-axis range\n",
    "fig.set(ylim=(0.5, 1.0))\n",
    "# configure y-axis title\n",
    "fig.set_ylabels(\"Accuracy\")\n",
    "# configure x-axis title\n",
    "fig.set_xlabels(\"# of Iterations\")"
   ]
  },
  {
   "cell_type": "code",
   "execution_count": null,
   "metadata": {},
   "outputs": [],
   "source": [
    "\"\"\" plot with 2nd y-axis \"\"\"\n",
    "import pandas as pd\n",
    "import seaborn as sns\n",
    "import matplotlib.pyplot as plt\n",
    "\n",
    "csv_file = './python-09-batch-summary.csv'\n",
    "df = pd.read_csv(csv_file, sep=',', header=0, index_col='iteration')\n",
    "df.reset_index(inplace=True)\n",
    "# returns a pd.Series object, if only 1 data column is selected\n",
    "fig = sns.relplot(data=df, x='iteration', y='accuracy', kind='line')\n",
    "ax2 = plt.twinx()\n",
    "sns.lineplot(data=df, x='iteration', y='loss', ax=ax2, color='red')"
   ]
  },
  {
   "cell_type": "code",
   "execution_count": null,
   "metadata": {},
   "outputs": [],
   "source": [
    "\"\"\" get all column headers in a list \"\"\"\n",
    "import pandas as pd\n",
    "\n",
    "csv_file = './python-09-batch-summary.csv'\n",
    "df = pd.read_csv(csv_file, sep=',', header=0, index_col=None)\n",
    "list(df)"
   ]
  },
  {
   "source": [
    "### fig, axes and axis in matplotlib\n",
    "* fig: the object that encampasses the entire canvas; what's being saved as a figure;\n",
    "    * fig object is on the same level as the FacetGrid object in seaborn;\n",
    "    * get fig object by creating a plot:\n",
    "        * plt.figure()\n",
    "    * get fig object by FacetGrid:\n",
    "        * FacetGrid.fig\n",
    "* axes: i.e., subplots; one fig object has at least one axes object; note that axes is NOT plural of axis;\n",
    "    * get axes object from FacetGrid object by:\n",
    "        * FacetGrid.ax, FacetGrid.axes_dict, or FacetGrid.axes all returns matplotlib axes object(s)\n",
    "    * get axes object from plt or fig by:\n",
    "        * plt.subplot(), plt.subplots(), plt.axes()\n",
    "        * fig.add_subplot(), fig.add_axes(), fig.subplots()\n",
    "    * [axes API](https://matplotlib.org/stable/api/axes_api.html)\n",
    "* axis: the x- or y- axis objects of an axes object; access to items like tick, labels,etc.;\n",
    "    * get axis:\n",
    "        \n",
    "    * [axis API](https://matplotlib.org/3.2.2/api/axis_api.html)\n",
    "* see [this post](https://towardsdatascience.com/plt-xxx-or-ax-xxx-that-is-the-question-in-matplotlib-8580acf42f44) for a structured overview"
   ],
   "cell_type": "markdown",
   "metadata": {}
  },
  {
   "source": [
    "### matplotlib styling options\n",
    "\n",
    "* 1) use rcParams:\n",
    "    * rcParams is a dictionary object that can be passed to sns.set_theme() (equivalent to sns.set_theme()) function\n",
    "    * a list of [available keys](https://matplotlib.org/stable/api/matplotlib_configuration_api.html#matplotlib.rcParams) in rcParams\n",
    "    * it can be stored in a style sheet e.g. json file; note that the final parameter passed as rcParams needs to be a single-level dictionary, so if the json file is nested, need to use *dict or **dict;\n",
    "\n",
    "* 2) use axis object methods:\n",
    "    * not all features are available in rcParams; some axis-level control requires using axis methods;\n",
    "    "
   ],
   "cell_type": "markdown",
   "metadata": {}
  }
 ]
}