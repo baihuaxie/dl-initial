{
 "metadata": {
  "language_info": {
   "codemirror_mode": {
    "name": "ipython",
    "version": 3
   },
   "file_extension": ".py",
   "mimetype": "text/x-python",
   "name": "python",
   "nbconvert_exporter": "python",
   "pygments_lexer": "ipython3",
   "version": "3.7.6"
  },
  "orig_nbformat": 2,
  "kernelspec": {
   "name": "python3",
   "display_name": "Python 3.7.6 64-bit ('base': conda)"
  },
  "interpreter": {
   "hash": "c04e14e757fcd5c931b20c230f107ce3be1b6ffeb36695f3d01a868d65a6b9cc"
  }
 },
 "nbformat": 4,
 "nbformat_minor": 2,
 "cells": [
  {
   "cell_type": "markdown",
   "source": [
    "#### save a list of dictionaries into a .csv file using python's csv lib\n",
    "* refer to [this answer](https://stackoverflow.com/questions/3086973/how-do-i-convert-this-list-of-dictionaries-to-a-csv-file) for datails"
   ],
   "metadata": {}
  },
  {
   "cell_type": "code",
   "execution_count": null,
   "source": [
    "\"\"\" save a list of dicts into .csv file \"\"\"\r\n",
    "\r\n",
    "import csv\r\n",
    "\r\n",
    "lst = [{'accuracy': 0.65625, 'loss': 0.9852703809738159}, {'accuracy': 0.75, 'loss': 0.7926470041275024}, {'accuracy': 0.78125, 'loss': 0.6472556591033936}, {'accuracy': 0.71875, 'loss': 0.8842955827713013}, {'accuracy': 0.78125, 'loss': 0.8109518885612488}, {'accuracy': 0.625, 'loss': 1.1132577657699585}, {'accuracy': 0.71875, 'loss': 0.6284990906715393}, {'accuracy': 0.84375, 'loss': 0.6642897129058838}, {'accuracy': 0.75, 'loss': 0.8352426886558533}, {'accuracy': 0.625, 'loss': 1.0439457893371582}, {'accuracy': 0.71875, 'loss': 0.7318465709686279}, {'accuracy': 0.75, 'loss': 0.9115254878997803}, {'accuracy': 0.6875, 'loss': 0.6738001108169556}, {'accuracy': 0.78125, 'loss': 0.5255595445632935}, {'accuracy': 0.75, 'loss': 0.7317112684249878}, {'accuracy': 0.71875, 'loss': 0.8124203681945801}]\r\n",
    "\r\n",
    "# get headers from keys\r\n",
    "headers = set().union(*(d.keys() for d in lst))\r\n",
    "\r\n",
    "# add newline='' to remove added empty new lines after each row\r\n",
    "with open('test.csv', 'a', newline='') as f:\r\n",
    "    dict_writer = csv.DictWriter(f, headers)\r\n",
    "    dict_writer.writeheader()\r\n",
    "    dict_writer.writerows(lst)"
   ],
   "outputs": [],
   "metadata": {}
  },
  {
   "cell_type": "code",
   "execution_count": null,
   "source": [
    "\"\"\" save a list into .txt file and have each entry occupy a row \"\"\"\r\n",
    "\r\n",
    "lst = ['a','b','c']\r\n",
    "\r\n",
    "file1 = open(\"./myfile.txt\", \"w\")\r\n",
    "file1.write(\"\\n\".join(lst))\r\n",
    "file1.close()"
   ],
   "outputs": [],
   "metadata": {}
  },
  {
   "cell_type": "code",
   "execution_count": null,
   "source": [
    "\"\"\" read .csv file into pandas DataFrame \"\"\"\r\n",
    "import pandas as pd\r\n",
    "\r\n",
    "csv_file = './python-09-batch-summary.csv'\r\n",
    "df = pd.read_csv(csv_file, sep=',', header=0)\r\n",
    "# get dataframe column headers as a list (exclude index column)\r\n",
    "headers = list(df)\r\n",
    "print(headers)"
   ],
   "outputs": [],
   "metadata": {}
  },
  {
   "cell_type": "code",
   "execution_count": null,
   "source": [
    "\"\"\" get a data column by column header along with index columns \"\"\"\r\n",
    "import pandas as pd\r\n",
    "\r\n",
    "csv_file = './python-09-batch-summary.csv'\r\n",
    "df = pd.read_csv(csv_file, sep=',', header=0, index_col='iteration')\r\n",
    "# returns a pd.Series object, if only 1 data column is selected\r\n",
    "data = df['accuracy']"
   ],
   "outputs": [],
   "metadata": {}
  },
  {
   "cell_type": "code",
   "execution_count": null,
   "source": [
    "\"\"\" sns line plots \"\"\"\r\n",
    "import seaborn as sns\r\n",
    "import pandas as pd\r\n",
    "\r\n",
    "csv_file = './python-09-batch-summary.csv'\r\n",
    "df = pd.read_csv(csv_file, sep=',', header=0, index_col='iteration')\r\n",
    "# returns a pd.Series object, if only 1 data column is selected\r\n",
    "data = df['accuracy']\r\n",
    "# build a lineplot\r\n",
    "fig = sns.relplot(data=data, kind='line')"
   ],
   "outputs": [],
   "metadata": {}
  },
  {
   "cell_type": "code",
   "execution_count": null,
   "source": [
    "\"\"\" sns.set_theme() \"\"\"\r\n",
    "import pandas as pd\r\n",
    "import seaborn as sns\r\n",
    "\r\n",
    "csv_file = './python-09-batch-summary.csv'\r\n",
    "df = pd.read_csv(csv_file, sep=',', header=0, index_col='iteration')\r\n",
    "# returns a pd.Series object, if only 1 data column is selected\r\n",
    "data = df['accuracy']\r\n",
    "\r\n",
    "# configure the rc parameters\r\n",
    "axes_style = {\r\n",
    "    'axes.facecolor': 'white',\r\n",
    "    'axes.edgecolor': '.8',\r\n",
    "    'axes.grid': True,\r\n",
    "    'axes.axisbelow': True,\r\n",
    "    'axes.labelcolor': '.15',\r\n",
    "    'figure.facecolor': 'white',\r\n",
    "    'grid.color': '.8',\r\n",
    "    'grid.linestyle': '-',\r\n",
    "    'text.color': '.15',\r\n",
    "    'xtick.color': '.15',\r\n",
    "    'ytick.color': '.15',\r\n",
    "    # set ticks direction to be inward into the figure\r\n",
    "    'xtick.direction': 'in',\r\n",
    "    'ytick.direction': 'in',\r\n",
    "    'lines.solid_capstyle': 'round',\r\n",
    "    'patch.edgecolor': 'w',\r\n",
    "    'image.cmap': 'rocket',\r\n",
    "    'font.family': ['sans-serif'],\r\n",
    "    'font.sans-serif': ['Arial', 'DejaVu Sans', 'Liberation Sans', 'Bitstream Vera Sans', 'sans-serif'],\r\n",
    "    'patch.force_edgecolor': True,\r\n",
    "    'xtick.bottom': True,\r\n",
    "    'xtick.top': False,\r\n",
    "    'ytick.left': True,\r\n",
    "    'ytick.right': False,\r\n",
    "    'axes.spines.left': True,\r\n",
    "    'axes.spines.bottom': True,\r\n",
    "    'axes.spines.right': True,\r\n",
    "    'axes.spines.top': True\r\n",
    "}\r\n",
    "\r\n",
    "plotting_context = {\r\n",
    "    'font.size': 20,\r\n",
    "    'axes.labelsize': 20,\r\n",
    "    'axes.titlesize': 20,\r\n",
    "    'xtick.labelsize': 15,\r\n",
    "    'ytick.labelsize': 15,\r\n",
    "    'legend.fontsize': 10,\r\n",
    "    'axes.linewidth': 3.0,\r\n",
    "    'grid.linewidth': 1.0,\r\n",
    "    'lines.linewidth': 2.0,\r\n",
    "    'lines.markersize': 5.0,\r\n",
    "    'patch.linewidth': 0.8,\r\n",
    "    'xtick.major.width': 1.0,\r\n",
    "    'ytick.major.width': 1.0,\r\n",
    "    'xtick.minor.width': 0.8,\r\n",
    "    'ytick.minor.width': 0.8,\r\n",
    "    'xtick.major.size': 5.0,\r\n",
    "    'ytick.major.size': 5.0,\r\n",
    "    'xtick.minor.size': 3.0,\r\n",
    "    'ytick.minor.size': 3.0\r\n",
    "}\r\n",
    "# set figure theme\r\n",
    "sns.set(context=plotting_context, style=axes_style)\r\n",
    "# build a lineplot\r\n",
    "fig = sns.relplot(data=data, kind='line', height=5, aspect=1.2)\r\n",
    "# configure y-axis range\r\n",
    "fig.set(ylim=(0.5, 1.0))\r\n",
    "# configure y-axis title\r\n",
    "fig.set_ylabels(\"Accuracy\")\r\n",
    "# configure x-axis title\r\n",
    "fig.set_xlabels(\"# of Iterations\")"
   ],
   "outputs": [],
   "metadata": {}
  },
  {
   "cell_type": "code",
   "execution_count": null,
   "source": [
    "\"\"\" plot with 2nd y-axis \"\"\"\r\n",
    "import pandas as pd\r\n",
    "import seaborn as sns\r\n",
    "import matplotlib.pyplot as plt\r\n",
    "\r\n",
    "csv_file = './python-09-batch-summary.csv'\r\n",
    "df = pd.read_csv(csv_file, sep=',', header=0, index_col='iteration')\r\n",
    "df.reset_index(inplace=True)\r\n",
    "# returns a pd.Series object, if only 1 data column is selected\r\n",
    "fig = sns.relplot(data=df, x='iteration', y='accuracy', kind='line')\r\n",
    "ax2 = plt.twinx()\r\n",
    "sns.lineplot(data=df, x='iteration', y='loss', ax=ax2, color='red')"
   ],
   "outputs": [],
   "metadata": {}
  },
  {
   "cell_type": "code",
   "execution_count": null,
   "source": [
    "\"\"\" get all column headers in a list \"\"\"\r\n",
    "import pandas as pd\r\n",
    "\r\n",
    "csv_file = './python-09-batch-summary.csv'\r\n",
    "df = pd.read_csv(csv_file, sep=',', header=0, index_col=None)\r\n",
    "list(df)"
   ],
   "outputs": [],
   "metadata": {}
  },
  {
   "cell_type": "markdown",
   "source": [
    "### fig, axes and axis in matplotlib\n",
    "* fig: the object that encampasses the entire canvas; what's being saved as a figure;\n",
    "    * fig object is on the same level as the FacetGrid object in seaborn;\n",
    "    * get fig object by creating a plot:\n",
    "        * plt.figure()\n",
    "    * get fig object by FacetGrid:\n",
    "        * FacetGrid.fig\n",
    "* axes: i.e., subplots; one fig object has at least one axes object; note that axes is NOT plural of axis;\n",
    "    * get axes object from FacetGrid object by:\n",
    "        * FacetGrid.ax, FacetGrid.axes_dict, or FacetGrid.axes all returns matplotlib axes object(s)\n",
    "    * get axes object from plt or fig by:\n",
    "        * plt.subplot(), plt.subplots(), plt.axes()\n",
    "        * fig.add_subplot(), fig.add_axes(), fig.subplots()\n",
    "    * [axes API](https://matplotlib.org/stable/api/axes_api.html)\n",
    "* axis: the x- or y- axis objects of an axes object; access to items like tick, labels,etc.;\n",
    "    * get axis:\n",
    "        \n",
    "    * [axis API](https://matplotlib.org/3.2.2/api/axis_api.html)\n",
    "* see [this post](https://towardsdatascience.com/plt-xxx-or-ax-xxx-that-is-the-question-in-matplotlib-8580acf42f44) for a structured overview"
   ],
   "metadata": {}
  },
  {
   "cell_type": "markdown",
   "source": [
    "### matplotlib styling options\n",
    "\n",
    "* 1) use rcParams:\n",
    "    * rcParams is a dictionary object that can be passed to sns.set_theme() (equivalent to sns.set_theme()) function\n",
    "    * a list of [available keys](https://matplotlib.org/stable/api/matplotlib_configuration_api.html#matplotlib.rcParams) in rcParams\n",
    "    * it can be stored in a style sheet e.g. json file; note that the final parameter passed as rcParams needs to be a single-level dictionary, so if the json file is nested, need to use *dict or **dict;\n",
    "\n",
    "* 2) use axis object methods:\n",
    "    * not all features are available in rcParams; some axis-level control requires using axis methods;\n",
    "    "
   ],
   "metadata": {}
  },
  {
   "cell_type": "code",
   "execution_count": null,
   "source": [
    "\"\"\" plot 2d heatmap \"\"\"\r\n",
    "\r\n",
    "# see https://stackoverflow.com/questions/33282368/plotting-a-2d-heatmap-with-matplotlib for an example;\r\n",
    "\r\n",
    "import pandas as pd\r\n",
    "import seaborn as sns\r\n",
    "import matplotlib.pyplot as plt\r\n",
    "import numpy as np\r\n",
    "\r\n",
    "csv_file = \"./python-10-01-test-attention-scores.csv\"\r\n",
    "df = pd.read_csv(csv_file, sep=\",\", header=0)\r\n",
    "col_name = df.columns.values.tolist()[0]\r\n",
    "del df[col_name]\r\n",
    "fig, ax = plt.subplots(figsize=(40,40))\r\n",
    "sns.heatmap(df, linewidth=0.5, ax=ax)\r\n",
    "fig.savefig(\"./python-10-01.png\")"
   ],
   "outputs": [],
   "metadata": {}
  },
  {
   "cell_type": "code",
   "execution_count": null,
   "source": [],
   "outputs": [],
   "metadata": {}
  }
 ]
}