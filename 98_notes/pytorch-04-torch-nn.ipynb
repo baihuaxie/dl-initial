{
 "cells": [
  {
   "cell_type": "code",
   "execution_count": null,
   "source": [
    "import torch.nn as nn\r\n",
    "import torch\r\n",
    "import torchvision\r\n",
    "import torchvision.transforms as transforms\r\n",
    "\r\n",
    "import matplotlib.pyplot as plt\r\n",
    "import numpy as np"
   ],
   "outputs": [],
   "metadata": {}
  },
  {
   "cell_type": "code",
   "execution_count": null,
   "source": [
    "\"\"\" load cifar-10 dataset \"\"\" \r\n",
    "\r\n",
    "transform = transforms.Compose(\r\n",
    "    [transforms.ToTensor(),\r\n",
    "     transforms.Normalize((0.5, 0.5, 0.5), (0.5, 0.5, 0.5))]\r\n",
    ")\r\n",
    "\r\n",
    "# load train set\r\n",
    "trainset = torchvision.datasets.CIFAR10(root='./data', train=True, download=False, transform=transform)\r\n",
    "trainloader = torch.utils.data.DataLoader(trainset, batch_size=4, shuffle=True, num_workers=2)"
   ],
   "outputs": [],
   "metadata": {}
  },
  {
   "cell_type": "code",
   "execution_count": null,
   "source": [
    "\"\"\" select a random batch from dataloader \"\"\"\r\n",
    "\r\n",
    "# the sample returned is random b.c. shuffle=True in DataLoader call\r\n",
    "# iter(trainloader).__iter__().next() is equivalent to iter(trainloader).next() -> returns a list of two tensors ([0]:images, [1]:labels)\r\n",
    "images, labels = iter(trainloader).next()"
   ],
   "outputs": [],
   "metadata": {}
  },
  {
   "cell_type": "code",
   "execution_count": null,
   "source": [
    "\"\"\" define a network, optimizer, loss \"\"\"\r\n",
    "\r\n",
    "import torch.nn as nn\r\n",
    "import torch.nn.functional as F\r\n",
    "import torch.optim as optim\r\n",
    "\r\n",
    "class Net(nn.Module) :\r\n",
    "    def __init__(self):\r\n",
    "        super(Net, self).__init__()\r\n",
    "        self.conv1 = nn.Conv2d(3,6,5)\r\n",
    "        self.pool = nn.MaxPool2d(2,2)\r\n",
    "        self.conv2 = nn.Conv2d(6,16,5)\r\n",
    "        self.fc1 = nn.Linear(16*5*5,120)\r\n",
    "        self.fc2 = nn.Linear(120,84)\r\n",
    "        self.fc3 = nn.Linear(84,10)\r\n",
    "\r\n",
    "    def forward(self,x):\r\n",
    "        x = self.pool(F.relu(self.conv1(x)))\r\n",
    "        x = self.pool(F.relu(self.conv2(x)))\r\n",
    "        x = x.view(-1, self.num_flat_features(x))\r\n",
    "        x = F.relu(self.fc1(x))\r\n",
    "        x = F.relu(self.fc2(x))\r\n",
    "        x = self.fc3(x)\r\n",
    "        return x\r\n",
    "\r\n",
    "    def num_flat_features(self,x):\r\n",
    "        size = x.size()[1:]\r\n",
    "        num_features = 1\r\n",
    "        for s in size:\r\n",
    "            num_features *= s\r\n",
    "        return num_features\r\n",
    "\r\n",
    "net = Net()\r\n",
    "\r\n",
    "criterion = nn.CrossEntropyLoss()\r\n",
    "optimizer = optim.Adam(net.parameters(), lr=0.1)"
   ],
   "outputs": [],
   "metadata": {}
  },
  {
   "cell_type": "code",
   "execution_count": null,
   "source": [
    "\"\"\" one training step on a batch \"\"\"\r\n",
    "\r\n",
    "optimizer.zero_grad()\r\n",
    "outputs = net(images)\r\n",
    "loss = criterion(outputs, labels)\r\n",
    "loss.backward()\r\n",
    "optimizer.step()"
   ],
   "outputs": [],
   "metadata": {}
  },
  {
   "cell_type": "code",
   "execution_count": null,
   "source": [
    "\"\"\" nn.CrossEntropyLoss() \"\"\"\r\n",
    "\r\n",
    "\r\n",
    "# for CrossEntroptLoss(outputs, labels), must meet the following tensor shape requirements;\r\n",
    "num_samples = 32\r\n",
    "num_classes = 10\r\n",
    "outputs = torch.randn(num_samples,num_classes)\r\n",
    "labels = torch.randint(0, num_classes, (num_samples,))      # labels dtype must = Long\r\n",
    "\r\n",
    "# needs to be instantiated first before calling\r\n",
    "criterion = nn.CrossEntropyLoss()\r\n",
    "loss = criterion(outputs, labels)\r\n",
    "print(loss)"
   ],
   "outputs": [],
   "metadata": {
    "tags": []
   }
  },
  {
   "cell_type": "markdown",
   "source": [
    "#### _nn.Loss modules need to be instantiated before calling_\n",
    "\n",
    "* if directly do nn.CrossEntropyLoss(outputs, labels), will produce RuntimeError\n",
    "\n"
   ],
   "metadata": {}
  },
  {
   "cell_type": "code",
   "execution_count": null,
   "source": [
    "\"\"\" return the weights, gradients of network layer \"\"\"\r\n",
    "\r\n",
    "# weight\r\n",
    "print(net.conv1.weight.size())\r\n",
    "# gradients of weight\r\n",
    "print(net.conv1.weight.grad.size())\r\n",
    "# bias\r\n",
    "print(net.conv1.bias.size())\r\n",
    "# gradients of bias\r\n",
    "print(net.conv1.bias.grad.size())\r\n",
    "\r\n",
    "# all learnable parameters in the network; as a generator class object\r\n",
    "print(type(net.parameters()))\r\n",
    "# to access, conver to a list of tensors; note that the weights and biases of a single layer are distinct tensors in the list, so len(net.parameters()) = 2 * num_layers\r\n",
    "print(len(list(net.parameters())))"
   ],
   "outputs": [],
   "metadata": {
    "tags": []
   }
  },
  {
   "cell_type": "code",
   "execution_count": null,
   "source": [
    "\"\"\" return all modules used in a network \"\"\"\r\n",
    "\r\n",
    "list(net.modules())"
   ],
   "outputs": [],
   "metadata": {}
  },
  {
   "cell_type": "code",
   "execution_count": null,
   "source": [
    "\"\"\" nn.Sequential \"\"\""
   ],
   "outputs": [],
   "metadata": {}
  },
  {
   "cell_type": "code",
   "execution_count": null,
   "source": [
    "\"\"\" torchsummary \"\"\"\n",
    "\n",
    "import model.resnet as net\n",
    "from torchsummary import summary\n",
    "\n",
    "myModel = net.resnet18()\n",
    "summary(myModel, (3, 32, 32))"
   ],
   "outputs": [],
   "metadata": {
    "tags": []
   }
  },
  {
   "cell_type": "code",
   "execution_count": null,
   "source": [
    "def matplotlib_imshow(img, one_channel=False):\n",
    "    \"\"\" \n",
    "    helper function to show an image\n",
    "\n",
    "    Args:\n",
    "        img: (tensor) 2D image\n",
    "\n",
    "    \"\"\"\n",
    "    if one_channel:\n",
    "        img = img.mean(dim=0)\n",
    "    # un-normalize\n",
    "    img = img / 2 + 0.5 \n",
    "    npimg = img.numpy()\n",
    "    if one_channel:\n",
    "        plt.imshow(npimg, cmap='Greys')\n",
    "    else:\n",
    "        plt.imshow(np.transpose(npimg, (1, 2, 0)))"
   ],
   "outputs": [],
   "metadata": {}
  },
  {
   "cell_type": "code",
   "execution_count": null,
   "source": [
    "img_grid = torchvision.utils.make_grid(images)\n",
    "# matplotlib_imshow(img_grid, one_channel=False)"
   ],
   "outputs": [],
   "metadata": {}
  },
  {
   "cell_type": "code",
   "execution_count": null,
   "source": [
    "\"\"\" nn.AvgPool2d \"\"\"\n",
    "\n",
    "import torch\n",
    "import torch.nn as nn\n",
    "\n",
    "x = torch.rand(1, 1, 33, 33)\n",
    "print(x.shape)\n",
    "m = nn.AvgPool2d(kernel_size=3, padding=1, stride=2)\n",
    "y = m(x)\n",
    "print(y.shape)"
   ],
   "outputs": [],
   "metadata": {}
  },
  {
   "cell_type": "markdown",
   "source": [
    "#### torch.nn vs torch.nn.Functional\n",
    "\n",
    "* torch.nn defines modules that are full layers\n",
    "    * need to be defined in __init__\n",
    "    * can have weights\n",
    "    * can have state flags such as training or evaluation (e.g., nn.Dropout)\n",
    "* torch.nn.Functional defines arithmetic operations, not full layers\n",
    "    * do not have to be defined in __init__\n",
    "    * can not directly be used as a layer, need additional customization\n",
    "    * usually used for:\n",
    "        * a) layers without states / weights, e.g., ReLU (but can also use nn.ReLU; I usually do it this way)\n",
    "        * b) define custom Pytorch modules with existing nn.Functional primitives\n",
    "\n",
    "notes:\n",
    "* [this comment](https://discuss.pytorch.org/t/whats-difference-of-nn-softmax-nn-softmax-nn-functional-softmax/90934/3) (by Tom) mentioned that it is a bad idea to define a nn.ReLU in __init__ and reuse it, but why?\n",
    "\n",
    "usage:\n",
    "* to use nn.Module, need to first instantiate the module by m = nn.Module() then call m(input) (i.e., nn.Module is a class object)\n",
    "* to use nn.functional.operator, can directly do function calls, e.g., nn.functional.operator(input)"
   ],
   "metadata": {}
  },
  {
   "cell_type": "code",
   "execution_count": null,
   "source": [
    "\"\"\" nn.Softmax vs nn.Functional.softmax() \"\"\"\n",
    "\n",
    "x = torch.rand(2,3,4)\n",
    "print(x)\n",
    "\n",
    "### ----- nn.functional.softmax ----- ###\n",
    "# normalizing along dim=2 (shape[2]=4)\n",
    "print(nn.functional.softmax(x, dim=2, dtype=float))\n",
    "# normalizing along dim=2 (shape[2]=4)\n",
    "print(nn.functional.softmax(x, dim=-1, dtype=float))\n",
    "# normalizing along dim=1 (shape[1]=3)\n",
    "print(nn.functional.softmax(x, dim=1, dtype=float))\n",
    "# normalizing along dim=0 (shape[0]=2)\n",
    "print(nn.functional.softmax(x, dim=0, dtype=float))\n",
    "\n",
    "### ----- nn.Softmax ------ ###\n",
    "print(nn.Softmax(x))\n",
    "m = nn.Softmax(dim=-1)\n",
    "print(m(x))"
   ],
   "outputs": [],
   "metadata": {
    "tags": []
   }
  },
  {
   "cell_type": "markdown",
   "source": [
    "### Debug: expected scalar type Long but go scalar type Float\n",
    "* happens in calling CrossEntropyLoss() criterion by passing the network output & label\n",
    "* issue: label should be dtype = torch.int64 (long), but I might have given it as torch.Float\n",
    "* see [this discussion](https://discuss.pytorch.org/t/expected-object-of-scalar-type-long-but-got-scalar-type-float-for-argument-2-target/33102) for details"
   ],
   "metadata": {}
  },
  {
   "cell_type": "code",
   "execution_count": null,
   "source": [
    "\"\"\" nn.Parameter() \"\"\"\n",
    "\n",
    "### see this explanation: https://stackoverflow.com/questions/50935345/understanding-torch-nn-parameter\n",
    "### in a nutshell: nn.Paramter() returns a tensor subclass object, such that when this object is assigned to a nn.Module object, it is automatically registered to that module's parameter list (e.g., can be returned by .parameter() method); the reason this feature is added is that, there are cases where assigning a tensor to a module but does not want to register to its parameter list (e.g., don't require grad update);\n",
    "\n",
    "### Q: what's difference b/t this and torch.register_buffer()?"
   ],
   "outputs": [],
   "metadata": {}
  }
 ],
 "metadata": {
  "language_info": {
   "codemirror_mode": {
    "name": "ipython",
    "version": 3
   },
   "file_extension": ".py",
   "mimetype": "text/x-python",
   "name": "python",
   "nbconvert_exporter": "python",
   "pygments_lexer": "ipython3",
   "version": "3.7.6-final"
  },
  "orig_nbformat": 2,
  "kernelspec": {
   "name": "python3",
   "display_name": "Python 3"
  }
 },
 "nbformat": 4,
 "nbformat_minor": 2
}