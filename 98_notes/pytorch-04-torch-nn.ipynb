{
 "cells": [
  {
   "cell_type": "code",
   "execution_count": null,
   "metadata": {},
   "outputs": [],
   "source": [
    "import torch.nn as nn\n",
    "import torch\n",
    "import torchvision\n",
    "import torchvision.transforms as transforms"
   ]
  },
  {
   "cell_type": "code",
   "execution_count": null,
   "metadata": {},
   "outputs": [],
   "source": [
    "\"\"\" load cifar-10 dataset \"\"\" \n",
    "\n",
    "transform = transforms.Compose(\n",
    "    [transforms.ToTensor(),\n",
    "     transforms.Normalize((0.5, 0.5, 0.5), (0.5, 0.5, 0.5))]\n",
    ")\n",
    "\n",
    "# load train set\n",
    "trainset = torchvision.datasets.CIFAR10(root='./data', train=True, download=False, transform=transform)\n",
    "trainloader = torch.utils.data.DataLoader(trainset, batch_size=4, shuffle=True, num_workers=2)"
   ]
  },
  {
   "cell_type": "code",
   "execution_count": null,
   "metadata": {},
   "outputs": [],
   "source": [
    "\"\"\" select a random batch from dataloader \"\"\"\n",
    "\n",
    "# the sample returned is random b.c. shuffle=True in DataLoader call\n",
    "# iter(trainloader).__iter__().next() is equivalent to iter(trainloader).next() -> returns a list of two tensors ([0]:images, [1]:labels)\n",
    "images, labels = iter(trainloader).next()"
   ]
  },
  {
   "cell_type": "code",
   "execution_count": null,
   "metadata": {},
   "outputs": [],
   "source": [
    "\"\"\" define a network, optimizer, loss \"\"\"\n",
    "\n",
    "import torch.nn as nn\n",
    "import torch.nn.functional as F\n",
    "import torch.optim as optim\n",
    "\n",
    "class Net(nn.Module) :\n",
    "    def __init__(self):\n",
    "        super(Net, self).__init__()\n",
    "        self.conv1 = nn.Conv2d(3,6,5)\n",
    "        self.pool = nn.MaxPool2d(2,2)\n",
    "        self.conv2 = nn.Conv2d(6,16,5)\n",
    "        self.fc1 = nn.Linear(16*5*5,120)\n",
    "        self.fc2 = nn.Linear(120,84)\n",
    "        self.fc3 = nn.Linear(84,10)\n",
    "\n",
    "    def forward(self,x):\n",
    "        x = self.pool(F.relu(self.conv1(x)))\n",
    "        x = self.pool(F.relu(self.conv2(x)))\n",
    "        x = x.view(-1, self.num_flat_features(x))\n",
    "        x = F.relu(self.fc1(x))\n",
    "        x = F.relu(self.fc2(x))\n",
    "        x = self.fc3(x)\n",
    "        return x\n",
    "\n",
    "    def num_flat_features(self,x):\n",
    "        size = x.size()[1:]\n",
    "        num_features = 1\n",
    "        for s in size:\n",
    "            num_features *= s\n",
    "        return num_features\n",
    "\n",
    "net = Net()\n",
    "\n",
    "criterion = nn.CrossEntropyLoss()\n",
    "optimizer = optim.Adam(net.parameters(), lr=0.1)"
   ]
  },
  {
   "cell_type": "code",
   "execution_count": null,
   "metadata": {},
   "outputs": [],
   "source": [
    "\"\"\" one training step on a batch \"\"\"\n",
    "\n",
    "optimizer.zero_grad()\n",
    "outputs = net(images)\n",
    "loss = criterion(outputs, labels)\n",
    "loss.backward()\n",
    "optimizer.step()"
   ]
  },
  {
   "cell_type": "code",
   "execution_count": null,
   "metadata": {
    "tags": []
   },
   "outputs": [],
   "source": [
    "\"\"\" nn.CrossEntropyLoss() \"\"\"\n",
    "\n",
    "outputs = torch.randn(32,10)\n",
    "labels = torch.randint(0, 10, (32,))\n",
    "\n",
    "# needs to be instantiated first before calling\n",
    "criterion = nn.CrossEntropyLoss()\n",
    "loss = criterion(outputs, labels)\n",
    "print(loss)"
   ]
  },
  {
   "cell_type": "markdown",
   "metadata": {},
   "source": [
    "#### _nn.Loss modules need to be instantiated before calling_\n",
    "\n",
    "* if directly do nn.CrossEntropyLoss(outputs, labels), will produce RuntimeError\n",
    "\n"
   ]
  },
  {
   "cell_type": "code",
   "execution_count": null,
   "metadata": {
    "tags": []
   },
   "outputs": [],
   "source": [
    "\"\"\" return the weights, gradients of network layer \"\"\"\n",
    "\n",
    "# weight\n",
    "print(net.conv1.weight.size())\n",
    "# gradients of weight\n",
    "print(net.conv1.weight.grad.size())\n",
    "# bias\n",
    "print(net.conv1.bias.size())\n",
    "# gradients of bias\n",
    "print(net.conv1.bias.grad.size())\n",
    "\n",
    "# all learnable parameters in the network; as a generator class object\n",
    "print(type(net.parameters()))\n",
    "# to access, conver to a list of tensors; note that the weights and biases of a single layer are distinct tensors in the list, so len(net.parameters()) = 2 * num_layers\n",
    "print(len(list(net.parameters())))"
   ]
  },
  {
   "cell_type": "code",
   "execution_count": 19,
   "metadata": {},
   "outputs": [
    {
     "output_type": "execute_result",
     "data": {
      "text/plain": "[Net(\n   (conv1): Conv2d(3, 6, kernel_size=(5, 5), stride=(1, 1))\n   (pool): MaxPool2d(kernel_size=2, stride=2, padding=0, dilation=1, ceil_mode=False)\n   (conv2): Conv2d(6, 16, kernel_size=(5, 5), stride=(1, 1))\n   (fc1): Linear(in_features=400, out_features=120, bias=True)\n   (fc2): Linear(in_features=120, out_features=84, bias=True)\n   (fc3): Linear(in_features=84, out_features=10, bias=True)\n ),\n Conv2d(3, 6, kernel_size=(5, 5), stride=(1, 1)),\n MaxPool2d(kernel_size=2, stride=2, padding=0, dilation=1, ceil_mode=False),\n Conv2d(6, 16, kernel_size=(5, 5), stride=(1, 1)),\n Linear(in_features=400, out_features=120, bias=True),\n Linear(in_features=120, out_features=84, bias=True),\n Linear(in_features=84, out_features=10, bias=True)]"
     },
     "metadata": {},
     "execution_count": 19
    }
   ],
   "source": [
    "\"\"\" return all modules used in a network \"\"\"\n",
    "\n",
    "list(net.modules())"
   ]
  },
  {
   "cell_type": "code",
   "execution_count": null,
   "metadata": {},
   "outputs": [],
   "source": []
  }
 ],
 "metadata": {
  "language_info": {
   "codemirror_mode": {
    "name": "ipython",
    "version": 3
   },
   "file_extension": ".py",
   "mimetype": "text/x-python",
   "name": "python",
   "nbconvert_exporter": "python",
   "pygments_lexer": "ipython3",
   "version": "3.6.8-final"
  },
  "orig_nbformat": 2,
  "kernelspec": {
   "name": "python3",
   "display_name": "Python 3"
  }
 },
 "nbformat": 4,
 "nbformat_minor": 2
}