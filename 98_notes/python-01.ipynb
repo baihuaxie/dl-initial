{
 "cells": [
  {
   "cell_type": "code",
   "execution_count": null,
   "metadata": {},
   "outputs": [],
   "source": [
    "\"\"\" create 2d list \"\"\"\n",
    "\n",
    "s = 'abcdef'\n",
    "p = 'xyz'\n",
    "\n",
    "# this creates a len(p) x len(s) 2d matrix (col x row)\n",
    "V = [[s[i]+p[j] for j in range(len(p))] for i in range(len(s))]\n",
    "# when indexing, the index for the outter list comprehension (in this case, for len(s)) comes before the index for the inner list comprehension (in this case, for len(p))\n",
    "i = 3\n",
    "j = 2\n",
    "V[i][j]\n",
    "\n",
    "# if creating by this way, there would be in fact only one list; changing [i][j] would affect all rows\n",
    "# becasue python uses shallow list instantiaion\n",
    "V2 = [[0] * len(p)] * len(s)"
   ]
  },
  {
   "cell_type": "code",
   "execution_count": null,
   "metadata": {},
   "outputs": [],
   "source": [
    "\"\"\" use getattr and import_module to dynamically import classes, functions by string names \"\"\"\n",
    "\n",
    "myModel = getattr(import_module('.'+net, 'model'), model)()"
   ]
  },
  {
   "cell_type": "markdown",
   "metadata": {},
   "source": [
    "* suppose under directory './model', there are multiple net.py files like net1.py, net2.py, its name in the variable 'net'\n",
    "* in each net.py there is a class or function we like to call by its name in the variable 'model'\n",
    "\n",
    "note: eval() can do the same thing, but in general eval() is not considered a good practice in python\n"
   ]
  },
  {
   "cell_type": "code",
   "execution_count": null,
   "metadata": {},
   "outputs": [],
   "source": []
  }
 ],
 "metadata": {
  "language_info": {
   "codemirror_mode": {
    "name": "ipython",
    "version": 3
   },
   "file_extension": ".py",
   "mimetype": "text/x-python",
   "name": "python",
   "nbconvert_exporter": "python",
   "pygments_lexer": "ipython3",
   "version": "3.6.8-final"
  },
  "orig_nbformat": 2,
  "kernelspec": {
   "name": "python3",
   "display_name": "Python 3"
  }
 },
 "nbformat": 4,
 "nbformat_minor": 2
}