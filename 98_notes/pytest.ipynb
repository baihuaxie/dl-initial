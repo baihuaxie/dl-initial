{
 "cells": [
  {
   "cell_type": "code",
   "execution_count": 1,
   "metadata": {},
   "outputs": [],
   "source": [
    "import pytest"
   ]
  },
  {
   "cell_type": "markdown",
   "metadata": {},
   "source": [
    "* when asserting the equivalence of two values, need to round"
   ]
  },
  {
   "cell_type": "code",
   "execution_count": null,
   "metadata": {},
   "outputs": [],
   "source": [
    "\"\"\" skip tests \"\"\"\n",
    "\n",
    "@pytest.mark.skip(reason='reason to skip the test')\n",
    "def test_a_equal_b():\n",
    "    assert a == b, \"- a does not equal b\""
   ]
  },
  {
   "cell_type": "code",
   "execution_count": null,
   "metadata": {},
   "outputs": [],
   "source": [
    "\"\"\" directly import from files \"\"\"\n",
    "\n",
    "imported_class = __import__(/path/to/myfile).class"
   ]
  },
  {
   "cell_type": "code",
   "execution_count": null,
   "metadata": {},
   "outputs": [],
   "source": [
    "\"\"\" parametrize test function \"\"\"\n",
    "\n",
    "@pytest.mark.parametrize(\"test_input, test_expected\", [(\"input1\",\"expected1\"), (\"input2\", \"expect2\"), ...])\n",
    "def test_eval(test_input, test_expected):\n",
    "    ## do sth here\n",
    "    assert test_input == test_expected"
   ]
  },
  {
   "cell_type": "code",
   "execution_count": null,
   "metadata": {},
   "outputs": [],
   "source": [
    "\"\"\" import modules from parent directory or from another silbling directory \"\"\"\n",
    "\n",
    "# if model directory is /parent/model/ which contains myModel.py file\n",
    "# test directory is /parent/test/ which contains test_myModel.py files\n",
    "# want to import myModel.py in test_myModel.py & execute pytest under /parent/test/ directory\n",
    "\n",
    "# append /parent/ directory into sys.path temporarily\n",
    "# this will add /parent/ directory (and all of its child directories) into python search path for import\n",
    "import sys\n",
    "sys.path.append('..')\n",
    "\n",
    "import model.myModel as model"
   ]
  }
 ],
 "metadata": {
  "language_info": {
   "codemirror_mode": {
    "name": "ipython",
    "version": 3
   },
   "file_extension": ".py",
   "mimetype": "text/x-python",
   "name": "python",
   "nbconvert_exporter": "python",
   "pygments_lexer": "ipython3",
   "version": "3.6.8-final"
  },
  "orig_nbformat": 2,
  "kernelspec": {
   "name": "python3",
   "display_name": "Python 3"
  }
 },
 "nbformat": 4,
 "nbformat_minor": 2
}