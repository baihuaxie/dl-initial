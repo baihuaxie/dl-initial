{
 "cells": [
  {
   "cell_type": "code",
   "execution_count": 1,
   "metadata": {},
   "outputs": [],
   "source": [
    "import pytest"
   ]
  },
  {
   "cell_type": "markdown",
   "metadata": {},
   "source": [
    "* when asserting the equivalence of two values, need to round"
   ]
  },
  {
   "cell_type": "code",
   "execution_count": null,
   "metadata": {},
   "outputs": [],
   "source": [
    "\"\"\" skip tests \"\"\"\n",
    "\n",
    "@pytest.mark.skip(reason='reason to skip the test')\n",
    "def test_a_equal_b():\n",
    "    assert a == b, \"- a does not equal b\""
   ]
  },
  {
   "cell_type": "code",
   "execution_count": null,
   "metadata": {},
   "outputs": [],
   "source": [
    "\"\"\" directly import from files \"\"\"\n",
    "\n",
    "imported_class = __import__(/path/to/myfile).class"
   ]
  },
  {
   "cell_type": "code",
   "execution_count": null,
   "metadata": {},
   "outputs": [],
   "source": [
    "\"\"\" parametrize test function \"\"\"\n",
    "\n",
    "@pytest.mark.parametrize(\"test_input, test_expected\", [(\"input1\",\"expected1\"), (\"input2\", \"expect2\"), ...])\n",
    "def test_eval(test_input, test_expected):\n",
    "    ## do sth here\n",
    "    assert test_input == test_expected"
   ]
  },
  {
   "cell_type": "code",
   "execution_count": 2,
   "metadata": {},
   "outputs": [
    {
     "output_type": "execute_result",
     "data": {
      "text/plain": "[]"
     },
     "metadata": {},
     "execution_count": 2
    }
   ],
   "source": [
    "a = [0,1,2,3]\n",
    "a[0:0]"
   ]
  },
  {
   "cell_type": "code",
   "execution_count": null,
   "metadata": {},
   "outputs": [],
   "source": []
  }
 ],
 "metadata": {
  "language_info": {
   "codemirror_mode": {
    "name": "ipython",
    "version": 3
   },
   "file_extension": ".py",
   "mimetype": "text/x-python",
   "name": "python",
   "nbconvert_exporter": "python",
   "pygments_lexer": "ipython3",
   "version": "3.6.4-final"
  },
  "orig_nbformat": 2,
  "kernelspec": {
   "name": "python3",
   "display_name": "Python 3"
  }
 },
 "nbformat": 4,
 "nbformat_minor": 2
}