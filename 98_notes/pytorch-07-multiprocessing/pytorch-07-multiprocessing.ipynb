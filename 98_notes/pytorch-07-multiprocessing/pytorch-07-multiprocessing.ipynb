{
 "metadata": {
  "language_info": {
   "codemirror_mode": {
    "name": "ipython",
    "version": 3
   },
   "file_extension": ".py",
   "mimetype": "text/x-python",
   "name": "python",
   "nbconvert_exporter": "python",
   "pygments_lexer": "ipython3",
   "version": "3.7.6-final"
  },
  "orig_nbformat": 2,
  "kernelspec": {
   "name": "Python 3.7.6 64-bit ('base': conda)",
   "display_name": "Python 3.7.6 64-bit ('base': conda)",
   "metadata": {
    "interpreter": {
     "hash": "c04e14e757fcd5c931b20c230f107ce3be1b6ffeb36695f3d01a868d65a6b9cc"
    }
   }
  }
 },
 "nbformat": 4,
 "nbformat_minor": 2,
 "cells": [
  {
   "source": [
    "### a simple example on python's multiprocessing lib\n",
    "* see the [original post](https://towardsdatascience.com/a-hands-on-guide-to-multiprocessing-in-python-48b59bfcc89e) for details"
   ],
   "cell_type": "markdown",
   "metadata": {}
  },
  {
   "cell_type": "code",
   "execution_count": null,
   "metadata": {},
   "outputs": [],
   "source": [
    "\"\"\" python.multiprocessing exmaple - 0) base function \"\"\"\n",
    "def is_prime(n):\n",
    "    \"\"\" check if n is prime number \"\"\"\n",
    "    if (n <= 1):\n",
    "        return 'not a prime number'\n",
    "    if (n <= 3):\n",
    "        return 'a prime number'\n",
    "\n",
    "    # check from 2 to n-1\n",
    "    for i in range(2, n):\n",
    "        if (n % i == 0):\n",
    "            return 'not a prime number'\n",
    "\n",
    "    return 'a prime number'"
   ]
  },
  {
   "cell_type": "code",
   "execution_count": null,
   "metadata": {},
   "outputs": [],
   "source": [
    "\"\"\" python.multiprocessing example - 1) single process \"\"\"\n",
    "\n",
    "import time\n",
    "\n",
    "def test_process():\n",
    "\n",
    "    start_time = time.time()\n",
    "    for i in range(1, 20):\n",
    "        time.sleep(0.1)\n",
    "        print(\"{} is {}\".format(i, is_prime(i)))\n",
    "    print()\n",
    "    print(\"Time taken = {} seconds\".format(time.time() - start_time))\n",
    "\n",
    "test_process()"
   ]
  },
  {
   "source": [
    "### Process\n",
    "* instantiate an object of Process class by passing several arguments:\n",
    "    - target: a python function object for the worker function of each Process\n",
    "    - args: the arguments for the worker function\n",
    "* properties:\n",
    "    - run(): execute the worker function with the args / kwargs\n",
    "    - start(): arrange for a process's run() method to be invoked by separate processes\n",
    "        - can be called at most once for each process\n",
    "    - join(): blocks until the process whose join() method has been invoked terminate\n",
    "        - i.e., if a process calls join(), basically says 'wait for me to terminate'\n",
    "        - see [this post](https://stackoverflow.com/questions/25391025/what-exactly-is-python-multiprocessing-modules-join-method-doing) for details\n",
    "    - daemon: a boolean flag\n",
    "        - if True, a process:\n",
    "            - will be terminated as soon as its parent (main) process terminates\n",
    "            - can not create any child processes\n",
    "        - unless explicitly set, a process's default daemon flag inherits from its parent process; its default value is None\n",
    "        - must be set before calling start() method\n",
    "    - close(): terminate the process and release resources\n",
    "* Process object is best used for:\n",
    "    - function-based multiprocessing, where each subprocess executes its own (various) operations and has its own variables\n",
    "* see [this tutorial](https://pymotw.com/2/multiprocessing/basics.html) on Process class"
   ],
   "cell_type": "markdown",
   "metadata": {}
  },
  {
   "cell_type": "code",
   "execution_count": null,
   "metadata": {},
   "outputs": [],
   "source": [
    "\"\"\" python.multiprocessing example - 2) Process \"\"\"\n",
    "\n",
    "import time\n",
    "from multiprocessing import Process\n",
    "\n",
    "def multiprocessing_func(x):\n",
    "    time.sleep(0.1)\n",
    "    # Q: why is this not printed?\n",
    "    print(\"{} is {}\".format(i, is_prime(i)))\n",
    "\n",
    "start_time = time.time()\n",
    "processes = []\n",
    "for i in range(1, 20):\n",
    "    p = Process(target=multiprocessing_func, args=(i,))\n",
    "    processes.append(p)\n",
    "    p.start()\n",
    "for process in processes:\n",
    "    process.join()\n",
    "\n",
    "print()\n",
    "print(\"Time taken = {} seconds\".format(time.time() - start_time))"
   ]
  },
  {
   "source": [
    "### Queue\n",
    "* usually used along with Process\n",
    "* provides a shared object to allow multiple processes to share data\n",
    "    * with internal lock designs, so user don't need to worry about synchronization\n",
    "    * an FIFO queue\n",
    "    * must be instantiated from the parent process & only accessible to all child processes\n",
    "        * [this post](https://www.benmather.info/post/2018-11-24-multiprocessing-in-python/) shows a way to get this working in a python class as well\n",
    "* properties:\n",
    "    * put(): a process calls this method to add a data to the queue\n",
    "    * get(): a process calls this method to get a data from the queue\n",
    "* Queue objects are useful when:\n",
    "    * multiple processes need to share data\n",
    "* [this post](https://stackoverflow.com/questions/11515944/how-to-use-multiprocessing-queue-in-python) is a good introduction"
   ],
   "cell_type": "markdown",
   "metadata": {}
  },
  {
   "cell_type": "code",
   "execution_count": null,
   "metadata": {},
   "outputs": [],
   "source": [
    "\"\"\" instantiate a queue with [maxqueuesize] specification \"\"\"\n",
    "from multiprocessing import Queue\n",
    "q1 = Queue(10)\n",
    "q2 = Queue()\n",
    "print(q1.qsize())\n",
    "print(q2.qsize())"
   ]
  },
  {
   "source": [
    "### Pool\n",
    "* good for data-based multiprocessing, where all subprocesses executes the same operation across various input data\n",
    "* properties:\n",
    "    * map(func, iterable): apply the func to each element in the iterable on each subprocesses\n",
    "    * close()"
   ],
   "cell_type": "markdown",
   "metadata": {}
  },
  {
   "cell_type": "code",
   "execution_count": null,
   "metadata": {},
   "outputs": [],
   "source": [
    "\"\"\" python.multiprocessing example - 2) Pool \"\"\"\n",
    "\n",
    "import time\n",
    "from multiprocessing import Pool\n",
    "\n",
    "def multiprocessing_func(x):\n",
    "    time.sleep(0.1)\n",
    "    # Q: why is this not printed?\n",
    "    print(\"{} is {}\".format(i, is_prime(i)))\n",
    "\n",
    "start_time = time.time()\n",
    "pool = Pool()\n",
    "pool.map(multiprocessing_func, range(1, 20))\n",
    "pool.close()\n",
    "print()\n",
    "print(\"Time taken = {} seconds\".format(time.time() - start_time))"
   ]
  },
  {
   "source": [
    "### context\n",
    "* defines how does the multiprocessing work in host OS\n",
    "* obtained by calling multiprocessing.get_context(context_str)\n",
    "* returns a context object that has the same API's like the multiprocessing module\n",
    "    * e.g., can do ctx.Process(), ctx.Pool(), etc.\n",
    "* currently supports 3 different contexts\n",
    "    * on Windows only 'spawn' is supported\n",
    "\n",
    "![multiprocessing contexts](../..//97_assets/images/pytorch-07-multiprocessing-contexts.png)"
   ],
   "cell_type": "markdown",
   "metadata": {}
  },
  {
   "cell_type": "code",
   "execution_count": null,
   "metadata": {},
   "outputs": [],
   "source": []
  }
 ]
}