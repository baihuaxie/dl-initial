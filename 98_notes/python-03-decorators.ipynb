{
 "metadata": {
  "language_info": {
   "codemirror_mode": {
    "name": "ipython",
    "version": 3
   },
   "file_extension": ".py",
   "mimetype": "text/x-python",
   "name": "python",
   "nbconvert_exporter": "python",
   "pygments_lexer": "ipython3",
   "version": "3.7.6-final"
  },
  "orig_nbformat": 2,
  "kernelspec": {
   "name": "Python 3.7.6 64-bit ('base': conda)",
   "display_name": "Python 3.7.6 64-bit ('base': conda)",
   "metadata": {
    "interpreter": {
     "hash": "c04e14e757fcd5c931b20c230f107ce3be1b6ffeb36695f3d01a868d65a6b9cc"
    }
   }
  }
 },
 "nbformat": 4,
 "nbformat_minor": 2,
 "cells": [
  {
   "source": [
    "### function decorators\n",
    "* purpose: a decorator modifies the behaviors of decorated functions\n",
    "* the common practice is to put decorators in a stand-alone file such as decorators.py & import when needed\n",
    "    * this way a decorator could be shared across various functions when needed\n",
    "* see [this tutorial](https://realpython.com/primer-on-python-decorators/) for a detailed discussion"
   ],
   "cell_type": "markdown",
   "metadata": {}
  },
  {
   "cell_type": "code",
   "execution_count": null,
   "metadata": {},
   "outputs": [],
   "source": [
    "\"\"\" the actual mechanism of function decoration \"\"\"\n",
    "\n",
    "# 1) the target function\n",
    "def say_whee():\n",
    "    print(\"Whee!\")\n",
    "\n",
    "# 2) the decorator takes as argument a 'func' name\n",
    "def my_decorator(func):\n",
    "    # the decorator can have an inner function (usually called a wrapper) that\n",
    "    # defines the modification to the behaviors of 'func'\n",
    "    def wrapper():\n",
    "        print(\"Something is happening before the function is called.\")\n",
    "        func()\n",
    "        print(\"Something is happening after the function is called.\")\n",
    "    # the decorator returns the inner wrapper function\n",
    "    return wrapper"
   ]
  },
  {
   "cell_type": "code",
   "execution_count": null,
   "metadata": {},
   "outputs": [],
   "source": [
    "# 3) decoration modifies the target function's behavior by the decorator\n",
    "say_whee = my_decorator(say_whee)\n",
    "\n",
    "# test by calling the target function\n",
    "say_whee()"
   ]
  },
  {
   "cell_type": "code",
   "execution_count": null,
   "metadata": {},
   "outputs": [],
   "source": [
    "\"\"\" python simplifies the step 3) decoration syntax by @ symbol \"\"\"\n",
    "\n",
    "@my_decorator\n",
    "def say_whee():\n",
    "    print(\"Wheel!\")\n",
    "\n",
    "say_whee()"
   ]
  },
  {
   "source": [
    "### passing arguments and returning results for the decorated target function\n",
    "* 1) inner wrapper function in decorator can take arguments -> this facilitates the target function to be allowed to take arguments\n",
    "* 2) inner wrapper function in decorator can return func -> this allows the decorated target function to be able to return its results"
   ],
   "cell_type": "markdown",
   "metadata": {}
  },
  {
   "cell_type": "code",
   "execution_count": null,
   "metadata": {},
   "outputs": [],
   "source": [
    "\"\"\" 1) inner wrapper function can take arguments \"\"\"\n",
    "\n",
    "def my_decorator(func):\n",
    "    # use *args and **kwargs to allow arbitrary arguments\n",
    "    def wrapper(*args, **kwargs):\n",
    "        print('somthing before')\n",
    "        func(*args, **kwargs)\n",
    "        print('something after')\n",
    "\n",
    "    return wrapper\n",
    "\n",
    "@my_decorator\n",
    "def say_name(name):\n",
    "    print(name)\n",
    "\n",
    "say_name('baihuaxie')"
   ]
  },
  {
   "cell_type": "code",
   "execution_count": null,
   "metadata": {},
   "outputs": [],
   "source": [
    "\"\"\" 2) inner wrapper function can return func \"\"\"\n",
    "\n",
    "def my_decorator(func):\n",
    "    def wrapper(*args, **kwargs):\n",
    "        print('something before')\n",
    "        func(*args, **kwargs)\n",
    "        print('something after')\n",
    "        return func(*args, **kwargs)\n",
    "\n",
    "    return wrapper\n",
    "\n",
    "@my_decorator\n",
    "def return_name(name):\n",
    "    print('greeting!')\n",
    "    return 'hi, {}'.format(name)\n",
    "\n",
    "a = return_name('baihuaxie')\n",
    "print(a)"
   ]
  },
  {
   "source": [
    "### introspection\n",
    "* a python function is allowed to return attributes about itself during runtime\n",
    "* to maintain the ability to do so for decorated functions, need to decorate the inner wrapper function by @functools.wraps(func)"
   ],
   "cell_type": "markdown",
   "metadata": {}
  },
  {
   "cell_type": "code",
   "execution_count": null,
   "metadata": {},
   "outputs": [],
   "source": [
    "\"\"\" maintain introspection \"\"\"\n",
    "\n",
    "def say_whee():\n",
    "    print('wheel')\n",
    "print(say_whee.__name__)\n",
    "\n",
    "# decoration makes the introspection fail\n",
    "@my_decorator\n",
    "def say_whee():\n",
    "    print('wheel')\n",
    "print(say_whee.__name__)\n",
    "\n",
    "\n",
    "# decorate the inner wrapper function by @functools.wraps() would retain introspection on target function\n",
    "import functools\n",
    "\n",
    "def my_decorator_B(func):\n",
    "    \"\"\" a generic boilerplater decorator syntax \"\"\"\n",
    "    @functools.wraps(func)\n",
    "    def wrapper(*args, **kwargs):\n",
    "        print('something before')\n",
    "        value = func(*args, **kwargs)\n",
    "        print('something after')\n",
    "        return value\n",
    "    return wrapper\n",
    "\n",
    "@my_decorator_B\n",
    "def say_whee():\n",
    "    print('wheel')\n",
    "print(say_whee.__name__)"
   ]
  },
  {
   "source": [
    "### examples of decorator use cases:\n",
    "* 1) count the time elapsed during a function call\n",
    "* 2) debug codes by printing arguments and function returns for each call\n",
    "* 3) register methods or plug-in's"
   ],
   "cell_type": "markdown",
   "metadata": {}
  },
  {
   "cell_type": "code",
   "execution_count": null,
   "metadata": {},
   "outputs": [],
   "source": [
    "\"\"\" 1) timing a function call \"\"\"\n",
    "import functools\n",
    "import time\n",
    "\n",
    "def timer(func):\n",
    "    \"\"\"\n",
    "    print the runtime of decorated function\n",
    "    \"\"\"\n",
    "    @functools.wraps(func)\n",
    "    def wrapper(*args, **kwargs):\n",
    "        start_time = time.perf_counter()\n",
    "        value = func(*args, **kwargs)\n",
    "        end_time = time.perf_counter()\n",
    "        run_time = end_time - start_time\n",
    "        print(\"{} finished in {} seconds\".format(func.__name__, run_time))\n",
    "        return value\n",
    "    return wrapper\n",
    "\n",
    "@timer\n",
    "def waste_some_time(num_times):\n",
    "    for _ in range(num_times):\n",
    "        sum(i**2 for i in range(10000))\n",
    "\n",
    "waste_some_time(100)\n"
   ]
  },
  {
   "cell_type": "code",
   "execution_count": null,
   "metadata": {},
   "outputs": [],
   "source": [
    "\"\"\" 2) debug codes \"\"\"\n",
    "import functools\n",
    "\n",
    "def debug(func):\n",
    "    \"\"\"\n",
    "    Print the function arguments and return\n",
    "    \"\"\"\n",
    "    @functools.wraps(func)\n",
    "    def wrapper(*args, **kwargs):\n",
    "        # put all arguments in a list by repr()\n",
    "        args_repr = [repr(a) for a in args]\n",
    "        # put all keyword arguments in a list\n",
    "        kwargs_repr = ['{}={}'.format(k, v) for k, v in kwargs.items()]\n",
    "        signature = ','.join(args_repr + kwargs_repr)\n",
    "        print('Calling {}({})'.format(func.__name__, signature))\n",
    "        value = func(*args, **kwargs)\n",
    "        print('{} returned {}'.format(func.__name__, value))\n",
    "        return value\n",
    "    return wrapper\n",
    "\n",
    "import math\n",
    "\n",
    "# decorate standard lib (or any pre-defined) functions in this way\n",
    "math.factorial = debug(math.factorial)\n",
    "\n",
    "def approximate_e(terms=10):\n",
    "    \"\"\" approximate the natural logarithm constant \"\"\"\n",
    "    return sum(1 / math.factorial(n) for n in range(terms))\n",
    "\n",
    "approximate_e(7)\n"
   ]
  },
  {
   "cell_type": "code",
   "execution_count": null,
   "metadata": {},
   "outputs": [],
   "source": [
    "\"\"\" register methods \"\"\"\n",
    "\n",
    "PLUGINS = dict()\n",
    "\n",
    "# note that there is no need to do an inner wrapper function definition\n",
    "# as for register decorator the original target function is returned unmodified\n",
    "def register(func):\n",
    "    \"\"\"\n",
    "    Register func as a method in a registry (a dictionary)\n",
    "    \"\"\"\n",
    "    PLUGINS[func.__name__] = func\n",
    "    return func\n",
    "\n",
    "@register\n",
    "def say_hello(name):\n",
    "    return 'hello {}'.format(name)\n",
    "\n",
    "@register\n",
    "def say_awesome(name):\n",
    "    return '{} is awesome'.format(name)\n",
    "\n",
    "PLUGINS"
   ]
  },
  {
   "source": [
    "### decorators accepting arguments\n",
    "* need a 3-level definition of decorator function"
   ],
   "cell_type": "markdown",
   "metadata": {}
  },
  {
   "cell_type": "code",
   "execution_count": null,
   "metadata": {},
   "outputs": [],
   "source": [
    "\"\"\" decorator that takes arguments \"\"\"\n",
    "\n",
    "import functools\n",
    "\n",
    "# 1st-level: the outer decorator definition takes as arguments the arguments that\n",
    "# would be passed to the decorator when used on target functions\n",
    "def repeat(num_times):\n",
    "    \"\"\" repeat the decorated target function by num_times times \"\"\"\n",
    "    # 2nd-level: the intermediate inner definition would take as argument the func\n",
    "    # that is the target function; from this would look like the original decorator\n",
    "    # definition without taking arguments\n",
    "    def decorator_repeat(func):\n",
    "        # 3rd-level: the inner-most definition is just the wrapper function as before\n",
    "        # note that this is only needed if the decorator needs to modify target function's behaviors\n",
    "        @functools.wraps(func)\n",
    "        def wrapper_repeat(*args, **kwargs):\n",
    "            for idx in range(num_times):\n",
    "                print('repeating {}'.format(idx))\n",
    "                value = func(*args, **kwargs)\n",
    "            return value\n",
    "        return wrapper_repeat\n",
    "    return decorator_repeat\n",
    "\n",
    "@repeat(num_times=4)\n",
    "def greet(name):\n",
    "    print('hello {}'.format(name))\n",
    "\n",
    "greet('baihua')"
   ]
  },
  {
   "source": [
    "### decorators that accept arguments or not arbitrarily\n",
    "* the trouble is that decorator does not know whether it has been called with arguments\n",
    "    * if not, func would be available at top-level, just need to return a decorated func\n",
    "    * if yes, func would only be available at second-level, this is the exact same code as before\n",
    "* 1) first method uses a boilerplate code that do the above logic by * syntax\n",
    "* 2) second method is to use functools.partial() utility (see [Python cookbook](https://github.com/dabeaz/python-cookbook/blob/master/src/9/defining_a_decorator_that_takes_an_optional_argument/example.py) for details)"
   ],
   "cell_type": "markdown",
   "metadata": {}
  },
  {
   "cell_type": "code",
   "execution_count": null,
   "metadata": {},
   "outputs": [],
   "source": [
    "\"\"\" 1) decorator that takes arguments arbitrarily \"\"\"\n",
    "\n",
    "import functools\n",
    "\n",
    "def repeat(_func=None, *, num_times=2):\n",
    "    \"\"\" repeat the decorated function by (otptional) num_times times; default=2 \"\"\"\n",
    "    def decorator_repeat(func):\n",
    "        @functools.wraps(func)\n",
    "        def wrapper_repeat(*args, **kwargs):\n",
    "            for idx in range(num_times):\n",
    "                print('repeating {}'.format(idx))\n",
    "                value = func(*args, **kwargs)\n",
    "            return value\n",
    "        return wrapper_repeat\n",
    "    \n",
    "    if _func is None:\n",
    "        # if _func is None means decorator takes arguments\n",
    "        # just return the inner decorator function\n",
    "        return decorator_repeat\n",
    "    else:\n",
    "        # if _func is not None means decorator takes no arguments\n",
    "        # returns _func decorated by the inner decorator function\n",
    "        # note that in this case num_times would use default value\n",
    "        # this is why * syntax is needed \n",
    "        # (* forces all subsequent to be keyword instead of positional arguments,\n",
    "        # thus requiring a default value)\n",
    "        return decorator_repeat(_func)\n",
    "\n",
    "@repeat(num_times=5)\n",
    "def say_whee():\n",
    "    print('whee!')\n",
    "\n",
    "@repeat\n",
    "def say_hello():\n",
    "    print('hello!')\n",
    "\n",
    "say_whee()\n",
    "say_hello()"
   ]
  },
  {
   "cell_type": "code",
   "execution_count": null,
   "metadata": {},
   "outputs": [],
   "source": []
  }
 ]
}