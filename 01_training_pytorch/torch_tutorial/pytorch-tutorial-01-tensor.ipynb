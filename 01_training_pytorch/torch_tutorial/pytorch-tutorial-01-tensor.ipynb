{
 "cells": [
  {
   "cell_type": "code",
   "execution_count": 2,
   "metadata": {},
   "outputs": [],
   "source": [
    "import torch\n",
    "import numpy as np "
   ]
  },
  {
   "cell_type": "code",
   "execution_count": 3,
   "metadata": {},
   "outputs": [],
   "source": [
    "\"\"\" Find the maximum values and corresponding indices along axis=dim in a tensor \"\"\"\n",
    "\n",
    "x = torch.empty(5,3)\n",
    "values, indices = torch.max(x,dim=1)"
   ]
  },
  {
   "cell_type": "code",
   "execution_count": 19,
   "metadata": {},
   "outputs": [],
   "source": [
    "\"\"\" Converting between tensors and ndarrays \"\"\"\n",
    "\n",
    "# convert a tensor to a ndarray\n",
    "x = torch.randn(5,3)\n",
    "y = x.numpy()\n",
    "\n",
    "# conver a ndarray to a tensor\n",
    "z = torch.from_numpy(y)"
   ]
  },
  {
   "cell_type": "code",
   "execution_count": 3,
   "metadata": {},
   "outputs": [
    {
     "output_type": "execute_result",
     "data": {
      "text/plain": "1.0"
     },
     "metadata": {},
     "execution_count": 3
    }
   ],
   "source": [
    "\"\"\" use torch.tensor.item() to return single-element tensor as a python number \"\"\"\n",
    "\n",
    "x = torch.tensor([1.0])\n",
    "x.item()"
   ]
  },
  {
   "cell_type": "code",
   "execution_count": 4,
   "metadata": {},
   "outputs": [
    {
     "output_type": "execute_result",
     "data": {
      "text/plain": "torch.Size([5, 3])"
     },
     "metadata": {},
     "execution_count": 4
    }
   ],
   "source": [
    "\"\"\" return size of a tensor \"\"\"\n",
    "\n",
    "x = torch.randn(5,3)\n",
    "x.size()\n",
    "# type(x.size())"
   ]
  },
  {
   "cell_type": "code",
   "execution_count": null,
   "metadata": {},
   "outputs": [],
   "source": []
  }
 ],
 "metadata": {
  "language_info": {
   "codemirror_mode": {
    "name": "ipython",
    "version": 3
   },
   "file_extension": ".py",
   "mimetype": "text/x-python",
   "name": "python",
   "nbconvert_exporter": "python",
   "pygments_lexer": "ipython3",
   "version": "3.6.8-final"
  },
  "orig_nbformat": 2,
  "kernelspec": {
   "name": "python3",
   "display_name": "Python 3"
  }
 },
 "nbformat": 4,
 "nbformat_minor": 2
}